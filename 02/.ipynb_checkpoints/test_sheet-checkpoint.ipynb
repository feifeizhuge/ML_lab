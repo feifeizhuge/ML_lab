{
 "cells": [
  {
   "cell_type": "code",
   "execution_count": 1,
   "metadata": {
    "collapsed": false
   },
   "outputs": [
    {
     "name": "stdout",
     "output_type": "stream",
     "text": [
      "The number of iterations performed:  2\n",
      "The number of cluster memberships: \n",
      "k=  [1 2 3]\n",
      "[[6 3 0]\n",
      " [4 3 2]\n",
      " [3 3 3]]\n",
      " The loss function value:  2.75\n"
     ]
    },
    {
     "data": {
      "image/png": "[encoded data removed]",
      "text/plain": [
       "<matplotlib.figure.Figure at 0x7fd301958f98>"
      ]
     },
     "metadata": {},
     "output_type": "display_data"
    },
    {
     "name": "stderr",
     "output_type": "stream",
     "text": [
      "./home/ubthiro/Dokumente/WirtsInf/ML_Lab_Course\n",
      "\n",
      "/Ubung/02/sheet2.py:199: RuntimeWarning: divide by zero encountered in log\n",
      "  loglik=np.log(norm_pdf(X,mu,C))\n",
      "/home/ubthiro/Dokumente/WirtsInf/ML_Lab_Course\n",
      "\n",
      "/Ubung/02/sheet2.py:182: RuntimeWarning: divide by zero encountered in log\n",
      "  tloglik=np.log(norm_pdf(X,mu,C))\n",
      "/home/ubthiro/Dokumente/WirtsInf/ML_Lab_Course\n",
      "\n",
      "/Ubung/02/sheet2.py:184: RuntimeWarning: divide by zero encountered in log\n",
      "  loggamma = np.log(np.pi*y)-np.log((np.pi*y).sum(0))\n"
     ]
    },
    {
     "name": "stdout",
     "output_type": "stream",
     "text": [
      "Number of iterations:  7\n",
      "Log likelihood  [[-303.81272933 -248.7903466  -248.21660645   -2.97487682   -2.36070932\n",
      "    -3.37159959   -2.79176701   -2.60486061   -3.31055811]\n",
      " [   4.11173285    4.11173285          -inf -175.88106744          -inf\n",
      "  -215.87946751          -inf          -inf          -inf]\n",
      " [         -inf          -inf    9.6750484           -inf          -inf\n",
      "           -inf          -inf          -inf          -inf]]\n",
      "Number of iterations:  5\n",
      "Log likelihood  [[            -inf  -6.71637835e+02  -5.52413198e+02  -2.66693310e+02\n",
      "   -2.14203961e+02  -2.51697224e+02  -4.96792718e-01  -4.96758977e-01\n",
      "   -4.96882696e-01]\n",
      " [ -1.18997363e+00  -1.18992864e+00  -1.18997363e+00  -2.71169275e+02\n",
      "   -2.70982425e+02  -3.31164731e+02  -1.96181199e+02  -2.07243674e+02\n",
      "   -2.41178454e+02]\n",
      " [ -3.30471146e+02  -2.70475735e+02  -2.48731640e+02  -4.96792718e-01\n",
      "   -4.96758977e-01  -4.96882696e-01  -2.21702983e+02  -2.74192264e+02\n",
      "   -2.36699249e+02]]\n"
     ]
    },
    {
     "name": "stderr",
     "output_type": "stream",
     "text": [
      ".."
     ]
    },
    {
     "name": "stdout",
     "output_type": "stream",
     "text": [
      "The number of iterations performed:  0\n",
      "The number of cluster memberships: \n",
      "k=  [1 2 3]\n",
      "[[6 3 0]]\n",
      " The loss function value:  40.25\n",
      "The number of iterations performed:  0\n",
      "The number of cluster memberships: \n",
      "k=  [1 2 3]\n",
      "[[3 3 3]]\n",
      " The loss function value:  2.75\n"
     ]
    },
    {
     "name": "stderr",
     "output_type": "stream",
     "text": [
      "\n",
      "----------------------------------------------------------------------\n",
      "Ran 3 tests in 0.913s\n",
      "\n",
      "OK\n"
     ]
    }
   ],
   "source": [
    "%load_ext autoreload\n",
    "%autoreload 2\n",
    "from sheet1 import *\n",
    "import matplotlib.pyplot as plt\n",
    "%run sheet2_tests\n",
    "\n"
   ]
  },
  {
   "cell_type": "code",
   "execution_count": null,
   "metadata": {
    "collapsed": true
   },
   "outputs": [],
   "source": []
  }
 ],
 "metadata": {
  "kernelspec": {
   "display_name": "Python 3",
   "language": "python",
   "name": "python3"
  },
  "language_info": {
   "codemirror_mode": {
    "name": "ipython",
    "version": 3
   },
   "file_extension": ".py",
   "mimetype": "text/x-python",
   "name": "python",
   "nbconvert_exporter": "python",
   "pygments_lexer": "ipython3",
   "version": "3.5.2"
  }
 },
 "nbformat": 4,
 "nbformat_minor": 2
}
