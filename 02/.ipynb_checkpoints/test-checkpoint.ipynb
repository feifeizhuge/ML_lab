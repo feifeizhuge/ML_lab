{
 "cells": [
  {
   "cell_type": "code",
   "execution_count": 6,
   "metadata": {
    "collapsed": false
   },
   "outputs": [],
   "source": [
    "import numpy as np\n",
    "import numpy.testing as npt\n",
    "from scipy.linalg import expm\n",
    "import matplotlib.pyplot as plt\n",
    "import scipy.spatial, scipy.linalg\n",
    "import scipy.sparse.linalg\n",
    "import itertools\n",
    "X = np.array([[0., 1., 1., 10., 10.25, 11., 10., 10.25, 11.],\n",
    "              [0., 0., 1.,  0.,   0.5,  0.,  5.,   5.5,  5.]]).T\n",
    "perfect_r =[1, 1, 1, 2, 2, 2, 0, 0, 0] \n",
    "r = np.array(perfect_r )\n",
    "K = 3"
   ]
  },
  {
   "cell_type": "code",
   "execution_count": 9,
   "metadata": {
    "collapsed": false
   },
   "outputs": [
    {
     "name": "stdout",
     "output_type": "stream",
     "text": [
      "[0 1 2]\n",
      "[[0 1]\n",
      " [0 2]\n",
      " [1 2]]\n"
     ]
    }
   ],
   "source": [
    "n = len(X)\n",
    "d = len(X[0])\n",
    "mxidx = np.max(r)\n",
    "K=np.max(r)+1\n",
    "kmloss = np.zeros(K-1)\n",
    "R = np.zeros((K-1,n)).astype(np.int64)\n",
    "R[0] = np.array(r)\n",
    "ite = 1\n",
    "checkbox = (np.arange(0,K)*np.ones((n,1))).T\n",
    "bb =(R[0]==checkbox).astype(np.float64)\n",
    "mmm=np.sum(bb,axis=1).reshape(K,1)\n",
    "BB = bb[:,:,np.newaxis]\n",
    "C = bb[:,:,np.newaxis]*X\n",
    "C = np.sum(C,axis=1)\n",
    "C = C/mmm\n",
    "c_label = np.arange(len(C))\n",
    "print(c_label)\n",
    "kmloss[0]=np.linalg.norm(BB*C[:,np.newaxis,:]-bb[:,:,np.newaxis]*X,axis=2).sum()\n",
    "mergeidx=np.zeros((K-1,2)).astype(np.int64)\n",
    "#while(K>2):\n",
    "#seq = np.arange(0,K)\n",
    "label=np.array(list(itertools.combinations(c_label,2)))\n",
    "print(label)\n",
    "brlabel = \n",
    "bllabel = label==label.reshape(len())"
   ]
  },
  {
   "cell_type": "code",
   "execution_count": 7,
   "metadata": {
    "collapsed": false
   },
   "outputs": [
    {
     "ename": "SyntaxError",
     "evalue": "invalid syntax (<ipython-input-7-e850559c872c>, line 52)",
     "output_type": "error",
     "traceback": [
      "\u001b[0;36m  File \u001b[0;32m\"<ipython-input-7-e850559c872c>\"\u001b[0;36m, line \u001b[0;32m52\u001b[0m\n\u001b[0;31m    c_label[np.where(min(bClabel)] = ite +mxidx\u001b[0m\n\u001b[0m                                 ^\u001b[0m\n\u001b[0;31mSyntaxError\u001b[0m\u001b[0;31m:\u001b[0m invalid syntax\n"
     ]
    }
   ],
   "source": [
    "n = len(X)\n",
    "d = len(X[0])\n",
    "mxidx = np.max(r)\n",
    "K=np.max(r)+1\n",
    "kmloss = np.zeros(K-1)\n",
    "R = np.zeros((K-1,n)).astype(np.int64)\n",
    "R[0] = np.array(r)\n",
    "ite = 1\n",
    "checkbox = (np.arange(0,K)*np.ones((n,1))).T\n",
    "bb =(R[0]==checkbox).astype(np.float64)\n",
    "mmm=np.sum(bb,axis=1).reshape(K,1)\n",
    "BB = bb[:,:,np.newaxis]\n",
    "C = bb[:,:,np.newaxis]*X\n",
    "C = np.sum(C,axis=1)\n",
    "C = C/mmm\n",
    "c_label = np.arange(len(C))\n",
    "print(c_label)\n",
    "kmloss[0]=np.linalg.norm(BB*C[:,np.newaxis,:]-bb[:,:,np.newaxis]*X,axis=2).sum()\n",
    "mergeidx=np.zeros((K-1,2)).astype(np.int64)\n",
    "#while(K>2):\n",
    "#seq = np.arange(0,K)\n",
    "label=np.array(list(itertools.combinations(c_label,2)))\n",
    "print(label)\n",
    "combo=(C[label[:,0]]+C[label[:,1]])/2\n",
    "\n",
    "print(lebel)\n",
    "print(combo)\n",
    "f = len(label)#number of combo\n",
    "idx=np.ones((f,K))*np.arange(0,K)\n",
    "\n",
    "newlab=label.reshape(len(label),2,1)\n",
    "newlab=np.ones((2,n))*newlab\n",
    "inridx = (newlab==R[ite-1]).astype(np.int64)\n",
    "inridx = inridx[:,0,:]+inridx[:,1,:]\n",
    "inX = inridx[:,:,np.newaxis]*X\n",
    "resizC = inridx[:,:,np.newaxis]*combo[:,np.newaxis,:]\n",
    "inD = np.linalg.norm(inX-resizC,axis=2).sum(1)\n",
    "outidx = np.ones(inridx.shape).astype(np.int64) -inridx\n",
    "outX = outidx[:,:,np.newaxis]*X\n",
    "outC=outidx[:,:,np.newaxis]*C[R[ite-1]]\n",
    "outD = np.linalg.norm(outX-outC,axis=2).sum(1)\n",
    "D = inD + outD\n",
    "minidx=np.argmin(D)\n",
    "bestCom = combo[minidx]\n",
    "bClabel= label[minidx]\n",
    "kmloss[ite] = D[minidx]\n",
    "rr=np.array(R[ite-1])\n",
    "rr[np.where(rr==max(bClabel))]=min(bClabel)\n",
    "R[ite]=rr\n",
    "C[min(bClabel)]=bestCom\n",
    "C = np.delete(C, max(bClabel), 0)\n",
    "c_label[np.where(min(bClabel)] = ite +mxidx\n",
    "c_label = np.delete(c_label, np.where(c_label==max(bClabel)), 0)\n",
    "mergeidx[ite-1][0] =  max(bClabel)\n",
    "mergeidx[ite-1][1] =  min(bClabel)  \n",
    "\n",
    "ite = ite +1\n",
    "K = K-1\n",
    "print(r)\n",
    "print(kmloss)"
   ]
  },
  {
   "cell_type": "code",
   "execution_count": 4,
   "metadata": {
    "collapsed": false
   },
   "outputs": [
    {
     "name": "stdout",
     "output_type": "stream",
     "text": [
      "[[  0.     0.  ]\n",
      " [  1.     0.  ]\n",
      " [  1.     1.  ]\n",
      " [ 10.     0.  ]\n",
      " [ 10.25   0.5 ]\n",
      " [ 11.     0.  ]\n",
      " [ 10.     5.  ]\n",
      " [ 10.25   5.5 ]\n",
      " [ 11.     5.  ]]\n"
     ]
    },
    {
     "data": {
      "text/plain": [
       "array([ 4.61729839,  2.34257429])"
      ]
     },
     "execution_count": 4,
     "metadata": {},
     "output_type": "execute_result"
    }
   ],
   "source": [
    "print(X)\n",
    "np.var(X,axis=0)**(1/2)"
   ]
  },
  {
   "cell_type": "code",
   "execution_count": 4,
   "metadata": {
    "collapsed": false
   },
   "outputs": [
    {
     "name": "stdout",
     "output_type": "stream",
     "text": [
      "[[ 2.  2.  2.]\n",
      " [ 2.  2.  2.]\n",
      " [ 2.  2.  2.]\n",
      " [ 2.  2.  2.]\n",
      " [ 2.  2.  2.]\n",
      " [ 2.  2.  2.]\n",
      " [ 2.  2.  2.]\n",
      " [ 2.  2.  2.]\n",
      " [ 2.  2.  2.]\n",
      " [ 2.  2.  2.]]\n",
      "[[ 3.  3.]\n",
      " [ 3.  3.]\n",
      " [ 3.  3.]\n",
      " [ 3.  3.]\n",
      " [ 3.  3.]\n",
      " [ 3.  3.]\n",
      " [ 3.  3.]\n",
      " [ 3.  3.]\n",
      " [ 3.  3.]\n",
      " [ 3.  3.]]\n",
      "(10, 3, 2)\n",
      "[[[ 6.  6.]\n",
      "  [ 6.  6.]\n",
      "  [ 6.  6.]]\n",
      "\n",
      " [[ 6.  6.]\n",
      "  [ 6.  6.]\n",
      "  [ 6.  6.]]\n",
      "\n",
      " [[ 6.  6.]\n",
      "  [ 6.  6.]\n",
      "  [ 6.  6.]]\n",
      "\n",
      " [[ 6.  6.]\n",
      "  [ 6.  6.]\n",
      "  [ 6.  6.]]\n",
      "\n",
      " [[ 6.  6.]\n",
      "  [ 6.  6.]\n",
      "  [ 6.  6.]]\n",
      "\n",
      " [[ 6.  6.]\n",
      "  [ 6.  6.]\n",
      "  [ 6.  6.]]\n",
      "\n",
      " [[ 6.  6.]\n",
      "  [ 6.  6.]\n",
      "  [ 6.  6.]]\n",
      "\n",
      " [[ 6.  6.]\n",
      "  [ 6.  6.]\n",
      "  [ 6.  6.]]\n",
      "\n",
      " [[ 6.  6.]\n",
      "  [ 6.  6.]\n",
      "  [ 6.  6.]]\n",
      "\n",
      " [[ 6.  6.]\n",
      "  [ 6.  6.]\n",
      "  [ 6.  6.]]]\n"
     ]
    }
   ],
   "source": [
    "Z=2*np.ones((10,3))\n",
    "D = 3*np.ones((10,2))\n",
    "R = Z[:,:,np.newaxis]*D[:,np.newaxis,:] # (10,3,1)*(10,1,2)\n",
    "print(Z)\n",
    "print(D)\n",
    "print(R.shape)\n",
    "print(R)"
   ]
  },
  {
   "cell_type": "code",
   "execution_count": 40,
   "metadata": {
    "collapsed": false
   },
   "outputs": [
    {
     "name": "stdout",
     "output_type": "stream",
     "text": [
      "3\n",
      "1\n",
      "1 1\n"
     ]
    }
   ],
   "source": [
    "c=np.argmin(mu)\n",
    "print(c)\n",
    "c = c%2\n",
    "print(c)\n",
    "r=np.argmin(mu[:,c])\n",
    "print(r,c)"
   ]
  },
  {
   "cell_type": "code",
   "execution_count": 56,
   "metadata": {
    "collapsed": false
   },
   "outputs": [],
   "source": [
    "X2 = (X**2).sum(1).reshape(n,1)*np.ones((n,k))\n",
    "\n",
    "U2 = (mu**2).sum(1).reshape(1,k) * np.ones([n,k])\n",
    "D = X2 - 2*(X.dot(mu.T)) + U2"
   ]
  },
  {
   "cell_type": "code",
   "execution_count": null,
   "metadata": {
    "collapsed": true
   },
   "outputs": [],
   "source": []
  },
  {
   "cell_type": "code",
   "execution_count": 57,
   "metadata": {
    "collapsed": false
   },
   "outputs": [
    {
     "data": {
      "text/plain": [
       "array([[   0.    ,    0.    ,    0.    ],\n",
       "       [   1.    ,    1.    ,    1.    ],\n",
       "       [   2.    ,    2.    ,    2.    ],\n",
       "       [ 100.    ,  100.    ,  100.    ],\n",
       "       [ 105.3125,  105.3125,  105.3125],\n",
       "       [ 121.    ,  121.    ,  121.    ],\n",
       "       [ 125.    ,  125.    ,  125.    ],\n",
       "       [ 135.3125,  135.3125,  135.3125],\n",
       "       [ 146.    ,  146.    ,  146.    ]])"
      ]
     },
     "execution_count": 57,
     "metadata": {},
     "output_type": "execute_result"
    }
   ],
   "source": [
    "X2"
   ]
  },
  {
   "cell_type": "code",
   "execution_count": 58,
   "metadata": {
    "collapsed": false
   },
   "outputs": [
    {
     "data": {
      "text/plain": [
       "array([[ 1.1195533 ,  0.35723118,  2.40032923],\n",
       "       [ 1.1195533 ,  0.35723118,  2.40032923],\n",
       "       [ 1.1195533 ,  0.35723118,  2.40032923],\n",
       "       [ 1.1195533 ,  0.35723118,  2.40032923],\n",
       "       [ 1.1195533 ,  0.35723118,  2.40032923],\n",
       "       [ 1.1195533 ,  0.35723118,  2.40032923],\n",
       "       [ 1.1195533 ,  0.35723118,  2.40032923],\n",
       "       [ 1.1195533 ,  0.35723118,  2.40032923],\n",
       "       [ 1.1195533 ,  0.35723118,  2.40032923]])"
      ]
     },
     "execution_count": 58,
     "metadata": {},
     "output_type": "execute_result"
    }
   ],
   "source": [
    "U2"
   ]
  },
  {
   "cell_type": "code",
   "execution_count": 59,
   "metadata": {
    "collapsed": false
   },
   "outputs": [
    {
     "data": {
      "text/plain": [
       "array([[  1.11955330e+00,   3.57231183e-01,   2.40032923e+00],\n",
       "       [  1.75910556e-02,   6.35172051e-01,   6.80636742e-01],\n",
       "       [  7.72707568e-01,   6.82515060e-01,   3.16542282e+00],\n",
       "       [  8.00999308e+01,   9.31366399e+01,   7.52034044e+01],\n",
       "       [  8.47644985e+01,   9.77922966e+01,   8.05783743e+01],\n",
       "       [  9.89979686e+01,   1.13414581e+02,   9.34837119e+01],\n",
       "       [  1.03875513e+02,   1.13373355e+02,   1.07627335e+02],\n",
       "       [  1.13540081e+02,   1.23029012e+02,   1.18002305e+02],\n",
       "       [  1.22773551e+02,   1.33651296e+02,   1.25907642e+02]])"
      ]
     },
     "execution_count": 59,
     "metadata": {},
     "output_type": "execute_result"
    }
   ],
   "source": [
    "D"
   ]
  },
  {
   "cell_type": "code",
   "execution_count": 90,
   "metadata": {
    "collapsed": false
   },
   "outputs": [
    {
     "name": "stdout",
     "output_type": "stream",
     "text": [
      "True\n",
      "True\n",
      "True\n",
      "True\n",
      "True\n",
      "True\n",
      "True\n",
      "True\n",
      "False\n",
      "9\n"
     ]
    },
    {
     "data": {
      "text/plain": [
       "False"
      ]
     },
     "execution_count": 90,
     "metadata": {},
     "output_type": "execute_result"
    }
   ],
   "source": [
    "r = np.argmin(D,axis=1)\n",
    "rr = np.array([1, 0, 1, 2, 2, 2, 0, 0, 1])\n",
    "\n",
    "for i,j in zip(r,rr):\n",
    "    print(i==j)\n",
    "boolvec=(r == rr)\n",
    "print(len(boolvec))\n",
    "sum(boolvec)\n",
    "len(boolvec)==sum(boolvec)"
   ]
  },
  {
   "cell_type": "code",
   "execution_count": 61,
   "metadata": {
    "collapsed": false
   },
   "outputs": [
    {
     "data": {
      "text/plain": [
       "array([0, 2])"
      ]
     },
     "execution_count": 61,
     "metadata": {},
     "output_type": "execute_result"
    }
   ],
   "source": [
    "np.where(r==1)[0]"
   ]
  },
  {
   "cell_type": "code",
   "execution_count": 62,
   "metadata": {
    "collapsed": false
   },
   "outputs": [
    {
     "data": {
      "text/plain": [
       "array([[  3.57231183e-01,   1.11955330e+00,   2.40032923e+00],\n",
       "       [  1.75910556e-02,   6.35172051e-01,   6.80636742e-01],\n",
       "       [  6.82515060e-01,   7.72707568e-01,   3.16542282e+00],\n",
       "       [  7.52034044e+01,   8.00999308e+01,   9.31366399e+01],\n",
       "       [  8.05783743e+01,   8.47644985e+01,   9.77922966e+01],\n",
       "       [  9.34837119e+01,   9.89979686e+01,   1.13414581e+02],\n",
       "       [  1.03875513e+02,   1.07627335e+02,   1.13373355e+02],\n",
       "       [  1.13540081e+02,   1.18002305e+02,   1.23029012e+02],\n",
       "       [  1.22773551e+02,   1.25907642e+02,   1.33651296e+02]])"
      ]
     },
     "execution_count": 62,
     "metadata": {},
     "output_type": "execute_result"
    }
   ],
   "source": [
    "np.sort(D,axis=1)"
   ]
  },
  {
   "cell_type": "code",
   "execution_count": 100,
   "metadata": {
    "collapsed": false
   },
   "outputs": [
    {
     "data": {
      "text/plain": [
       "(2, 3)"
      ]
     },
     "execution_count": 100,
     "metadata": {},
     "output_type": "execute_result"
    }
   ],
   "source": [
    "np.append([[1,2,3]],[[1,2,3]],axis=0).shape"
   ]
  },
  {
   "cell_type": "code",
   "execution_count": null,
   "metadata": {
    "collapsed": true
   },
   "outputs": [],
   "source": []
  }
 ],
 "metadata": {
  "kernelspec": {
   "display_name": "Python 3",
   "language": "python",
   "name": "python3"
  },
  "language_info": {
   "codemirror_mode": {
    "name": "ipython",
    "version": 3
   },
   "file_extension": ".py",
   "mimetype": "text/x-python",
   "name": "python",
   "nbconvert_exporter": "python",
   "pygments_lexer": "ipython3",
   "version": "3.5.2"
  }
 },
 "nbformat": 4,
 "nbformat_minor": 2
}
