{
 "cells": [
  {
   "cell_type": "code",
   "execution_count": 21,
   "metadata": {
    "collapsed": false
   },
   "outputs": [],
   "source": [
    "import numpy as np\n",
    "import numpy.testing as npt\n",
    "from scipy.linalg import expm\n",
    "import matplotlib.pyplot as plt\n",
    "import scipy.spatial, scipy.linalg\n",
    "import scipy.sparse.linalg\n",
    "from scipy.cluster.hierarchy import linkage, dendrogram\n",
    "import itertools\n",
    "%matplotlib inline\n",
    "\n",
    "#mu, r, loss = kmeans(X, k, max iter=100)\n",
    "\n",
    "#which, with respect to the rows of the n×d Matrix X, calculates the k ×d Matrix for the k Cluster\n",
    "#centroids mu as well as the n-dimensional vector r of cluster membership: the i-th entry of r should\n",
    "#contain the index of the Clusters to which the i-th datapoint belongs. It also returns the loss\n",
    "#(k-means criterion).\n",
    "X = np.array([[0., 1., 1., 10., 10.25, 11., 10., 10.25, 11.],\n",
    "              [0., 0., 1.,  0.,   0.5,  0.,  5.,   5.5,  5.]]).T\n",
    "perfect_r = [1,0,1,2,2,1,2,2,2]\n",
    "maxiter=100\n",
    "k=3"
   ]
  },
  {
   "cell_type": "code",
   "execution_count": 22,
   "metadata": {
    "collapsed": true
   },
   "outputs": [],
   "source": [
    "\n",
    "def kmeans(X,k,maxiter=100):\n",
    "    n=len(X)\n",
    "    d=len(X[0])\n",
    "    mu = (np.var(X,axis=0)**(1/2))*np.random.randn(k,d)+ np.mean(X,axis=0)\n",
    "    ite =0\n",
    "    X2 = (X**2).sum(1).reshape(n,1)*np.ones((n,k))\n",
    "    U2 = (mu**2).sum(1).reshape(1,k) * np.ones([n,k])\n",
    "    D = X2 - 2*(X.dot(mu.T)) + U2\n",
    "    muidx = np.ones(D.shape)*np.arange(k)\n",
    "    r = np.argmin(D,axis=1)\n",
    "    r = r.reshape(len(r),1)\n",
    "    member = (muidx==r).sum(0)\n",
    "    members = np.array(member).reshape(1,k)\n",
    "\n",
    "    while(ite<maxiter):\n",
    "        idx=((np.ones((n,k))*np.arange(k))==r).astype(np.int64)\n",
    "        division = (member).reshape(k,1)\n",
    "        zero = np.where(division==0)[0]\n",
    "        division[zero]=1\n",
    "        mu = ((idx.T.reshape(k,n,1)*X).sum(1))/division \n",
    "        mu[zero] = (np.var(X,axis=0)**(1/2))*np.random.randn(len(zero),d)+ np.mean(X,axis=0)\n",
    "        X2 = (X**2).sum(1).reshape(n,1)*np.ones((n,k))\n",
    "        U2 = (mu**2).sum(1).reshape(1,k) * np.ones([n,k])\n",
    "        D = X2 - 2*(X.dot(mu.T)) + U2\n",
    "        rr = np.argmin(D,axis=1).reshape(len(r),1)\n",
    "        boolvec=(r == rr)\n",
    "        if (len(boolvec)==sum(boolvec)):\n",
    "            break\n",
    "        r = rr  \n",
    "        member = ((np.ones(D.shape)*np.arange(k))==r).sum(0)\n",
    "        members = np.append(members,member.reshape(1,k),axis=0)\n",
    "\n",
    "        ite = ite +1        \n",
    "    loss = np.sum(np.sort(D,axis=1)[:,0])\n",
    "    print(\"The number of iterations performed: \",ite)\n",
    "    print(\"The number of cluster memberships: \")\n",
    "    print(\"k= \",np.arange(1,k+1))\n",
    "    print(members)\n",
    "    print(\" The loss function value: \",loss)\n",
    "    return mu,r.T[0],loss\n"
   ]
  },
  {
   "cell_type": "code",
   "execution_count": 23,
   "metadata": {
    "collapsed": true
   },
   "outputs": [],
   "source": [
    "X = np.array([[0., 1., 1., 10., 10.25, 11., 10., 10.25, 11.],\n",
    "              [0., 0., 1.,  0.,   0.5,  0.,  5.,   5.5,  5.]]).T\n",
    "perfect_r = [1,0,1,2,2,1,2,2,2]\n",
    "def test_kmeans(X):\n",
    "    worked1 = False\n",
    "    worked2 = False\n",
    "\n",
    "    for _ in range(10):\n",
    "        mu, r, _ = kmeans(X, k=3)\n",
    "        if (r[0]==r[1]==r[2]!=r[3] and r[3]==r[4]==r[5]!=r[6] and r[6]==r[7]==r[8]):\n",
    "            worked1 = True\n",
    "\n",
    "        # test one cluster center\n",
    "        if (np.linalg.norm(mu[0] - [10.41666, 0.1666]) < 0.1 or\n",
    "                np.linalg.norm(mu[1] - [10.41666, 0.1666]) < 0.1 or\n",
    "                np.linalg.norm(mu[2] - [10.41666, 0.1666]) < 0.1):\n",
    "            worked2 = True\n",
    "        if worked1 and worked2:\n",
    "            break\n",
    "    if not worked1:\n",
    "        raise AssertionError('test_kmeans cluster assignments are wrong.')\n",
    "    if not worked2:\n",
    "        raise AssertionError('test_kmeans did not find the correct cluster center.')\n",
    "    print(r)\n",
    "    print(\"ok\")"
   ]
  },
  {
   "cell_type": "code",
   "execution_count": 24,
   "metadata": {
    "collapsed": false
   },
   "outputs": [
    {
     "name": "stdout",
     "output_type": "stream",
     "text": [
      "The number of iterations performed:  0\n",
      "The number of cluster memberships: \n",
      "k=  [1 2 3]\n",
      "[[3 3 3]]\n",
      " The loss function value:  2.75\n",
      "[1 1 1 0 0 0 2 2 2]\n",
      "ok\n",
      "The number of iterations performed:  1\n",
      "The number of cluster memberships: \n",
      "k=  [1 2 3]\n",
      "[[3 0 6]\n",
      " [3 3 3]]\n",
      " The loss function value:  2.75\n"
     ]
    },
    {
     "ename": "NameError",
     "evalue": "name 'imp' is not defined",
     "output_type": "error",
     "traceback": [
      "\u001b[0;31m---------------------------------------------------------------------------\u001b[0m",
      "\u001b[0;31mNameError\u001b[0m                                 Traceback (most recent call last)",
      "\u001b[0;32m<ipython-input-24-78d126c16f41>\u001b[0m in \u001b[0;36m<module>\u001b[0;34m()\u001b[0m\n\u001b[1;32m      1\u001b[0m \u001b[0mtest_kmeans\u001b[0m\u001b[0;34m(\u001b[0m\u001b[0mX\u001b[0m\u001b[0;34m)\u001b[0m\u001b[0;34m\u001b[0m\u001b[0m\n\u001b[1;32m      2\u001b[0m \u001b[0mmu\u001b[0m\u001b[0;34m,\u001b[0m \u001b[0mr\u001b[0m\u001b[0;34m,\u001b[0m \u001b[0mloss\u001b[0m \u001b[0;34m=\u001b[0m \u001b[0mkmeans\u001b[0m\u001b[0;34m(\u001b[0m\u001b[0mX\u001b[0m\u001b[0;34m,\u001b[0m\u001b[0mk\u001b[0m\u001b[0;34m,\u001b[0m\u001b[0mmaxiter\u001b[0m\u001b[0;34m=\u001b[0m\u001b[0;36m100\u001b[0m\u001b[0;34m)\u001b[0m\u001b[0;34m\u001b[0m\u001b[0m\n\u001b[0;32m----> 3\u001b[0;31m \u001b[0mmu\u001b[0m\u001b[0;34m,\u001b[0m \u001b[0mr\u001b[0m\u001b[0;34m,\u001b[0m \u001b[0mloss\u001b[0m \u001b[0;34m=\u001b[0m \u001b[0mimp\u001b[0m\u001b[0;34m.\u001b[0m\u001b[0mkmeans\u001b[0m\u001b[0;34m(\u001b[0m\u001b[0mX\u001b[0m\u001b[0;34m,\u001b[0m \u001b[0;36m7\u001b[0m\u001b[0;34m)\u001b[0m\u001b[0;34m\u001b[0m\u001b[0m\n\u001b[0m",
      "\u001b[0;31mNameError\u001b[0m: name 'imp' is not defined"
     ]
    }
   ],
   "source": [
    "test_kmeans(X)\n",
    "mu, r, loss = kmeans(X,k,maxiter=100)\n",
    "mu, r, loss = imp.kmeans(X, 7)"
   ]
  },
  {
   "cell_type": "code",
   "execution_count": 25,
   "metadata": {
    "collapsed": false
   },
   "outputs": [
    {
     "data": {
      "text/plain": [
       "array([0, 0, 0, 2, 2, 2, 1, 1, 1])"
      ]
     },
     "execution_count": 25,
     "metadata": {},
     "output_type": "execute_result"
    }
   ],
   "source": [
    "r\n"
   ]
  },
  {
   "cell_type": "code",
   "execution_count": 26,
   "metadata": {
    "collapsed": false
   },
   "outputs": [
    {
     "data": {
      "text/plain": [
       "<matplotlib.collections.PathCollection at 0x7fc2af9bd470>"
      ]
     },
     "execution_count": 26,
     "metadata": {},
     "output_type": "execute_result"
    },
    {
     "data": {
      "image/png": "[encoded data removed]",
      "text/plain": [
       "<matplotlib.figure.Figure at 0x7fc2dea2c048>"
      ]
     },
     "metadata": {},
     "output_type": "display_data"
    }
   ],
   "source": [
    "plt.scatter(X[:,0],X[:,1])\n",
    "plt.scatter(mu[:,0],mu[:,1],40,['r','k','y'])\n",
    "mX=np.mean(X,axis=0)\n",
    "plt.scatter(mX[0],mX[1], 50, 'w')"
   ]
  },
  {
   "cell_type": "code",
   "execution_count": 27,
   "metadata": {
    "collapsed": false
   },
   "outputs": [
    {
     "data": {
      "text/plain": [
       "<matplotlib.collections.PathCollection at 0x7fc2af9204e0>"
      ]
     },
     "execution_count": 27,
     "metadata": {},
     "output_type": "execute_result"
    },
    {
     "data": {
      "image/png": "[encoded data removed]",
      "text/plain": [
       "<matplotlib.figure.Figure at 0x7fc2af949a90>"
      ]
     },
     "metadata": {},
     "output_type": "display_data"
    }
   ],
   "source": [
    "tmu = 5*np.random.randn(3,2)+ np.mean(X,axis=0)# +np.random.exponential(scale=0.2, size=(3,2))\n",
    "plt.scatter(tmu[:,0],tmu[:,0])"
   ]
  },
  {
   "cell_type": "markdown",
   "metadata": {},
   "source": [
    "## Assignment 2 (10 point)"
   ]
  },
  {
   "cell_type": "code",
   "execution_count": 28,
   "metadata": {
    "collapsed": false
   },
   "outputs": [
    {
     "name": "stdout",
     "output_type": "stream",
     "text": [
      "The number of iterations performed:  8\n",
      "The number of cluster memberships: \n",
      "k=  [1 2 3 4 5 6 7]\n",
      "[[145   0   0  68 189  31  67]\n",
      " [ 88  19  14  93 190  34  62]\n",
      " [ 84  29  34  87 170  37  59]\n",
      " [ 85  40  77  75 125  39  59]\n",
      " [ 90  44 100  66 100  39  61]\n",
      " [ 94  48 100  58 100  39  61]\n",
      " [ 95  49 100  56 100  39  61]\n",
      " [ 95  53 100  52 100  39  61]\n",
      " [ 95  55 100  50 100  39  61]]\n",
      " The loss function value:  48.9299594993\n"
     ]
    }
   ],
   "source": [
    "import numpy as np\n",
    "import numpy.testing as npt\n",
    "from scipy.linalg import expm\n",
    "import matplotlib.pyplot as plt\n",
    "import scipy.spatial, scipy.linalg\n",
    "import scipy.sparse.linalg\n",
    "from scipy.cluster.hierarchy import linkage, dendrogram\n",
    "import itertools\n",
    "import sheet2 as imp\n",
    "%matplotlib inline\n",
    "\n",
    "XX = np.array([[0., 1., 1., 10., 10.25, 11., 10., 10.25, 11.],\n",
    "              [0., 0., 1.,  0.,   0.5,  0.,  5.,   5.5,  5.]]).T\n",
    "perfect_r =[1, 1, 1, 2, 2, 2, 0, 0, 0] # [1,0,1,2,2,1,2,2,2]\n",
    "# R, kmloss, mergeidx = kmeans agglo(X, r)\n",
    "rr = np.array(perfect_r)\n",
    "gaus5 =np.load('5_gaussians.npy')\n",
    "X = gaus5.T\n",
    "mu, r, loss = imp.kmeans(X, 7)"
   ]
  },
  {
   "cell_type": "code",
   "execution_count": 29,
   "metadata": {
    "collapsed": false
   },
   "outputs": [
    {
     "data": {
      "text/plain": [
       "array([[  3.        ,   4.        ,   0.55901699,   2.        ],\n",
       "       [  6.        ,   7.        ,   0.55901699,   2.        ],\n",
       "       [  5.        ,   9.        ,   0.90138782,   3.        ],\n",
       "       [  8.        ,  10.        ,   0.90138782,   3.        ],\n",
       "       [  0.        ,   2.        ,   1.        ,   2.        ],\n",
       "       [  1.        ,  13.        ,   1.        ,   3.        ],\n",
       "       [ 11.        ,  12.        ,   4.50693909,   6.        ],\n",
       "       [ 14.        ,  15.        ,   9.        ,   9.        ]])"
      ]
     },
     "execution_count": 29,
     "metadata": {},
     "output_type": "execute_result"
    }
   ],
   "source": [
    "scipy.cluster.hierarchy.linkage(XX)"
   ]
  },
  {
   "cell_type": "code",
   "execution_count": 30,
   "metadata": {
    "collapsed": false
   },
   "outputs": [],
   "source": [
    "def kmeans_agglo(X, r):\n",
    "    n = len(X)\n",
    "    d = len(X[0])\n",
    "    mxidx=np.max(r)\n",
    "    K=len(set(r))\n",
    "    if(K<2):\n",
    "        raise AssertionError('Number of cluster shuld be more than 1')\n",
    "    kmloss = np.zeros(K)\n",
    "    R = np.zeros((K-1,n)).astype(np.int64)\n",
    "    R[0] = np.array(r)\n",
    "    RR = np.zeros((K-1,n)).astype(np.int64)\n",
    "    RR[0] = np.array(r)\n",
    "    ite = 1\n",
    "    checkbox = (np.arange(0,K)*np.ones((n,1))).T\n",
    "    bb =(R[0]==checkbox).astype(np.float64)\n",
    "    mmm=np.sum(bb,axis=1).reshape(K,1)\n",
    "    BB = bb[:,:,np.newaxis]\n",
    "    C = bb[:,:,np.newaxis]*X\n",
    "    C = np.sum(C,axis=1)\n",
    "    C = C/mmm\n",
    "    clabel = np.arange(K)\n",
    "    kmloss[0]=np.linalg.norm(BB*C[:,np.newaxis,:]-bb[:,:,np.newaxis]*X,axis=2).sum()\n",
    "    mergeidx=np.zeros((K-1,2)).astype(np.int64)\n",
    "    while(K>2):\n",
    "        seq = np.arange(0,K)\n",
    "        label=np.array(list(itertools.combinations(seq,2)))\n",
    "        combo=(C[label[:,0]]+C[label[:,1]])/2\n",
    "        cmblabel = np.array((clabel[label[:,0]],clabel[label[:,1]])).T\n",
    "        f = len(cmblabel)#number of combo\n",
    "        newlab=cmblabel.reshape(len(cmblabel),2,1)\n",
    "        newlab=np.ones((2,n))*newlab\n",
    "        inridx = (newlab==R[ite-1]).astype(np.int64)\n",
    "        inridx = inridx[:,0,:]+inridx[:,1,:]\n",
    "        inX = inridx[:,:,np.newaxis]*X\n",
    "        resizC = inridx[:,:,np.newaxis]*combo[:,np.newaxis,:]\n",
    "        inD = np.linalg.norm(inX-resizC,axis=2).sum(1)\n",
    "        outidx = np.ones(inridx.shape).astype(np.int64) -inridx\n",
    "        outX = outidx[:,:,np.newaxis]*X\n",
    "        g= lambda x: np.where(clabel==x)\n",
    "        adress = np.array(list(map(g,R[ite-1])))\n",
    "        outC=outidx[:,:,np.newaxis]*C[adress].reshape(n,2)\n",
    "        outD = np.linalg.norm(outX-outC,axis=2).sum(1)\n",
    "        D = inD + outD\n",
    "        minidx=np.argmin(D)\n",
    "        bestCom = combo[minidx]\n",
    "        bClabel= cmblabel[minidx]\n",
    "        kmloss[ite] = D[minidx]\n",
    "        rr=np.array(R[ite-1])\n",
    "        rr[np.where(rr==max(bClabel))]=ite+mxidx\n",
    "        rr[np.where(rr==min(bClabel))]=ite+mxidx\n",
    "        R[ite]=rr\n",
    "        C[ np.where(min(bClabel))]=bestCom\n",
    "        C = np.delete(C, np.where(clabel==max(bClabel)), 0)\n",
    "        clabel[np.where(clabel==min(bClabel))]=ite+mxidx\n",
    "        clabel = np.delete(clabel, np.where(clabel==max(bClabel)), 0)\n",
    "        mergeidx[ite-1][1] =  max(bClabel)\n",
    "        mergeidx[ite-1][0] =  min(bClabel)  \n",
    "        ite = ite +1\n",
    "        K=K-1\n",
    "    lstmerge=(C[0]+C[1])/2\n",
    "    kmloss[len(kmloss)-1]=np.linalg.norm(X-lstmerge,axis=1).sum()\n",
    "    lstlbl=set(R[len(R)-1])\n",
    "    mergeidx[len(mergeidx)-1][1]=max(lstlbl)\n",
    "    mergeidx[len(mergeidx)-1][0]=min(lstlbl)\n",
    "    return R, kmloss, mergeidx"
   ]
  },
  {
   "cell_type": "code",
   "execution_count": 31,
   "metadata": {
    "collapsed": false
   },
   "outputs": [
    {
     "name": "stdout",
     "output_type": "stream",
     "text": [
      "[[ 4  4  4 ...,  6  6  5]\n",
      " [ 4  4  4 ...,  7  7  7]\n",
      " [ 4  4  4 ...,  7  7  7]\n",
      " [ 4  4  4 ...,  7  7  7]\n",
      " [10 10 10 ...,  7  7  7]\n",
      " [11 11 11 ...,  7  7  7]]\n",
      "[[ 5  6]\n",
      " [ 0  3]\n",
      " [ 1  8]\n",
      " [ 2  4]\n",
      " [ 9 10]\n",
      " [ 7 11]]\n"
     ]
    }
   ],
   "source": [
    "R, kmloss, mergeidx = kmeans_agglo(X, r)\n",
    "print(R)\n",
    "print(mergeidx)"
   ]
  },
  {
   "cell_type": "code",
   "execution_count": 32,
   "metadata": {
    "collapsed": false
   },
   "outputs": [],
   "source": [
    "def agglo_dendro(kmloss, mergeidx):\n",
    "    k = len(mergeidx)\n",
    "    num=np.ones(k*2+1)\n",
    "    for i in range(k):\n",
    "        num[i+k+1]=num[mergeidx[i][0]] +num[mergeidx[i][1]]\n",
    "    for i in range(k+1):\n",
    "        num = np.delete(num,0)\n",
    "    num= num.reshape(k,1)\n",
    "    kmloss2 = np.delete(kmloss,0).reshape(len(kmloss)-1,1)\n",
    "    ergb=np.append(np.append(mergeidx,kmloss2,1),num,1)\n",
    "    scipy.cluster.hierarchy.dendrogram(ergb)\n",
    "    plt.show()"
   ]
  },
  {
   "cell_type": "code",
   "execution_count": 33,
   "metadata": {
    "collapsed": false
   },
   "outputs": [
    {
     "name": "stdout",
     "output_type": "stream",
     "text": [
      "[ 131.75825728  141.8496906   335.77206172  400.04435308  298.82727833\n",
      "  676.27984005  882.98373886]\n"
     ]
    },
    {
     "data": {
      "image/png": "[encoded data removed]",
      "text/plain": [
       "<matplotlib.figure.Figure at 0x7fc2af8d1ac8>"
      ]
     },
     "metadata": {},
     "output_type": "display_data"
    }
   ],
   "source": [
    "R, kmloss, mergeidx = kmeans_agglo(X, r)\n",
    "print(kmloss)\n",
    "agglo_dendro(kmloss, mergeidx)"
   ]
  },
  {
   "cell_type": "code",
   "execution_count": 34,
   "metadata": {
    "collapsed": true
   },
   "outputs": [],
   "source": [
    "def test_agglo(X):\n",
    "    worked = False\n",
    "    for _ in range(10):\n",
    "        mu, r, _ = kmeans(X, k=3)\n",
    "        r = r.flatten()\n",
    "        R, kmloss, mergeidx = kmeans_agglo(X, r)\n",
    "        mergeidx = np.array(mergeidx, dtype=int)\n",
    "        if set([int(r[3]), int(r[6])]) == set(mergeidx[0, :]):\n",
    "            worked = True\n",
    "            agglo_dendro(kmloss, mergeidx)\n",
    "            break\n",
    "    if not worked:\n",
    "        raise AssertionError('test_agglo: the first merge is not correct.')\n",
    "    print(\"test_aggro_ok\")"
   ]
  },
  {
   "cell_type": "code",
   "execution_count": 35,
   "metadata": {
    "collapsed": false
   },
   "outputs": [
    {
     "name": "stdout",
     "output_type": "stream",
     "text": [
      "The number of iterations performed:  3\n",
      "The number of cluster memberships: \n",
      "k=  [1 2 3]\n",
      "[[202  64 234]\n",
      " [201 174 125]\n",
      " [200 199 101]\n",
      " [200 200 100]]\n",
      " The loss function value:  161.425259008\n",
      "The number of iterations performed:  4\n",
      "The number of cluster memberships: \n",
      "k=  [1 2 3]\n",
      "[[173 226 101]\n",
      " [184 202 114]\n",
      " [132 200 168]\n",
      " [102 200 198]\n",
      " [100 200 200]]\n",
      " The loss function value:  161.425259008\n",
      "The number of iterations performed:  2\n",
      "The number of cluster memberships: \n",
      "k=  [1 2 3]\n",
      "[[261 200  39]\n",
      " [140 200 160]\n",
      " [100 200 200]]\n",
      " The loss function value:  161.425259008\n",
      "The number of iterations performed:  8\n",
      "The number of cluster memberships: \n",
      "k=  [1 2 3]\n",
      "[[427  66   7]\n",
      " [302 188  10]\n",
      " [298 178  24]\n",
      " [298 157  45]\n",
      " [292 139  69]\n",
      " [277 121 102]\n",
      " [241 122 137]\n",
      " [200 175 125]\n",
      " [200 200 100]]\n",
      " The loss function value:  161.425259008\n",
      "The number of iterations performed:  8\n",
      "The number of cluster memberships: \n",
      "k=  [1 2 3]\n",
      "[[ 91 300 109]\n",
      " [100 298 102]\n",
      " [100 289 111]\n",
      " [100 274 126]\n",
      " [100 248 152]\n",
      " [103 211 186]\n",
      " [140 201 159]\n",
      " [191 200 109]\n",
      " [200 200 100]]\n",
      " The loss function value:  161.425259008\n",
      "The number of iterations performed:  2\n",
      "The number of cluster memberships: \n",
      "k=  [1 2 3]\n",
      "[[319  99  82]\n",
      " [213 100 187]\n",
      " [200 100 200]]\n",
      " The loss function value:  161.425259008\n",
      "The number of iterations performed:  1\n",
      "The number of cluster memberships: \n",
      "k=  [1 2 3]\n",
      "[[183 200 117]\n",
      " [200 200 100]]\n",
      " The loss function value:  161.425259008\n",
      "The number of iterations performed:  4\n",
      "The number of cluster memberships: \n",
      "k=  [1 2 3]\n",
      "[[ 25  76 399]\n",
      " [ 42  70 388]\n",
      " [ 95  82 323]\n",
      " [198  99 203]\n",
      " [200 100 200]]\n",
      " The loss function value:  161.425259008\n",
      "The number of iterations performed:  1\n",
      "The number of cluster memberships: \n",
      "k=  [1 2 3]\n",
      "[[ 99 205 196]\n",
      " [100 200 200]]\n",
      " The loss function value:  161.425259008\n",
      "The number of iterations performed:  1\n",
      "The number of cluster memberships: \n",
      "k=  [1 2 3]\n",
      "[[202 198 100]\n",
      " [200 200 100]]\n",
      " The loss function value:  161.425259008\n"
     ]
    },
    {
     "ename": "AssertionError",
     "evalue": "test_agglo: the first merge is not correct.",
     "output_type": "error",
     "traceback": [
      "\u001b[0;31m---------------------------------------------------------------------------\u001b[0m",
      "\u001b[0;31mAssertionError\u001b[0m                            Traceback (most recent call last)",
      "\u001b[0;32m<ipython-input-35-250dcc11b87a>\u001b[0m in \u001b[0;36m<module>\u001b[0;34m()\u001b[0m\n\u001b[0;32m----> 1\u001b[0;31m \u001b[0mtest_agglo\u001b[0m\u001b[0;34m(\u001b[0m\u001b[0mX\u001b[0m\u001b[0;34m)\u001b[0m\u001b[0;34m\u001b[0m\u001b[0m\n\u001b[0m",
      "\u001b[0;32m<ipython-input-34-7289be1d4b79>\u001b[0m in \u001b[0;36mtest_agglo\u001b[0;34m(X)\u001b[0m\n\u001b[1;32m     11\u001b[0m             \u001b[0;32mbreak\u001b[0m\u001b[0;34m\u001b[0m\u001b[0m\n\u001b[1;32m     12\u001b[0m     \u001b[0;32mif\u001b[0m \u001b[0;32mnot\u001b[0m \u001b[0mworked\u001b[0m\u001b[0;34m:\u001b[0m\u001b[0;34m\u001b[0m\u001b[0m\n\u001b[0;32m---> 13\u001b[0;31m         \u001b[0;32mraise\u001b[0m \u001b[0mAssertionError\u001b[0m\u001b[0;34m(\u001b[0m\u001b[0;34m'test_agglo: the first merge is not correct.'\u001b[0m\u001b[0;34m)\u001b[0m\u001b[0;34m\u001b[0m\u001b[0m\n\u001b[0m\u001b[1;32m     14\u001b[0m     \u001b[0mprint\u001b[0m\u001b[0;34m(\u001b[0m\u001b[0;34m\"test_aggro_ok\"\u001b[0m\u001b[0;34m)\u001b[0m\u001b[0;34m\u001b[0m\u001b[0m\n",
      "\u001b[0;31mAssertionError\u001b[0m: test_agglo: the first merge is not correct."
     ]
    }
   ],
   "source": [
    "test_agglo(X)"
   ]
  },
  {
   "cell_type": "markdown",
   "metadata": {},
   "source": [
    "## Assignment 4 (5 points"
   ]
  },
  {
   "cell_type": "code",
   "execution_count": 36,
   "metadata": {
    "collapsed": true
   },
   "outputs": [],
   "source": [
    "import numpy as np\n",
    "import numpy.testing as npt\n",
    "from scipy.linalg import expm\n",
    "import matplotlib.pyplot as plt\n",
    "import scipy.spatial, scipy.linalg\n",
    "import scipy.sparse.linalg\n",
    "import math\n",
    "from scipy.cluster.hierarchy import linkage, dendrogram\n",
    "import itertools\n",
    "from functools import reduce\n",
    "%matplotlib inline\n",
    "X = np.array([[0., 1., 1., 10., 10.25, 11., 10., 10.25, 11.],\n",
    "              [0., 0., 1.,  0.,   0.5,  0.,  5.,   5.5,  5.]]).T\n",
    "k = 3"
   ]
  },
  {
   "cell_type": "code",
   "execution_count": 37,
   "metadata": {
    "collapsed": false
   },
   "outputs": [],
   "source": [
    "def norm_pdf(X, mu, C):\n",
    "    C_inv= np.linalg.solve(C,np.ones((k,1,1))*np.eye(d))\n",
    "    c1 = C_inv[:,:,0][:,np.newaxis,:]*np.ones((k,n,d))\n",
    "    c2 = C_inv[:,:,1][:,np.newaxis,:]*np.ones((k,n,d))\n",
    "    n=len(X)\n",
    "    d=len(X[0])\n",
    "    k =mu.shape[0]\n",
    "    XX=np.ones((k,1,1))*X\n",
    "    bmu = mu[:,np.newaxis,:]*np.ones((k,n,d))\n",
    "    XX=XX-bmu\n",
    "    X1=(XX*c1).sum(2)\n",
    "    X2=(XX*c2).sum(2)\n",
    "    X3=np.append(X1[:,:,np.newaxis],X2[:,:,np.newaxis],2)\n",
    "    y =np.exp(-((XX*X3).sum(2))/2)/((np.sqrt((2*np.pi)**d)*np.sqrt(np.linalg.det(C))).reshape(k,1))\n",
    "    return y"
   ]
  },
  {
   "cell_type": "code",
   "execution_count": 38,
   "metadata": {
    "collapsed": true
   },
   "outputs": [],
   "source": [
    "def norm_pdf_npinv(X, mu, C):\n",
    "    C_inv= np.linalg.solve(C)\n",
    "    c1 = C_inv[:,:,0][:,np.newaxis,:]*np.ones((k,n,d))\n",
    "    c2 = C_inv[:,:,1][:,np.newaxis,:]*np.ones((k,n,d))\n",
    "    n=len(X)\n",
    "    d=len(X[0])\n",
    "    k =mu.shape[0]\n",
    "    XX=np.ones((k,1,1))*X\n",
    "    bmu = mu[:,np.newaxis,:]*np.ones((k,n,d))\n",
    "    XX=XX-bmu\n",
    "    X1=(XX*c1).sum(2)\n",
    "    X2=(XX*c2).sum(2)\n",
    "    X3=np.append(X1[:,:,np.newaxis],X2[:,:,np.newaxis],2)\n",
    "    y =np.exp(-((XX*X3).sum(2))/2)/((np.sqrt((2*np.pi)**d)*np.sqrt(np.linalg.det(C))).reshape(k,1))\n",
    "    return y"
   ]
  },
  {
   "cell_type": "code",
   "execution_count": 39,
   "metadata": {
    "collapsed": false
   },
   "outputs": [
    {
     "name": "stdout",
     "output_type": "stream",
     "text": [
      "A^(-1) (numpy.linalg.inv()): 0.008431 sec.\n",
      "A^)(-1) (numpy.linalg.solve()): 0.001167 sec.\n"
     ]
    }
   ],
   "source": [
    "import time\n",
    "n = len(X)\n",
    "d = len(X[0])\n",
    "\n",
    "num = np.random.choice(len(X),k,replace=False)\n",
    "mu = X[num]\n",
    "C = np.random.rand(k,d,d)\n",
    "\n",
    "t1 = time.time()\n",
    "np.linalg.inv(C)\n",
    "t2 = time.time()\n",
    "\n",
    "t3 = time.time()\n",
    "np.linalg.solve(C,np.ones((k,1,1))*np.eye(d))\n",
    "t4 = time.time()\n",
    "\n",
    "print (\"A^(-1) (numpy.linalg.inv()): %f sec.\" % (t2 - t1))\n",
    "print (\"A^)(-1) (numpy.linalg.solve()): %f sec.\" % (t4 - t3))"
   ]
  },
  {
   "cell_type": "code",
   "execution_count": 40,
   "metadata": {
    "collapsed": false
   },
   "outputs": [
    {
     "name": "stdout",
     "output_type": "stream",
     "text": [
      "[[  0.        0.        0.        0.        0.        0.        0.        0.\n",
      "    0.     ]\n",
      " [  0.        0.5       0.        5.        4.875     5.5       2.5       2.375\n",
      "    3.     ]\n",
      " [  0.        0.        0.        0.        0.        0.        0.        0.\n",
      "    0.     ]\n",
      " [  0.        5.        0.       50.       48.75     55.       25.       23.75\n",
      "   30.     ]\n",
      " [  0.        4.875     0.       48.75     47.53125  53.625    24.375\n",
      "   23.15625  29.25   ]\n",
      " [  0.        5.5       0.       55.       53.625    60.5      27.5      26.125\n",
      "   33.     ]\n",
      " [  0.        2.5       0.       25.       24.375    27.5      12.5      11.875\n",
      "   15.     ]\n",
      " [  0.        2.375     0.       23.75     23.15625  26.125    11.875\n",
      "   11.28125  14.25   ]\n",
      " [  0.        3.        0.       30.       29.25     33.       15.       14.25\n",
      "   18.     ]]\n"
     ]
    }
   ],
   "source": [
    "print(np.cov(X))"
   ]
  },
  {
   "cell_type": "code",
   "execution_count": 41,
   "metadata": {
    "collapsed": false
   },
   "outputs": [
    {
     "name": "stdout",
     "output_type": "stream",
     "text": [
      "[0 1 2 3 4 5 6 7 8 0 1 2 3 4 5 6 7 8 0 1 2 3 4 5 6 7 8]\n",
      "[[  0.     0.  ]\n",
      " [  1.     0.  ]\n",
      " [  1.     1.  ]\n",
      " [ 10.     0.  ]\n",
      " [ 10.25   0.5 ]\n",
      " [ 11.     0.  ]\n",
      " [ 10.     5.  ]\n",
      " [ 10.25   5.5 ]\n",
      " [ 11.     5.  ]]\n",
      "[[[  0.     0.  ]\n",
      "  [  1.     0.  ]\n",
      "  [  1.     1.  ]\n",
      "  [ 10.     0.  ]\n",
      "  [ 10.25   0.5 ]\n",
      "  [ 11.     0.  ]\n",
      "  [ 10.     5.  ]\n",
      "  [ 10.25   5.5 ]\n",
      "  [ 11.     5.  ]]\n",
      "\n",
      " [[ -1.    -1.  ]\n",
      "  [  0.    -1.  ]\n",
      "  [  0.     0.  ]\n",
      "  [  9.    -1.  ]\n",
      "  [  9.25  -0.5 ]\n",
      "  [ 10.    -1.  ]\n",
      "  [  9.     4.  ]\n",
      "  [  9.25   4.5 ]\n",
      "  [ 10.     4.  ]]\n",
      "\n",
      " [[-11.    -5.  ]\n",
      "  [-10.    -5.  ]\n",
      "  [-10.    -4.  ]\n",
      "  [ -1.    -5.  ]\n",
      "  [ -0.75  -4.5 ]\n",
      "  [  0.    -5.  ]\n",
      "  [ -1.     0.  ]\n",
      "  [ -0.75   0.5 ]\n",
      "  [  0.     0.  ]]]\n"
     ]
    }
   ],
   "source": [
    "seq=np.arange(k*n)\n",
    "seqmu=np.sort(seq%k)\n",
    "seqX = seq%n\n",
    "print(seqX)\n",
    "g=lambda x,y:x-y\n",
    "print(X)\n",
    "print(g(X[seqX],mu[seqmu]).reshape(k,n,2))"
   ]
  },
  {
   "cell_type": "code",
   "execution_count": 42,
   "metadata": {
    "collapsed": false
   },
   "outputs": [
    {
     "name": "stdout",
     "output_type": "stream",
     "text": [
      "[[ 64.5  17. ]\n",
      " [ 65.5  18. ]\n",
      " [ 75.5  22. ]]\n"
     ]
    },
    {
     "data": {
      "text/plain": [
       "array([[ 0.05345806, -0.04942916],\n",
       "       [-0.04942916,  0.20768366]])"
      ]
     },
     "execution_count": 42,
     "metadata": {},
     "output_type": "execute_result"
    }
   ],
   "source": [
    "XX = reduce(lambda x,y:x+y, X,mu)\n",
    "print(XX)\n",
    "C = np.cov(X.T)\n",
    "C_inv = np.linalg.solve(C, np.eye(len(C)))\n",
    "C_inv"
   ]
  },
  {
   "cell_type": "markdown",
   "metadata": {},
   "source": [
    "## Assignment 5 (15 points)"
   ]
  },
  {
   "cell_type": "code",
   "execution_count": 43,
   "metadata": {
    "collapsed": false
   },
   "outputs": [],
   "source": [
    "import numpy as np\n",
    "import numpy.testing as npt\n",
    "from scipy.linalg import expm\n",
    "import matplotlib.pyplot as plt\n",
    "from matplotlib.transforms import Affine2D\n",
    "from matplotlib.collections import PatchCollection\n",
    "import scipy.spatial, scipy.linalg\n",
    "import scipy.sparse.linalg\n",
    "from scipy.misc import logsumexp\n",
    "from scipy.cluster.hierarchy import linkage, dendrogram\n",
    "import itertools\n",
    "%matplotlib inline\n",
    "X = np.array([[0., 1., 1., 10., 10.25, 11., 10., 10.25, 11.],\n",
    "              [0., 0., 1.,  0.,   0.5,  0.,  5.,   5.5,  5.]]).T\n",
    "perfect_r = [1,0,1,2,2,1,2,2,2]\n",
    "k = 3\n",
    "#pi, mu, sigma, loglik = em_gmm(X, k, max_iter=100, init_kmeans=False, tol=1e-5)\n"
   ]
  },
  {
   "cell_type": "code",
   "execution_count": 44,
   "metadata": {
    "collapsed": true
   },
   "outputs": [],
   "source": [
    "def norm_pdf(X, mu, C):\n",
    "    n=len(X)\n",
    "    d=len(X[0])\n",
    "    k =mu.shape[0]\n",
    "    C_inv= np.linalg.solve(C,np.ones((k,1,1))*np.eye(d))\n",
    "    c1 = C_inv[:,:,0][:,np.newaxis,:]*np.ones((k,n,d))\n",
    "    c2 = C_inv[:,:,1][:,np.newaxis,:]*np.ones((k,n,d))\n",
    "    XX=np.ones((k,1,1))*X\n",
    "    bmu = mu[:,np.newaxis,:]*np.ones((k,n,d))\n",
    "    XX=XX-bmu\n",
    "    X1=(XX*c1).sum(2)\n",
    "    X2=(XX*c2).sum(2)\n",
    "    X3=np.append(X1[:,:,np.newaxis],X2[:,:,np.newaxis],2)\n",
    "    y =np.exp(-((XX*X3).sum(2))/2)/((np.sqrt((2*np.pi)**d)*np.sqrt(np.linalg.det(C))).reshape(k,1))\n",
    "    return y"
   ]
  },
  {
   "cell_type": "code",
   "execution_count": 64,
   "metadata": {
    "collapsed": false
   },
   "outputs": [],
   "source": [
    "def em_gmm(X, k, max_iter=100, init_kmeans=False, tol=1e-5):\n",
    "    n = len(X)\n",
    "    d = len(X[0])\n",
    "    pi = np.ones((k,1))/k\n",
    "    num = np.random.choice(len(X),k,replace=False)\n",
    "    mu = X[num]\n",
    "    if(init_kmeans==True):\n",
    "        mu, r, loss = kmeans(X, k)\n",
    "    C = np.ones((k,1,1))*np.eye(d)\n",
    "    converged = False\n",
    "    maxite = 100\n",
    "    ite = 0\n",
    "    eps = 0.001\n",
    "    while( ite<maxite):\n",
    "        tloglik=np.log(norm_pdf(X,mu,C))\n",
    "        y = norm_pdf(X,mu,C)\n",
    "        loggamma = np.log(np.pi*y)-np.log((np.pi*y).sum(0))\n",
    "        ###\n",
    "        #loggamma =  logsumexp(loggamma)\n",
    "        ###\n",
    "        gamma = np.exp(loggamma)\n",
    "        Nk = gamma.sum(1)\n",
    "        pi = Nk/n\n",
    "        mu =(((X.T*np.ones((k,1,1)))*gamma[:,np.newaxis,:]).sum(2))/Nk.reshape(k,1)\n",
    "        XX=np.ones((k,1,1))*X\n",
    "        bmu = mu[:,np.newaxis,:]*np.ones((k,n,d))\n",
    "        XX=XX-bmu\n",
    "        S=XX[:,:,:,np.newaxis].transpose(0,1,3,2)*XX[:,:,:,np.newaxis]\n",
    "        S=S*gamma[:,:,np.newaxis,np.newaxis]\n",
    "        C = S.sum(1)/Nk[:,np.newaxis,np.newaxis]\n",
    "        C = C+np.ones((k,1,1))*(tol*np.eye(d))\n",
    "        loglik=np.log(norm_pdf(X,mu,C))\n",
    "        error = np.linalg.norm(tloglik -loglik)\n",
    "        if(error<eps):\n",
    "            break\n",
    "        print(error)\n",
    "        #checklog = (tloglik==loglik).astype(np.int64) \n",
    "        #if (((np.cumprod(checklog.shape)[-1])==np.sum(checklog)) ):\n",
    "        #    break\n",
    "        ite = ite+1\n",
    "    \n",
    "    print(\"Number of iterations: \",ite)\n",
    "    print(\"Log likelihood: \")\n",
    "    print(loglik)\n",
    "    print(\"loggamma:  \")\n",
    "    print(loggamma)\n",
    "    return pi, mu, C, loglik "
   ]
  },
  {
   "cell_type": "markdown",
   "metadata": {
    "collapsed": false
   },
   "source": [
    "## Assignment 6 (5 point)\n",
    "Write a function that visualizes the GMM for two-dimensional data: \n",
    "\n",
    "plot gmm solution(X, mu, sigma) \n",
    "\n",
    "The figure should show: \n",
    "\n",
    "• the data as a scatter plot; \n",
    "\n",
    "• the mean vectors as red crosses; and \n",
    "\n",
    "• the covariance matrices as ellipses (centered at the mean). "
   ]
  },
  {
   "cell_type": "code",
   "execution_count": 71,
   "metadata": {
    "collapsed": false
   },
   "outputs": [],
   "source": [
    "def to_transform(mu, sigma):\n",
    "    val, vec = np.linalg.eigh(sigma)\n",
    "    trans = np.diag(np.sqrt(val)).dot(vec)\n",
    "    return Affine2D.from_values(*trans.flatten(), e=mu[0], f=mu[1])\n",
    "def plot_gmm_solution(X, mu, sigma):\n",
    "    plt.clf()\n",
    "    plt.scatter(X[:,0],X[:,1])\n",
    "    plt.scatter(mu[:,0],mu[:,1],s=80,c='red',marker='+')\n",
    "    ax = plt.gca()\n",
    "    circles = [ plt.Circle( (0, 0), radius=3, transform=to_transform(m, sgm)) for m, sgm in zip(mu, sigma)]\n",
    "    ax.add_collection(PatchCollection(circles, alpha=0.2))\n"
   ]
  },
  {
   "cell_type": "code",
   "execution_count": 77,
   "metadata": {
    "collapsed": true
   },
   "outputs": [],
   "source": [
    "gaus5 =np.load('5_gaussians.npy')\n",
    "X = gaus5.T\n",
    "k=5"
   ]
  },
  {
   "cell_type": "code",
   "execution_count": 78,
   "metadata": {
    "collapsed": false
   },
   "outputs": [
    {
     "name": "stdout",
     "output_type": "stream",
     "text": [
      "133.559270628\n",
      "280.12747469\n",
      "338.973994889\n",
      "330.517793899\n",
      "354.537324694\n",
      "232.943475395\n",
      "165.270164415\n",
      "141.555829567\n",
      "172.775245207\n",
      "264.948699915\n",
      "138.51890858\n",
      "243.27158373\n",
      "919.509795992\n",
      "2124.85318931\n",
      "549.914734956\n",
      "579.454652694\n",
      "88.6646931578\n",
      "9.48224006114\n",
      "4.90039326204\n",
      "2.11391998053\n",
      "0.885471569278\n",
      "0.369580697677\n",
      "0.154187612195\n",
      "0.0643223972747\n",
      "0.0268330428199\n",
      "0.0111937681063\n",
      "0.00466962746714\n",
      "0.00194799567332\n",
      "Number of iterations:  28\n",
      "Log likelihood: \n",
      "[[ -1.15450148e+02  -4.28750728e+01  -1.01388890e+02 ...,  -3.77636023e+01\n",
      "   -1.19294473e+02  -1.18552277e+02]\n",
      " [ -6.24413713e+01  -5.51778374e+01  -6.73203606e+01 ...,  -2.61746072e+01\n",
      "   -6.97653274e+01  -6.44282912e+01]\n",
      " [ -9.63260029e+01  -1.17431987e+02  -1.16289399e+02 ...,  -1.02188231e+02\n",
      "   -1.65858637e+02  -1.40901731e+02]\n",
      " [ -4.80043881e+01  -4.63680979e+01  -5.08652490e+01 ...,  -3.45177684e+00\n",
      "    1.21958412e-01  -8.88550558e-02]\n",
      " [  6.20175105e-01   7.35596961e-01   7.38981921e-01 ...,  -3.07770918e+02\n",
      "   -3.77253988e+02  -3.18480220e+02]]\n",
      "loggamma:  \n",
      "[[ -1.16070323e+02  -4.36106698e+01  -1.02127872e+02 ...,  -3.43118255e+01\n",
      "   -1.19416432e+02  -1.18463421e+02]\n",
      " [ -6.30615128e+01  -5.59134042e+01  -6.80593059e+01 ...,  -2.27228257e+01\n",
      "   -6.98872763e+01  -6.43394312e+01]\n",
      " [ -9.69461761e+01  -1.18167581e+02  -1.17028378e+02 ...,  -9.87364922e+01\n",
      "   -1.65980672e+02  -1.40812953e+02]\n",
      " [ -4.86245632e+01  -4.71036948e+01  -5.16042309e+01 ...,  -1.35396139e-10\n",
      "    0.00000000e+00   0.00000000e+00]\n",
      " [  0.00000000e+00   0.00000000e+00   0.00000000e+00 ...,  -3.04319141e+02\n",
      "   -3.77375946e+02  -3.18391365e+02]]\n"
     ]
    }
   ],
   "source": [
    "pi, mu, sigma, loglik = em_gmm(X, k, max_iter=100, init_kmeans=False, tol=1e-5)"
   ]
  },
  {
   "cell_type": "code",
   "execution_count": 79,
   "metadata": {
    "collapsed": false
   },
   "outputs": [
    {
     "data": {
      "image/png": "[encoded data removed]",
      "text/plain": [
       "<matplotlib.figure.Figure at 0x7fc2adf62128>"
      ]
     },
     "metadata": {},
     "output_type": "display_data"
    }
   ],
   "source": [
    "plot_gmm_solution(X, mu, sigma)"
   ]
  },
  {
   "cell_type": "code",
   "execution_count": 176,
   "metadata": {
    "collapsed": false
   },
   "outputs": [],
   "source": [
    "def test_em_gmm(X):\n",
    "    worked1 = False\n",
    "    worked2 = False\n",
    "    for _ in range(10):\n",
    "        mpi, mu, sigma, _ = em_gmm(X, k=3)\n",
    "\n",
    "        # test one cluster center\n",
    "        if (np.linalg.norm(mu[0] - [10.41666, 0.1666]) < 0.1 or\n",
    "            np.linalg.norm(mu[1] - [10.41666, 0.1666]) < 0.1 or\n",
    "            np.linalg.norm(mu[2] - [10.41666, 0.1666]) < 0.1):\n",
    "            worked1 = True\n",
    "        if ((np.abs(np.linalg.det(sigma[0]) - 0.03703) < 0.001 or\n",
    "               np.abs(np.linalg.det(sigma[1]) - 0.03703) < 0.001 or\n",
    "               np.abs(np.linalg.det(sigma[2]) - 0.03703) < 0.001) and\n",
    "               (np.abs(np.linalg.det(sigma[0]) - 0.00925) < 0.001 or\n",
    "               np.abs(np.linalg.det(sigma[1]) - 0.00925) < 0.0001 or\n",
    "               np.abs(np.linalg.det(sigma[2]) - 0.00925) < 0.0001)):\n",
    "            worked2 = True\n",
    "        if worked1 and worked2:\n",
    "            plot_gmm_solution(X, mu, sigma)\n",
    "            break\n",
    "\n",
    "    if not worked1:\n",
    "        raise AssertionError('test_em_gmm did not find the correct cluster center.')\n",
    "    if not worked2:\n",
    "        raise AssertionError('test_em_gmm did not find the correct cluster center.')\n",
    "    print(\"ok\")"
   ]
  },
  {
   "cell_type": "code",
   "execution_count": 92,
   "metadata": {
    "collapsed": false
   },
   "outputs": [
    {
     "name": "stdout",
     "output_type": "stream",
     "text": [
      "First choise of mu\n",
      "[[ 10.   5.]\n",
      " [ 10.   0.]\n",
      " [  1.   1.]]\n",
      "Number of iterations:  2\n",
      "Log likelihood:  [[            -inf  -6.71637835e+02  -5.52413198e+02  -2.66693310e+02\n",
      "   -2.14203961e+02  -2.51697224e+02  -4.96792718e-01  -4.96758977e-01\n",
      "   -4.96882696e-01]\n",
      " [ -3.30471146e+02  -2.70475735e+02  -2.48731640e+02  -4.96792718e-01\n",
      "   -4.96758977e-01  -4.96882696e-01  -2.21702983e+02  -2.74192264e+02\n",
      "   -2.36699249e+02]\n",
      " [ -1.18997363e+00  -1.18992864e+00  -1.18997363e+00  -2.71169275e+02\n",
      "   -2.70982425e+02  -3.31164731e+02  -1.96181199e+02  -2.07243674e+02\n",
      "   -2.41178454e+02]]\n",
      "loggamma:   [[         -inf -670.44790587 -551.22322444 -266.19651701 -213.70720236\n",
      "  -251.2003412     0.            0.            0.        ]\n",
      " [-329.28117206 -269.28580653 -247.54166652    0.            0.            0.\n",
      "  -221.20619003 -273.69550469 -236.20236585]\n",
      " [   0.            0.            0.         -270.67248267 -270.48566602\n",
      "  -330.66784808 -195.68440644 -206.74691484 -240.68157167]]\n"
     ]
    },
    {
     "name": "stderr",
     "output_type": "stream",
     "text": [
      "/usr/local/lib/python3.5/dist-packages/ipykernel/__main__.py:31: RuntimeWarning: divide by zero encountered in log\n",
      "/usr/local/lib/python3.5/dist-packages/ipykernel/__main__.py:14: RuntimeWarning: divide by zero encountered in log\n",
      "/usr/local/lib/python3.5/dist-packages/ipykernel/__main__.py:16: RuntimeWarning: divide by zero encountered in log\n"
     ]
    },
    {
     "name": "stdout",
     "output_type": "stream",
     "text": [
      "ok\n"
     ]
    },
    {
     "data": {
      "image/png": "[encoded data removed]",
      "text/plain": [
       "<matplotlib.figure.Figure at 0x7ff6307e1438>"
      ]
     },
     "metadata": {},
     "output_type": "display_data"
    }
   ],
   "source": [
    "test_em_gmm(X)"
   ]
  },
  {
   "cell_type": "code",
   "execution_count": 199,
   "metadata": {
    "collapsed": false
   },
   "outputs": [
    {
     "name": "stdout",
     "output_type": "stream",
     "text": [
      "0\n"
     ]
    },
    {
     "ename": "TypeError",
     "evalue": "object of type 'numpy.float64' has no len()",
     "output_type": "error",
     "traceback": [
      "\u001b[0;31m---------------------------------------------------------------------------\u001b[0m",
      "\u001b[0;31mTypeError\u001b[0m                                 Traceback (most recent call last)",
      "\u001b[0;32m<ipython-input-199-5641b751aaae>\u001b[0m in \u001b[0;36m<module>\u001b[0;34m()\u001b[0m\n\u001b[1;32m      2\u001b[0m     \u001b[0mprint\u001b[0m\u001b[0;34m(\u001b[0m\u001b[0mi\u001b[0m\u001b[0;34m)\u001b[0m\u001b[0;34m\u001b[0m\u001b[0m\n\u001b[1;32m      3\u001b[0m     \u001b[0;32mfor\u001b[0m \u001b[0mj\u001b[0m \u001b[0;32min\u001b[0m \u001b[0mrange\u001b[0m\u001b[0;34m(\u001b[0m\u001b[0mn\u001b[0m\u001b[0;34m)\u001b[0m\u001b[0;34m:\u001b[0m\u001b[0;34m\u001b[0m\u001b[0m\n\u001b[0;32m----> 4\u001b[0;31m         \u001b[0mprint\u001b[0m\u001b[0;34m(\u001b[0m\u001b[0mnorm_pdf\u001b[0m\u001b[0;34m(\u001b[0m\u001b[0mX\u001b[0m\u001b[0;34m[\u001b[0m\u001b[0mj\u001b[0m\u001b[0;34m]\u001b[0m\u001b[0;34m,\u001b[0m \u001b[0mmu\u001b[0m\u001b[0;34m[\u001b[0m\u001b[0mi\u001b[0m\u001b[0;34m]\u001b[0m\u001b[0;34m,\u001b[0m \u001b[0mC\u001b[0m\u001b[0;34m[\u001b[0m\u001b[0mi\u001b[0m\u001b[0;34m]\u001b[0m\u001b[0;34m)\u001b[0m\u001b[0;34m)\u001b[0m\u001b[0;34m\u001b[0m\u001b[0m\n\u001b[0m",
      "\u001b[0;32m<ipython-input-180-c92da55c37cd>\u001b[0m in \u001b[0;36mnorm_pdf\u001b[0;34m(X, mu, C)\u001b[0m\n\u001b[1;32m      1\u001b[0m \u001b[0;32mdef\u001b[0m \u001b[0mnorm_pdf\u001b[0m\u001b[0;34m(\u001b[0m\u001b[0mX\u001b[0m\u001b[0;34m,\u001b[0m \u001b[0mmu\u001b[0m\u001b[0;34m,\u001b[0m \u001b[0mC\u001b[0m\u001b[0;34m)\u001b[0m\u001b[0;34m:\u001b[0m\u001b[0;34m\u001b[0m\u001b[0m\n\u001b[1;32m      2\u001b[0m     \u001b[0mn\u001b[0m\u001b[0;34m=\u001b[0m\u001b[0mlen\u001b[0m\u001b[0;34m(\u001b[0m\u001b[0mX\u001b[0m\u001b[0;34m)\u001b[0m\u001b[0;34m\u001b[0m\u001b[0m\n\u001b[0;32m----> 3\u001b[0;31m     \u001b[0md\u001b[0m\u001b[0;34m=\u001b[0m\u001b[0mlen\u001b[0m\u001b[0;34m(\u001b[0m\u001b[0mX\u001b[0m\u001b[0;34m[\u001b[0m\u001b[0;36m0\u001b[0m\u001b[0;34m]\u001b[0m\u001b[0;34m)\u001b[0m\u001b[0;34m\u001b[0m\u001b[0m\n\u001b[0m\u001b[1;32m      4\u001b[0m     \u001b[0mk\u001b[0m \u001b[0;34m=\u001b[0m\u001b[0mmu\u001b[0m\u001b[0;34m.\u001b[0m\u001b[0mshape\u001b[0m\u001b[0;34m[\u001b[0m\u001b[0;36m0\u001b[0m\u001b[0;34m]\u001b[0m\u001b[0;34m\u001b[0m\u001b[0m\n\u001b[1;32m      5\u001b[0m     \u001b[0mC_inv\u001b[0m\u001b[0;34m=\u001b[0m \u001b[0mnp\u001b[0m\u001b[0;34m.\u001b[0m\u001b[0mlinalg\u001b[0m\u001b[0;34m.\u001b[0m\u001b[0msolve\u001b[0m\u001b[0;34m(\u001b[0m\u001b[0mC\u001b[0m\u001b[0;34m,\u001b[0m\u001b[0mnp\u001b[0m\u001b[0;34m.\u001b[0m\u001b[0mones\u001b[0m\u001b[0;34m(\u001b[0m\u001b[0;34m(\u001b[0m\u001b[0mk\u001b[0m\u001b[0;34m,\u001b[0m\u001b[0;36m1\u001b[0m\u001b[0;34m,\u001b[0m\u001b[0;36m1\u001b[0m\u001b[0;34m)\u001b[0m\u001b[0;34m)\u001b[0m\u001b[0;34m*\u001b[0m\u001b[0mnp\u001b[0m\u001b[0;34m.\u001b[0m\u001b[0meye\u001b[0m\u001b[0;34m(\u001b[0m\u001b[0md\u001b[0m\u001b[0;34m)\u001b[0m\u001b[0;34m)\u001b[0m\u001b[0;34m\u001b[0m\u001b[0m\n",
      "\u001b[0;31mTypeError\u001b[0m: object of type 'numpy.float64' has no len()"
     ]
    }
   ],
   "source": [
    "for i in range(k):\n",
    "    print(i)\n",
    "    for j in range(n):\n",
    "        print(norm_pdf(X[j], mu[i], C[i]))"
   ]
  },
  {
   "cell_type": "code",
   "execution_count": null,
   "metadata": {
    "collapsed": true
   },
   "outputs": [],
   "source": []
  }
 ],
 "metadata": {
  "kernelspec": {
   "display_name": "Python 3",
   "language": "python",
   "name": "python3"
  },
  "language_info": {
   "codemirror_mode": {
    "name": "ipython",
    "version": 3
   },
   "file_extension": ".py",
   "mimetype": "text/x-python",
   "name": "python",
   "nbconvert_exporter": "python",
   "pygments_lexer": "ipython3",
   "version": "3.5.2"
  }
 },
 "nbformat": 4,
 "nbformat_minor": 2
}
