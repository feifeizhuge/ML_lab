{
 "cells": [
  {
   "cell_type": "code",
   "execution_count": 1,
   "metadata": {
    "collapsed": false
   },
   "outputs": [
    {
     "name": "stderr",
     "output_type": "stream",
     "text": [
      ".../home/ubthiro/Dokumente/WirtsInf/ML_Lab_Course\n",
      "\n",
      "/Ubung/git/04/sheet4.py:171: FutureWarning: comparison to `None` will result in an elementwise object comparison in the future.\n",
      "  if(Y==None):\n"
     ]
    },
    {
     "name": "stdout",
     "output_type": "stream",
     "text": [
      "     pcost       dcost       gap    pres   dres\n",
      " 0: -1.3537e+01 -1.2531e+02  6e+02  3e+00  7e-15\n",
      " 1: -8.1875e+00 -7.2269e+01  1e+02  3e-01  4e-15\n",
      " 2: -4.1308e+00 -1.5589e+01  2e+01  4e-02  3e-15\n",
      " 3: -4.4316e+00 -7.3026e+00  4e+00  8e-03  2e-15\n",
      " 4: -4.8685e+00 -5.5850e+00  8e-01  1e-03  2e-15\n",
      " 5: -5.0981e+00 -5.2186e+00  1e-01  1e-04  2e-15\n",
      " 6: -5.1450e+00 -5.1505e+00  6e-03  4e-06  2e-15\n",
      " 7: -5.1471e+00 -5.1472e+00  1e-04  6e-08  2e-15\n",
      " 8: -5.1471e+00 -5.1471e+00  1e-06  6e-10  2e-15\n",
      "Optimal solution found.\n"
     ]
    },
    {
     "name": "stderr",
     "output_type": "stream",
     "text": [
      "."
     ]
    },
    {
     "name": "stdout",
     "output_type": "stream",
     "text": [
      "test case loss 0.11666666666666667\n"
     ]
    },
    {
     "name": "stderr",
     "output_type": "stream",
     "text": [
      "/home/ubthiro/Dokumente/WirtsInf/ML_Lab_Course\n",
      "\n",
      "/Ubung/git/04/sheet4.py:27: FutureWarning: comparison to `None` will result in an elementwise object comparison in the future.\n",
      "  if(Y==None):\n",
      "..."
     ]
    },
    {
     "name": "stdout",
     "output_type": "stream",
     "text": [
      "test case loss 0.11666666666666667\n"
     ]
    },
    {
     "name": "stderr",
     "output_type": "stream",
     "text": [
      "\n",
      "----------------------------------------------------------------------\n",
      "Ran 7 tests in 19.453s\n",
      "\n",
      "OK\n"
     ]
    }
   ],
   "source": [
    "%load_ext autoreload\n",
    "%autoreload 2\n",
    "from sheet4 import *\n",
    "import matplotlib.pyplot as plt\n",
    "%run sheet4_tests"
   ]
  },
  {
   "cell_type": "code",
   "execution_count": null,
   "metadata": {
    "collapsed": true
   },
   "outputs": [],
   "source": []
  }
 ],
 "metadata": {
  "kernelspec": {
   "display_name": "Python 3",
   "language": "python",
   "name": "python3"
  },
  "language_info": {
   "codemirror_mode": {
    "name": "ipython",
    "version": 3
   },
   "file_extension": ".py",
   "mimetype": "text/x-python",
   "name": "python",
   "nbconvert_exporter": "python",
   "pygments_lexer": "ipython3",
   "version": "3.5.2"
  }
 },
 "nbformat": 4,
 "nbformat_minor": 2
}
