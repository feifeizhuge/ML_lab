{
 "cells": [
  {
   "cell_type": "code",
   "execution_count": 105,
   "metadata": {
    "collapsed": true
   },
   "outputs": [],
   "source": [
    "import numpy as np\n",
    "import numpy.testing as npt\n",
    "from scipy.linalg import expm\n",
    "import matplotlib.pyplot as plt\n",
    "from matplotlib.transforms import Affine2D\n",
    "from matplotlib.collections import PatchCollection\n",
    "import scipy.spatial, scipy.linalg\n",
    "import scipy.sparse.linalg\n",
    "from scipy.misc import logsumexp\n",
    "from scipy.cluster.hierarchy import linkage, dendrogram\n",
    "import itertools as it\n",
    "import time\n",
    "%matplotlib inline\n"
   ]
  },
  {
   "cell_type": "code",
   "execution_count": 106,
   "metadata": {
    "collapsed": false
   },
   "outputs": [
    {
     "data": {
      "text/plain": [
       "array([ 1.,  1., -1.,  1.,  1.,  1., -1., -1., -1.,  1.])"
      ]
     },
     "execution_count": 106,
     "metadata": {},
     "output_type": "execute_result"
    }
   ],
   "source": [
    "np.sign(np.random.randn(10))"
   ]
  },
  {
   "cell_type": "code",
   "execution_count": 453,
   "metadata": {
    "collapsed": false
   },
   "outputs": [],
   "source": [
    "class svm_smo(): \n",
    "    \n",
    "    def __init__(self, kernel,C):\n",
    "        self.kernel = kernel\n",
    "        self.c = C\n",
    "\n",
    "    def getkernel(self, X, Y=None):\n",
    "        n= len(X)\n",
    "        n2 = n\n",
    "        if(Y==None):\n",
    "            X2=np.array(X)\n",
    "            x2=len(X2)\n",
    "            n2 = n\n",
    "        else: \n",
    "            X2 = Y\n",
    "            n2 = len(X2)\n",
    " \n",
    "        if((self.kernel =='gaussian') or (self.kernel ==['gaussian'])):\n",
    "            w = self.kp\n",
    "            X1 = (X**2).sum(1).reshape(n,1)*np.ones((n,n2))\n",
    "            U1 = (X2**2).sum(1).reshape(1,n2) * np.ones([n,n2])\n",
    "            D = X1 - 2*(X.dot(X2.T)) + U1\n",
    "            K = np.exp(-D/(2*w**2))\n",
    "        elif((self.kernel =='polynomial') or (self.kernel ==['polynomial'])):\n",
    "            p= self.kp\n",
    "            K = (np.dot(X,X2.T)+1)**p\n",
    "        elif((self.kernel =='linear') or (self.kernel ==['linear'])):\n",
    "            K = np.dot(X,X2.T)\n",
    "        else:\n",
    "            raise AssertionError(\"Choose from ['gaussian','polynomial','linear']\")\n",
    "        return K\n",
    "    \n",
    "    \n",
    "    def fx(self,X1,X2,Y):\n",
    "        K=self.getkernel(X1,X2)\n",
    "        alpY = (Y*self.alpha).reshape(len(self.alpha),1)\n",
    "        return np.dot(K,alpY)-self.b#np.sign(np.dot(K,alpY)+self.b)\n",
    "    \n",
    "    def _compute_box_constraints(self, i, j, Y, alpha, C):\n",
    "        \n",
    "        if(Y[i]==Y[j]):\n",
    "            L = np.max([0,alpha[i]+alpha[j]-C])\n",
    "            H = np.min([C,alpha[i]+alpha[j]])\n",
    "        else:\n",
    "            L = np.max([0,alpha[j]-alpha[i]])\n",
    "            H = np.min([C,C+alpha[j]-alpha[i]])\n",
    "        return L, H \n",
    "    \n",
    "    \n",
    "    def _update_parameters(self, E_i, E_j, i, j, K, Y, alpha, b, C):\n",
    "        L, H = self._compute_box_constraints( i, j, Y, alpha, C)\n",
    "        if(L==H):\n",
    "            return alpha, b, 0\n",
    "        kappa = 2*K[i,j] -K[i,i] -K[j,j]\n",
    "        if(kappa>=0):\n",
    "            return alpha, b, 0\n",
    "        \n",
    "        aph2_new= alpha[j]-Y[j]*(E_i-E_j)/kappa\n",
    "        \n",
    "        if(aph2_new>H):\n",
    "            aph2_new=H\n",
    "        if(aph2_new<L):\n",
    "            aph2_new=L\n",
    "           \n",
    "        aph1_new = alpha[i]+Y[i]*Y[j]*(alpha[j]-aph2_new)\n",
    "        if(np.abs(alpha[j]-aph2_new)<0.0005):\n",
    "            return alpha, b, 0\n",
    "        \n",
    "        alpha_new = np.array(alpha)\n",
    "        alpha_new[i]= aph1_new\n",
    "        alpha_new[j]= aph2_new\n",
    "        \n",
    "        new_b = self._compute_updated_b( E_i, E_j, i, j, K, Y, alpha, alpha_new, b, C)\n",
    "            \n",
    "        return alpha_new, new_b, 1\n",
    "    \n",
    "    \n",
    "    def _compute_updated_b(self, E_i, E_j, i, j, K, Y, alpha_old, alpha_new, b_old, C):\n",
    "        b1 = b_old+E_i+Y[i]*(alpha_new[i]-alpha_old[i])*K[i,i]+Y[j]*(alpha_new[j]-alpha_old[j])*K[i,j]\n",
    "        b2 = b_old+E_j+Y[i]*(alpha_new[i]-alpha_old[i])*K[i,j]+Y[j]*(alpha_new[j]-alpha_old[j])*K[j,j]\n",
    "        new_b=(b1+b2)/2\n",
    "        \n",
    "        if((alpha_new[i]>0)and(alpha_new[i]<C)):\n",
    "            new_b = b1\n",
    "        if((alpha_new[j]>0)and(alpha_new[j]<C)):\n",
    "            new_b = b2\n",
    "        \n",
    "        return new_b\n",
    "     \n",
    "        \n",
    "    def fit(self, X, Y):\n",
    "        #self.X_fit = X\n",
    "        N= len(X)\n",
    "        rang=np.arange(N)\n",
    "        K = self.getkernel(X)\n",
    "        self.alpha = np.zeros(N)\n",
    "        self.b = 0\n",
    "        P=100\n",
    "        tol = 0.003\n",
    "        p=0\n",
    "        \n",
    "        while(p<P):\n",
    "            a=0\n",
    "            for i in range(N):\n",
    "                Ei = self.fx(X[i].reshape(1,len(X[i])),X,Y)-Y[i]\n",
    "                if (((Y[i]*Ei < -tol) and (self.alpha[i] < self.c)) or ( (Y[i]*Ei > tol) and (self.alpha[i] > 0))):\n",
    "                    j=np.random.choice(np.setdiff1d(rang, np.array([i])),1)\n",
    "                    Ej = self.fx(X[j].reshape(1,len(X[i])),X,Y)-Y[j]\n",
    "                    self.alpha, self.b, updated=self._update_parameters( Ei[0,0], Ej[0,0], i, j, K, Y, self.alpha, self.b, self.c)\n",
    "                    a = a+updated\n",
    "\n",
    "            if(a==0):        \n",
    "                p=p+1\n",
    "            else:\n",
    "                p=0\n",
    "        \n",
    "        f=self.fx(X,X,Y)*Y.reshape(len(Y),1)\n",
    "        self.SV= X[np.where(np.abs(f[:,0]-1)<0.0001)[0]]\n",
    "        self.y = Y[np.where(np.abs(f[:,0]-1)<0.0001)[0]]\n",
    "        self.alpha = self.alpha[np.where(np.abs(f[:,0]-1)<0.0001)[0]]\n",
    "        \n",
    "    def predict(self, X):\n",
    "        return self.fx(X,self.SV,self.y)[:,0]"
   ]
  },
  {
   "cell_type": "code",
   "execution_count": 454,
   "metadata": {
    "collapsed": false
   },
   "outputs": [
    {
     "name": "stderr",
     "output_type": "stream",
     "text": [
      "/usr/local/lib/python3.5/dist-packages/ipykernel/__main__.py:10: FutureWarning: comparison to `None` will result in an elementwise object comparison in the future.\n"
     ]
    },
    {
     "name": "stdout",
     "output_type": "stream",
     "text": [
      "test case loss 0.4\n"
     ]
    }
   ],
   "source": [
    "\n",
    "np.random.seed(1)\n",
    "X_tr = np.hstack((np.random.normal(size=[2, 30]), np.random.normal(size=[2, 30]) + np.array([2., 2.])[:, np.newaxis])).T\n",
    "Y_tr = np.array([1] * 30 + [-1] * 30)\n",
    "X_te = np.hstack((np.random.normal(size=[2, 30]), np.random.normal(size=[2, 30]) + np.array([2., 2.])[:, np.newaxis])).T\n",
    "Y_te = np.array([1] * 30 + [-1] * 30)\n",
    "C = svm_smo(kernel='linear', C=1.)\n",
    "C.fit(X=X_tr, Y=Y_tr)\n",
    "Y_pred = C.predict(X_te)\n",
    "loss = float(np.sum(np.sign(Y_te) != np.sign(Y_pred)))/float(len(Y_te))\n",
    "print('test case loss', loss)"
   ]
  },
  {
   "cell_type": "code",
   "execution_count": 455,
   "metadata": {
    "collapsed": false
   },
   "outputs": [
    {
     "data": {
      "text/plain": [
       "array([ 2.55250919,  2.12816249,  1.74353914,  1.5952658 ,  5.45647379,\n",
       "        1.03747769,  0.4997372 ,  2.20341644,  4.31099773,  0.84894306,\n",
       "        2.62032579,  2.85705054,  4.50485833,  1.8067817 ,  2.01406489,\n",
       "        3.42815674,  2.69698038,  4.36900034,  3.12665456,  1.40709025,\n",
       "        2.54163873,  3.45726179,  3.26262825,  1.5763637 ,  2.06012872,\n",
       "        2.39510916,  3.50681229,  1.72395462,  2.87185564,  1.61820489,\n",
       "        2.88128817,  0.12620414,  1.50693279, -0.65774969,  0.75271379,\n",
       "        2.81900572,  1.10311097,  0.82375053,  1.9933282 ,  1.60964602,\n",
       "        0.9779848 ,  1.27670234, -0.03720543,  0.04282344, -0.24560218,\n",
       "        5.18791993,  0.2758201 ,  0.74476501, -0.10047696, -0.07722211,\n",
       "        2.11502937,  0.48076452,  2.60429499,  0.05166383,  3.09586309,\n",
       "        2.92048428,  2.80988827,  2.1550605 ,  1.78614441, -0.59132376])"
      ]
     },
     "execution_count": 455,
     "metadata": {},
     "output_type": "execute_result"
    }
   ],
   "source": [
    "Y_pred"
   ]
  },
  {
   "cell_type": "code",
   "execution_count": 447,
   "metadata": {
    "collapsed": false
   },
   "outputs": [
    {
     "data": {
      "text/plain": [
       "array([ 1,  1,  1,  1,  1,  1,  1,  1,  1,  1,  1,  1,  1,  1,  1,  1,  1,\n",
       "        1,  1,  1,  1,  1,  1,  1,  1,  1,  1,  1,  1,  1, -1, -1, -1, -1,\n",
       "       -1, -1, -1, -1, -1, -1, -1, -1, -1, -1, -1, -1, -1, -1, -1, -1, -1,\n",
       "       -1, -1, -1, -1, -1, -1, -1, -1, -1])"
      ]
     },
     "execution_count": 447,
     "metadata": {},
     "output_type": "execute_result"
    }
   ],
   "source": [
    "np.sign(Y_te)"
   ]
  },
  {
   "cell_type": "code",
   "execution_count": 408,
   "metadata": {
    "collapsed": false
   },
   "outputs": [
    {
     "data": {
      "text/plain": [
       "30"
      ]
     },
     "execution_count": 408,
     "metadata": {},
     "output_type": "execute_result"
    }
   ],
   "source": [
    "np.sum(np.sign(Y_te) != np.sign(Y_pred))"
   ]
  },
  {
   "cell_type": "code",
   "execution_count": 409,
   "metadata": {
    "collapsed": false
   },
   "outputs": [],
   "source": [
    "one= np.dot(np.ones((3,3)),np.ones((3,1)))"
   ]
  },
  {
   "cell_type": "code",
   "execution_count": 410,
   "metadata": {
    "collapsed": false
   },
   "outputs": [
    {
     "data": {
      "text/plain": [
       "<matplotlib.collections.PathCollection at 0x7fc793def9e8>"
      ]
     },
     "execution_count": 410,
     "metadata": {},
     "output_type": "execute_result"
    },
    {
     "data": {
      "image/png": "[encoded data removed]",
      "text/plain": [
       "<matplotlib.figure.Figure at 0x7fc793e71f98>"
      ]
     },
     "metadata": {},
     "output_type": "display_data"
    }
   ],
   "source": [
    "plt.scatter(X_tr[:,0],X_tr[:,1])"
   ]
  },
  {
   "cell_type": "code",
   "execution_count": 449,
   "metadata": {
    "collapsed": false
   },
   "outputs": [
    {
     "data": {
      "text/plain": [
       "<matplotlib.collections.PathCollection at 0x7fc793c6be10>"
      ]
     },
     "execution_count": 449,
     "metadata": {},
     "output_type": "execute_result"
    },
    {
     "data": {
      "image/png": "[encoded data removed]",
      "text/plain": [
       "<matplotlib.figure.Figure at 0x7fc793ca5160>"
      ]
     },
     "metadata": {},
     "output_type": "display_data"
    }
   ],
   "source": [
    "plt.scatter(X_te[:,0],X_te[:,1],c=Y_te)"
   ]
  },
  {
   "cell_type": "code",
   "execution_count": 412,
   "metadata": {
    "collapsed": false
   },
   "outputs": [
    {
     "data": {
      "text/plain": [
       "(2,)"
      ]
     },
     "execution_count": 412,
     "metadata": {},
     "output_type": "execute_result"
    }
   ],
   "source": [
    "C.alpha.shape"
   ]
  },
  {
   "cell_type": "code",
   "execution_count": 401,
   "metadata": {
    "collapsed": false
   },
   "outputs": [
    {
     "data": {
      "text/plain": [
       "array([ 1, -1])"
      ]
     },
     "execution_count": 401,
     "metadata": {},
     "output_type": "execute_result"
    }
   ],
   "source": [
    "C.y\n"
   ]
  },
  {
   "cell_type": "code",
   "execution_count": 402,
   "metadata": {
    "collapsed": false
   },
   "outputs": [
    {
     "data": {
      "text/plain": [
       "array([[-0.38405435,  1.6924546 ],\n",
       "       [ 2.37756379,  0.38422765]])"
      ]
     },
     "execution_count": 402,
     "metadata": {},
     "output_type": "execute_result"
    }
   ],
   "source": [
    "C.SV"
   ]
  },
  {
   "cell_type": "code",
   "execution_count": 403,
   "metadata": {
    "collapsed": false
   },
   "outputs": [
    {
     "data": {
      "text/plain": [
       "array([ 0.6470109,  0.5202034])"
      ]
     },
     "execution_count": 403,
     "metadata": {},
     "output_type": "execute_result"
    }
   ],
   "source": [
    "C.alpha"
   ]
  },
  {
   "cell_type": "code",
   "execution_count": null,
   "metadata": {
    "collapsed": true
   },
   "outputs": [],
   "source": []
  }
 ],
 "metadata": {
  "kernelspec": {
   "display_name": "Python 3",
   "language": "python",
   "name": "python3"
  },
  "language_info": {
   "codemirror_mode": {
    "name": "ipython",
    "version": 3
   },
   "file_extension": ".py",
   "mimetype": "text/x-python",
   "name": "python",
   "nbconvert_exporter": "python",
   "pygments_lexer": "ipython3",
   "version": "3.5.2"
  }
 },
 "nbformat": 4,
 "nbformat_minor": 2
}
