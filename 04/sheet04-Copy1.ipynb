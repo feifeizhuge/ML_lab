{
 "cells": [
  {
   "cell_type": "code",
   "execution_count": 1,
   "metadata": {
    "collapsed": false
   },
   "outputs": [],
   "source": [
    "import numpy as np\n",
    "import numpy.testing as npt\n",
    "from scipy.linalg import expm\n",
    "import matplotlib.pyplot as plt\n",
    "from matplotlib.transforms import Affine2D\n",
    "from matplotlib.collections import PatchCollection\n",
    "import scipy.spatial, scipy.linalg\n",
    "import scipy.sparse.linalg\n",
    "from scipy.misc import logsumexp\n",
    "from scipy.cluster.hierarchy import linkage, dendrogram\n",
    "import itertools as it\n",
    "from cvxopt.solvers import qp \n",
    "from cvxopt import matrix\n",
    "import time\n",
    "import numpy as np\n",
    "import matplotlib.pyplot as plt\n",
    "from sklearn import svm, datasets\n",
    "%matplotlib inline\n"
   ]
  },
  {
   "cell_type": "code",
   "execution_count": 2,
   "metadata": {
    "collapsed": false
   },
   "outputs": [],
   "source": [
    "class svm_smo(): \n",
    "    \n",
    "    def __init__(self, kernel,C):\n",
    "        self.kernel = kernel\n",
    "        self.c = C\n",
    "\n",
    "    def getkernel(self, X, Y=None):\n",
    "        n= len(X)\n",
    "        n2 = n\n",
    "        if(Y==None):\n",
    "            X2=np.array(X)\n",
    "            x2=len(X2)\n",
    "            n2 = n\n",
    "        else: \n",
    "            X2 = Y\n",
    "            n2 = len(X2)\n",
    " \n",
    "        if((self.kernel =='gaussian') or (self.kernel ==['gaussian'])):\n",
    "            w = self.kp\n",
    "            X1 = (X**2).sum(1).reshape(n,1)*np.ones((n,n2))\n",
    "            U1 = (X2**2).sum(1).reshape(1,n2) * np.ones([n,n2])\n",
    "            D = X1 - 2*(X.dot(X2.T)) + U1\n",
    "            K = np.exp(-D/(2*w**2))\n",
    "        elif((self.kernel =='polynomial') or (self.kernel ==['polynomial'])):\n",
    "            p= self.kp\n",
    "            K = (np.dot(X,X2.T)+1)**p\n",
    "        elif((self.kernel =='linear') or (self.kernel ==['linear'])):\n",
    "            K = np.dot(X,X2.T)\n",
    "        else:\n",
    "            raise AssertionError(\"Choose from ['gaussian','polynomial','linear']\")\n",
    "        return K\n",
    "    \n",
    "    \n",
    "    def fx(self,X1,X2,Y):\n",
    "        K=self.getkernel(X1,X2)\n",
    "        alpY = (Y*self.alpha).reshape(len(self.alpha),1)\n",
    "        return np.dot(K,alpY)-self.b#np.sign(np.dot(K,alpY)+self.b)\n",
    "    \n",
    "    def _compute_box_constraints(self, i, j, Y, alpha, C):\n",
    "        \n",
    "        if(Y[i]==Y[j]):\n",
    "            L = np.max([0,alpha[i]+alpha[j]-C])\n",
    "            H = np.min([C,alpha[i]+alpha[j]])\n",
    "        else:\n",
    "            L = np.max([0,alpha[j]-alpha[i]])\n",
    "            H = np.min([C,C+alpha[j]-alpha[i]])\n",
    "        return L, H \n",
    "    \n",
    "    \n",
    "    def _update_parameters(self, E_i, E_j, i, j, K, Y, alpha, b, C):\n",
    "        L, H = self._compute_box_constraints( i, j, Y, alpha, C)\n",
    "        if(L==H):\n",
    "            return alpha, b, 0\n",
    "        kappa = 2*K[i,j] -K[i,i] -K[j,j]\n",
    "        if(kappa>=0):\n",
    "            return alpha, b, 0\n",
    "        \n",
    "        aph2_new= alpha[j]-Y[j]*(E_i-E_j)/kappa\n",
    "        if((np.abs(aph2_new)<np.abs(H)) and (np.abs(aph2_new)>np.abs(L))):\n",
    "            if(aph2_new<L):\n",
    "                aph2_new=L\n",
    "            if(aph2_new>H):\n",
    "                aph2_new=H\n",
    "        else:\n",
    "            if(aph2_new>H):\n",
    "                aph2_new=H\n",
    "            if(aph2_new<L):\n",
    "                aph2_new=L\n",
    "           \n",
    "        aph1_new = alpha[i]+Y[i]*Y[j]*(alpha[j]-aph2_new)\n",
    "        if(np.abs(alpha[j]-aph2_new)<0.0005):\n",
    "            return alpha, b, 0\n",
    "        \n",
    "        alpha_new = np.array(alpha)\n",
    "        alpha_new[i]= aph1_new\n",
    "        alpha_new[j]= aph2_new\n",
    "        \n",
    "        new_b = self._compute_updated_b( E_i, E_j, i, j, K, Y, alpha, alpha_new, b, C)\n",
    "            \n",
    "        return alpha_new, new_b, 1\n",
    "    \n",
    "    \n",
    "    def _compute_updated_b(self, E_i, E_j, i, j, K, Y, alpha_old, alpha_new, b_old, C):\n",
    "        b1 = b_old+E_i+Y[i]*(alpha_new[i]-alpha_old[i])*K[i,i]+Y[j]*(alpha_new[j]-alpha_old[j])*K[i,j]\n",
    "        b2 = b_old+E_j+Y[i]*(alpha_new[i]-alpha_old[i])*K[i,j]+Y[j]*(alpha_new[j]-alpha_old[j])*K[j,j]\n",
    "        new_b=(b1+b2)/2\n",
    "        \n",
    "        if((alpha_new[i]>0)and(alpha_new[i]<C)):\n",
    "            new_b = b1\n",
    "        if((alpha_new[j]>0)and(alpha_new[j]<C)):\n",
    "            new_b = b2\n",
    "        \n",
    "        return new_b\n",
    "     \n",
    "        \n",
    "    def fit(self, X, Y):\n",
    "        #self.X_fit = X\n",
    "        N= len(X)\n",
    "        rang=np.arange(N)\n",
    "        K = self.getkernel(X)\n",
    "        self.alpha = np.zeros(N)\n",
    "        self.b = 0\n",
    "        P=1000\n",
    "        tol = 0.03\n",
    "        p=0\n",
    "        \n",
    "        while(p<P):\n",
    "            a=0\n",
    "            for i in range(N):\n",
    "                Ei = self.fx(X[i].reshape(1,len(X[i])),X,Y)-Y[i]\n",
    "                if (((Y[i]*Ei < -tol) and (self.alpha[i] < self.c)) or ( (Y[i]*Ei > tol) and (self.alpha[i] > 0))):\n",
    "                    j=np.random.choice(np.setdiff1d(rang, np.array([i])),1)[0]\n",
    "                    Ej = self.fx(X[j].reshape(1,len(X[i])),X,Y)-Y[j]\n",
    "                    self.alpha, self.b, updated=self._update_parameters( Ei[0,0], Ej[0,0], i, j, K, Y, self.alpha, self.b, self.c)\n",
    "                    a = a+updated\n",
    "                \n",
    "            if(a==0):        \n",
    "                p=p+1\n",
    "            else:\n",
    "                p=0\n",
    "        \n",
    "        f=self.fx(X,X,Y)*Y.reshape(len(Y),1)\n",
    "        self.SV= X[np.where(np.abs(f[:,0]-1)<0.0001)[0]]#0.0001\n",
    "        self.y = Y[np.where(np.abs(f[:,0]-1)<0.0001)[0]]\n",
    "        self.alpha = self.alpha[np.where(np.abs(f[:,0]-1)<0.0001)[0]]\n",
    "        \n",
    "    def predict(self, X):\n",
    "        return np.sign(self.fx(X,self.SV,self.y)[:,0])"
   ]
  },
  {
   "cell_type": "code",
   "execution_count": 163,
   "metadata": {
    "collapsed": false
   },
   "outputs": [
    {
     "name": "stdout",
     "output_type": "stream",
     "text": [
      "kappa:  -1.4\n",
      "L,H:  0.0 -0.8\n",
      "-0.142857142857\n",
      "-0.8\n",
      "kappa:  -1.4\n",
      "L,H:  0.0 -0.8\n",
      "-1.21428571429\n",
      "0.0\n"
     ]
    }
   ],
   "source": [
    "C = svm_smo(kernel='linear', C=1.)\n",
    "res2 = C._update_parameters(1.0, 0.5, 0, 1, np.array([[1.0, 0.3], [0.3, 1.0]]), np.array([-1, +1]), np.array([0.4, -0.5]), 1.2, 0.1)\n",
    "res3 = C._update_parameters(1.0, 2.0, 0, 1, np.array([[1.0, 0.3], [0.3, 1.0]]), np.array([-1, +1]), np.array([0.4, -0.5]), 1.2, 0.1)\n",
    "#self.assertTrue((np.allclose(res2[0], [0.1, -0.8]) and\n",
    "#                 np.allclose(res2[1], 2.41, atol=1e-3) and\n",
    "#                 np.allclose(res3[0], [0.9, 0.0]) and\n",
    "#                 np.allclose(res3[1], 2.7, atol=1e-3)),\n",
    "#                msg='_update_parameters: Error found.')"
   ]
  },
  {
   "cell_type": "code",
   "execution_count": 164,
   "metadata": {
    "collapsed": false
   },
   "outputs": [
    {
     "data": {
      "text/plain": [
       "(array([ 0.1, -0.8]), 2.4100000000000001, 1)"
      ]
     },
     "execution_count": 164,
     "metadata": {},
     "output_type": "execute_result"
    }
   ],
   "source": [
    "res2"
   ]
  },
  {
   "cell_type": "code",
   "execution_count": 165,
   "metadata": {
    "collapsed": false
   },
   "outputs": [
    {
     "data": {
      "text/plain": [
       "(array([ 0.9,  0. ]), 2.7000000000000002, 1)"
      ]
     },
     "execution_count": 165,
     "metadata": {},
     "output_type": "execute_result"
    }
   ],
   "source": [
    "res3"
   ]
  },
  {
   "cell_type": "code",
   "execution_count": 8,
   "metadata": {
    "collapsed": false
   },
   "outputs": [],
   "source": [
    "def plot_svm_2d(X, y, model):\n",
    "    n=len(X)\n",
    "    plt.figure(figsize = (6, 6))\n",
    "    plt.plot(X[y ==  1,0], X[y ==  1,1], 'ro')\n",
    "    plt.plot(X[y == -1,0], X[y == -1,1], 'bo')\n",
    "    plt.plot(model.SV[:,0],model.SV[:,1],'kx')\n",
    "    a = np.linspace(np.min(X[:,0])-1, np.max(X[:,0])+1, n)\n",
    "    b = np.linspace(np.min(X[:,1])-1, np.max(X[:,1])+1, n)\n",
    "    A, B = np.meshgrid(a,b)\n",
    "    mesh_z = np.zeros((n, n))\n",
    "    for y in range(n):\n",
    "        for x in range(n):\n",
    "            mesh_z[y, x] = model.fx(np.array([a[x], b[y]]).reshape(1,2),model.SV,model.y)\n",
    "    plt.contour(A, B, mesh_z, 0)"
   ]
  },
  {
   "cell_type": "code",
   "execution_count": 9,
   "metadata": {
    "collapsed": false
   },
   "outputs": [],
   "source": [
    "class svm_qp():\n",
    "    def __init__(self, kernel,C):\n",
    "        self.kernel = kernel\n",
    "        self.c = C\n",
    "        self.min_alpha = 1e-5\n",
    "    def getkernel(self, X, Y=None):\n",
    "        n= len(X)\n",
    "        n2 = n\n",
    "        if(Y==None):\n",
    "            X2=np.array(X)\n",
    "            x2=len(X2)\n",
    "            n2 = n\n",
    "        else: \n",
    "            X2 = Y\n",
    "            n2 = len(X2)\n",
    " \n",
    "        if((self.kernel =='gaussian') or (self.kernel ==['gaussian'])):\n",
    "            w = self.kp\n",
    "            X1 = (X**2).sum(1).reshape(n,1)*np.ones((n,n2))\n",
    "            U1 = (X2**2).sum(1).reshape(1,n2) * np.ones([n,n2])\n",
    "            D = X1 - 2*(X.dot(X2.T)) + U1\n",
    "            K = np.exp(-D/(2*w**2))\n",
    "        elif((self.kernel =='polynomial') or (self.kernel ==['polynomial'])):\n",
    "            p= self.kp\n",
    "            K = (np.dot(X,X2.T)+1)**p\n",
    "        elif((self.kernel =='linear') or (self.kernel ==['linear'])):\n",
    "            K = np.dot(X,X2.T)\n",
    "        else:\n",
    "            raise AssertionError(\"Choose from ['gaussian','polynomial','linear']\")\n",
    "        return K\n",
    "    \n",
    "    def fx(self,X1,X2,Y):\n",
    "        K=self.getkernel(X1,X2)\n",
    "        alpY = (Y*self.alpha).reshape(len(self.alpha),1)\n",
    "        return np.dot(K,alpY)+self.b#np.sign(np.dot(K,alpY)+self.b)\n",
    "    \n",
    "        \n",
    "    def fit(self, X, Y):\n",
    "        #self.X_fit = X\n",
    "        N= len(X)\n",
    "        K = self.getkernel(X)\n",
    "        P = matrix(np.outer(Y, Y) * K)\n",
    "        q = matrix(-1 * np.ones(N))\n",
    "\n",
    "        G_std = matrix(np.diag(np.ones(N) * -1))\n",
    "        h_std = matrix(np.zeros(N))\n",
    "\n",
    "        # a_i \\leq c\n",
    "        G_slack = matrix(np.diag(np.ones(N)))\n",
    "        h_slack = matrix(np.ones(N) * self.c)\n",
    "\n",
    "        G = matrix(np.vstack((G_std, G_slack)))\n",
    "        h = matrix(np.vstack((h_std, h_slack)))\n",
    "\n",
    "        A = matrix(np.ones(N)*Y, (1, N))\n",
    "        b = matrix(0.0)\n",
    "\n",
    "        solution = qp(P, q, G, h, A, b)\n",
    "        self.alpha=np.ravel(solution['x'])\n",
    "#########################\n",
    "        self.b=0.0\n",
    "        alp_idx = \\\n",
    "            self.alpha > self.min_alpha\n",
    "        self.SV= X[alp_idx]\n",
    "        self.y = Y[alp_idx]\n",
    "        self.alpha = self.alpha[alp_idx]\n",
    "        self.b = np.mean(self.y - self.fx(self.SV,self.SV,self.y)[:,0])\n",
    "        \n",
    "    def predict(self, X):\n",
    "        return np.sign(self.fx(X,self.SV,self.y)[:,0])"
   ]
  },
  {
   "cell_type": "code",
   "execution_count": 105,
   "metadata": {
    "collapsed": false
   },
   "outputs": [],
   "source": [
    "a = \\\n",
    "    [1,2,3,4] > [2,2,2,2]"
   ]
  },
  {
   "cell_type": "code",
   "execution_count": 106,
   "metadata": {
    "collapsed": false
   },
   "outputs": [
    {
     "data": {
      "text/plain": [
       "False"
      ]
     },
     "execution_count": 106,
     "metadata": {},
     "output_type": "execute_result"
    }
   ],
   "source": [
    "a"
   ]
  },
  {
   "cell_type": "code",
   "execution_count": 107,
   "metadata": {
    "collapsed": false
   },
   "outputs": [
    {
     "name": "stdout",
     "output_type": "stream",
     "text": [
      "     pcost       dcost       gap    pres   dres\n",
      " 0: -1.3537e+01 -1.2531e+02  6e+02  3e+00  7e-15\n",
      " 1: -8.1875e+00 -7.2269e+01  1e+02  3e-01  4e-15\n",
      " 2: -4.1308e+00 -1.5589e+01  2e+01  4e-02  3e-15\n",
      " 3: -4.4316e+00 -7.3026e+00  4e+00  8e-03  2e-15\n",
      " 4: -4.8685e+00 -5.5850e+00  8e-01  1e-03  2e-15\n",
      " 5: -5.0981e+00 -5.2186e+00  1e-01  1e-04  2e-15\n",
      " 6: -5.1450e+00 -5.1505e+00  6e-03  4e-06  2e-15\n",
      " 7: -5.1471e+00 -5.1472e+00  1e-04  6e-08  2e-15\n",
      " 8: -5.1471e+00 -5.1471e+00  1e-06  6e-10  2e-15\n",
      "Optimal solution found.\n",
      "test case loss 0.11666666666666667\n"
     ]
    },
    {
     "name": "stderr",
     "output_type": "stream",
     "text": [
      "/usr/local/lib/python3.5/dist-packages/ipykernel/__main__.py:9: FutureWarning: comparison to `None` will result in an elementwise object comparison in the future.\n"
     ]
    },
    {
     "name": "stdout",
     "output_type": "stream",
     "text": [
      "test case loss 0.11666666666666667\n"
     ]
    },
    {
     "data": {
      "image/png": "[encoded data removed]",
      "text/plain": [
       "<matplotlib.figure.Figure at 0x7f8541f3cd68>"
      ]
     },
     "metadata": {},
     "output_type": "display_data"
    }
   ],
   "source": [
    "C = svm_qp(kernel='linear', C=1.)\n",
    "np.random.seed(1)\n",
    "X_tr = np.hstack((np.random.normal(size=[2, 30]), np.random.normal(size=[2, 30]) + np.array([2., 2.])[:, np.newaxis])).T\n",
    "Y_tr = np.array([1] * 30 + [-1] * 30)\n",
    "X_te = np.hstack((np.random.normal(size=[2, 30]), np.random.normal(size=[2, 30]) + np.array([2., 2.])[:, np.newaxis])).T\n",
    "Y_te = np.array([1] * 30 + [-1] * 30)\n",
    "C.fit(X=X_tr, Y=Y_tr)\n",
    "Y_pred = C.predict(X_te)\n",
    "loss = float(np.sum(np.sign(Y_te) != np.sign(Y_pred)))/float(len(Y_te))\n",
    "print('test case loss', loss)\n",
    "\n",
    "plot_svm_2d(X_tr, Y_tr, C)\n",
    "print('test case loss', loss)\n",
    "\n"
   ]
  },
  {
   "cell_type": "code",
   "execution_count": 108,
   "metadata": {
    "collapsed": false
   },
   "outputs": [
    {
     "data": {
      "text/plain": [
       "2.5707771405690685"
      ]
     },
     "execution_count": 108,
     "metadata": {},
     "output_type": "execute_result"
    }
   ],
   "source": [
    "C.b"
   ]
  },
  {
   "cell_type": "code",
   "execution_count": 3,
   "metadata": {
    "collapsed": false
   },
   "outputs": [
    {
     "name": "stderr",
     "output_type": "stream",
     "text": [
      "/usr/local/lib/python3.5/dist-packages/ipykernel/__main__.py:10: FutureWarning: comparison to `None` will result in an elementwise object comparison in the future.\n"
     ]
    },
    {
     "name": "stdout",
     "output_type": "stream",
     "text": [
      "test case loss 0.21666666666666667\n"
     ]
    }
   ],
   "source": [
    "\n",
    "np.random.seed(1)\n",
    "X_tr = np.hstack((np.random.normal(size=[2, 30]), np.random.normal(size=[2, 30]) + np.array([2., 2.])[:, np.newaxis])).T\n",
    "Y_tr = np.array([1] * 30 + [-1] * 30)\n",
    "X_te = np.hstack((np.random.normal(size=[2, 30]), np.random.normal(size=[2, 30]) + np.array([2., 2.])[:, np.newaxis])).T\n",
    "Y_te = np.array([1] * 30 + [-1] * 30)\n",
    "C = svm_smo(kernel='linear', C=1.)\n",
    "C.fit(X=X_tr, Y=Y_tr)\n",
    "Y_pred = C.predict(X_te)\n",
    "loss = float(np.sum(np.sign(Y_te) != np.sign(Y_pred)))/float(len(Y_te))\n",
    "print('test case loss', loss)"
   ]
  },
  {
   "cell_type": "code",
   "execution_count": 4,
   "metadata": {
    "collapsed": false
   },
   "outputs": [
    {
     "data": {
      "text/plain": [
       "array([ 1.,  1.,  1.,  1.,  1.,  1.,  1.,  1.,  1.,  1.,  1.,  1.,  1.,\n",
       "        1.,  1.,  1.,  1.,  1.,  1.,  1.,  1.,  1.,  1.,  1.,  1.,  1.,\n",
       "        1.,  1.,  1.,  1.,  1.,  1., -1., -1.,  1.,  1., -1., -1., -1.,\n",
       "        1., -1., -1., -1., -1., -1.,  1., -1., -1., -1., -1.,  1., -1.,\n",
       "        1., -1.,  1.,  1.,  1.,  1.,  1., -1.])"
      ]
     },
     "execution_count": 4,
     "metadata": {},
     "output_type": "execute_result"
    }
   ],
   "source": [
    "Y_pred"
   ]
  },
  {
   "cell_type": "code",
   "execution_count": 5,
   "metadata": {
    "collapsed": false
   },
   "outputs": [
    {
     "data": {
      "text/plain": [
       "array([ 1,  1,  1,  1,  1,  1,  1,  1,  1,  1,  1,  1,  1,  1,  1,  1,  1,\n",
       "        1,  1,  1,  1,  1,  1,  1,  1,  1,  1,  1,  1,  1, -1, -1, -1, -1,\n",
       "       -1, -1, -1, -1, -1, -1, -1, -1, -1, -1, -1, -1, -1, -1, -1, -1, -1,\n",
       "       -1, -1, -1, -1, -1, -1, -1, -1, -1])"
      ]
     },
     "execution_count": 5,
     "metadata": {},
     "output_type": "execute_result"
    }
   ],
   "source": [
    "np.sign(Y_te)"
   ]
  },
  {
   "cell_type": "code",
   "execution_count": 6,
   "metadata": {
    "collapsed": false
   },
   "outputs": [
    {
     "data": {
      "text/plain": [
       "array([[ 2.37756379,  0.38422765]])"
      ]
     },
     "execution_count": 6,
     "metadata": {},
     "output_type": "execute_result"
    }
   ],
   "source": [
    "C.SV"
   ]
  },
  {
   "cell_type": "code",
   "execution_count": 10,
   "metadata": {
    "collapsed": false
   },
   "outputs": [
    {
     "name": "stderr",
     "output_type": "stream",
     "text": [
      "/usr/local/lib/python3.5/dist-packages/ipykernel/__main__.py:10: FutureWarning: comparison to `None` will result in an elementwise object comparison in the future.\n"
     ]
    },
    {
     "data": {
      "image/png": "[encoded data removed]",
      "text/plain": [
       "<matplotlib.figure.Figure at 0x7f1d08859da0>"
      ]
     },
     "metadata": {},
     "output_type": "display_data"
    }
   ],
   "source": [
    "plot_svm_2d(X_tr, Y_tr, C)"
   ]
  },
  {
   "cell_type": "code",
   "execution_count": 60,
   "metadata": {
    "collapsed": false
   },
   "outputs": [
    {
     "name": "stderr",
     "output_type": "stream",
     "text": [
      "/usr/local/lib/python3.5/dist-packages/ipykernel/__main__.py:10: FutureWarning: comparison to `None` will result in an elementwise object comparison in the future.\n"
     ]
    }
   ],
   "source": [
    "a = np.linspace(-3,3,90)\n",
    "b = np.linspace(-3,3,90)\n",
    "A, B = np.meshgrid(x,y)\n",
    "Z = [[a,b] for (a,b) in zip(A,B)]\n",
    "Z = [C.fx(np.append(a.reshape(len(a),1),b.reshape(len(b),1),1),C.SV,C.y).T for (a,b) in zip(A,B)]"
   ]
  },
  {
   "cell_type": "code",
   "execution_count": 61,
   "metadata": {
    "collapsed": false
   },
   "outputs": [
    {
     "name": "stdout",
     "output_type": "stream",
     "text": [
      "[[-3.         -2.93258427 -2.86516854 ...,  2.86516854  2.93258427  3.        ]\n",
      " [-3.         -2.93258427 -2.86516854 ...,  2.86516854  2.93258427  3.        ]\n",
      " [-3.         -2.93258427 -2.86516854 ...,  2.86516854  2.93258427  3.        ]\n",
      " ..., \n",
      " [-3.         -2.93258427 -2.86516854 ...,  2.86516854  2.93258427  3.        ]\n",
      " [-3.         -2.93258427 -2.86516854 ...,  2.86516854  2.93258427  3.        ]\n",
      " [-3.         -2.93258427 -2.86516854 ...,  2.86516854  2.93258427  3.        ]]\n",
      "[[-3.         -3.         -3.         ..., -3.         -3.         -3.        ]\n",
      " [-2.93258427 -2.93258427 -2.93258427 ..., -2.93258427 -2.93258427\n",
      "  -2.93258427]\n",
      " [-2.86516854 -2.86516854 -2.86516854 ..., -2.86516854 -2.86516854\n",
      "  -2.86516854]\n",
      " ..., \n",
      " [ 2.86516854  2.86516854  2.86516854 ...,  2.86516854  2.86516854\n",
      "   2.86516854]\n",
      " [ 2.93258427  2.93258427  2.93258427 ...,  2.93258427  2.93258427\n",
      "   2.93258427]\n",
      " [ 3.          3.          3.         ...,  3.          3.          3.        ]]\n"
     ]
    }
   ],
   "source": [
    "print(X)\n",
    "print(Y)"
   ]
  },
  {
   "cell_type": "code",
   "execution_count": 62,
   "metadata": {
    "collapsed": false
   },
   "outputs": [
    {
     "data": {
      "text/plain": [
       "array([[ 6.47546081,  6.4022495 ,  6.32903819,  6.25582688,  6.18261557,\n",
       "         6.10940426,  6.03619295,  5.96298164,  5.88977033,  5.81655902,\n",
       "         5.74334771,  5.67013641,  5.5969251 ,  5.52371379,  5.45050248,\n",
       "         5.37729117,  5.30407986,  5.23086855,  5.15765724,  5.08444593,\n",
       "         5.01123462,  4.93802331,  4.864812  ,  4.79160069,  4.71838938,\n",
       "         4.64517807,  4.57196676,  4.49875545,  4.42554415,  4.35233284,\n",
       "         4.27912153,  4.20591022,  4.13269891,  4.0594876 ,  3.98627629,\n",
       "         3.91306498,  3.83985367,  3.76664236,  3.69343105,  3.62021974,\n",
       "         3.54700843,  3.47379712,  3.40058581,  3.3273745 ,  3.2541632 ,\n",
       "         3.18095189,  3.10774058,  3.03452927,  2.96131796,  2.88810665,\n",
       "         2.81489534,  2.74168403,  2.66847272,  2.59526141,  2.5220501 ,\n",
       "         2.44883879,  2.37562748,  2.30241617,  2.22920486,  2.15599355,\n",
       "         2.08278224,  2.00957094,  1.93635963,  1.86314832,  1.78993701,\n",
       "         1.7167257 ,  1.64351439,  1.57030308,  1.49709177,  1.42388046,\n",
       "         1.35066915,  1.27745784,  1.20424653,  1.13103522,  1.05782391,\n",
       "         0.9846126 ,  0.91140129,  0.83818999,  0.76497868,  0.69176737,\n",
       "         0.61855606,  0.54534475,  0.47213344,  0.39892213,  0.32571082,\n",
       "         0.25249951,  0.1792882 ,  0.10607689,  0.03286558, -0.04034573]])"
      ]
     },
     "execution_count": 62,
     "metadata": {},
     "output_type": "execute_result"
    }
   ],
   "source": [
    "Z[0]"
   ]
  },
  {
   "cell_type": "code",
   "execution_count": 51,
   "metadata": {
    "collapsed": false
   },
   "outputs": [
    {
     "data": {
      "text/plain": [
       "(1, 2)"
      ]
     },
     "execution_count": 51,
     "metadata": {},
     "output_type": "execute_result"
    }
   ],
   "source": [
    "C.SV.shape"
   ]
  },
  {
   "cell_type": "code",
   "execution_count": 50,
   "metadata": {
    "collapsed": false
   },
   "outputs": [
    {
     "data": {
      "text/plain": [
       "array([ 0.45675652])"
      ]
     },
     "execution_count": 50,
     "metadata": {},
     "output_type": "execute_result"
    }
   ],
   "source": [
    "C.alpha"
   ]
  },
  {
   "cell_type": "code",
   "execution_count": 11,
   "metadata": {
    "collapsed": true
   },
   "outputs": [],
   "source": [
    "class SVMTrainer(object):\n",
    "    def __init__(self, kernel, c):\n",
    "        self._kernel = kernel\n",
    "        self._c = c\n",
    "\n",
    "    def train(self, X, y):\n",
    "        \"\"\"Given the training features X with labels y, returns a SVM\n",
    "        predictor representing the trained SVM.\n",
    "        \"\"\"\n",
    "        lagrange_multipliers = self._compute_multipliers(X, y)\n",
    "        return self._construct_predictor(X, y, lagrange_multipliers)\n",
    "\n",
    "    def _gram_matrix(self, X):\n",
    "        n_samples, n_features = X.shape\n",
    "        K = np.zeros((n_samples, n_samples))\n",
    "        # TODO(tulloch) - vectorize\n",
    "        for i, x_i in enumerate(X):\n",
    "            for j, x_j in enumerate(X):\n",
    "                K[i, j] = self._kernel(x_i, x_j)\n",
    "        return K\n",
    "\n",
    "    def _construct_predictor(self, X, y, lagrange_multipliers):\n",
    "        support_vector_indices = \\\n",
    "            lagrange_multipliers > MIN_SUPPORT_VECTOR_MULTIPLIER\n",
    "\n",
    "        support_multipliers = lagrange_multipliers[support_vector_indices]\n",
    "        support_vectors = X[support_vector_indices]\n",
    "        support_vector_labels = y[support_vector_indices]\n",
    "\n",
    "        # http://www.cs.cmu.edu/~guestrin/Class/10701-S07/Slides/kernels.pdf\n",
    "        # bias = y_k - \\sum z_i y_i  K(x_k, x_i)\n",
    "        # Thus we can just predict an example with bias of zero, and\n",
    "        # compute error.\n",
    "        bias = np.mean(\n",
    "            [y_k - SVMPredictor(\n",
    "                kernel=self._kernel,\n",
    "                bias=0.0,\n",
    "                weights=support_multipliers,\n",
    "                support_vectors=support_vectors,\n",
    "                support_vector_labels=support_vector_labels).predict(x_k)\n",
    "             for (y_k, x_k) in zip(support_vector_labels, support_vectors)])\n",
    "\n",
    "        return SVMPredictor(\n",
    "            kernel=self._kernel,\n",
    "            bias=bias,\n",
    "            weights=support_multipliers,\n",
    "            support_vectors=support_vectors,\n",
    "            support_vector_labels=support_vector_labels)\n",
    "\n",
    "    def _compute_multipliers(self, X, y):\n",
    "        n_samples, n_features = X.shape\n",
    "\n",
    "        K = self._gram_matrix(X)\n",
    "        # Solves\n",
    "        # min 1/2 x^T P x + q^T x\n",
    "        # s.t.\n",
    "        #  Gx \\coneleq h\n",
    "        #  Ax = b\n",
    "\n",
    "        P = cvxopt.matrix(np.outer(y, y) * K)\n",
    "        q = cvxopt.matrix(-1 * np.ones(n_samples))\n",
    "\n",
    "        # -a_i \\leq 0\n",
    "        # TODO(tulloch) - modify G, h so that we have a soft-margin classifier\n",
    "        G_std = cvxopt.matrix(np.diag(np.ones(n_samples) * -1))\n",
    "        h_std = cvxopt.matrix(np.zeros(n_samples))\n",
    "\n",
    "        # a_i \\leq c\n",
    "        G_slack = cvxopt.matrix(np.diag(np.ones(n_samples)))\n",
    "        h_slack = cvxopt.matrix(np.ones(n_samples) * self._c)\n",
    "\n",
    "        G = cvxopt.matrix(np.vstack((G_std, G_slack)))\n",
    "        h = cvxopt.matrix(np.vstack((h_std, h_slack)))\n",
    "\n",
    "        A = cvxopt.matrix(y, (1, n_samples))\n",
    "        b = cvxopt.matrix(0.0)\n",
    "\n",
    "        solution = cvxopt.solvers.qp(P, q, G, h, A, b)\n",
    "\n",
    "        # Lagrange multipliers\n",
    "        return np.ravel(solution['x'])"
   ]
  },
  {
   "cell_type": "code",
   "execution_count": null,
   "metadata": {
    "collapsed": true
   },
   "outputs": [],
   "source": [
    "class SVMPredictor(object):\n",
    "    def __init__(self,\n",
    "                 kernel,\n",
    "                 bias,\n",
    "                 weights,\n",
    "                 support_vectors,\n",
    "                 support_vector_labels):\n",
    "        self._kernel = kernel\n",
    "        self._bias = bias\n",
    "        self._weights = weights\n",
    "        self._support_vectors = support_vectors\n",
    "        self._support_vector_labels = support_vector_labels\n",
    "\n",
    "    def predict(self, x):\n",
    "        \"\"\"\n",
    "        Computes the SVM prediction on the given features x.\n",
    "        \"\"\"\n",
    "        result = self._bias\n",
    "        for z_i, x_i, y_i in zip(self._weights,\n",
    "                                 self._support_vectors,\n",
    "                                 self._support_vector_labels):\n",
    "            result += z_i * y_i * self._kernel(x_i, x)\n",
    "        return np.sign(result).item()\n",
    "    \n",
    "import numpy as np\n",
    "import numpy.linalg as la\n",
    "\n",
    "\n",
    "class Kernel(object):\n",
    "    \"\"\"Implements list of kernels from\n",
    "    http://en.wikipedia.org/wiki/Support_vector_machine\n",
    "    \"\"\"\n",
    "    @staticmethod\n",
    "    def linear():\n",
    "        def f(x, y):\n",
    "            return np.inner(x, y)\n",
    "        return f\n",
    "\n",
    "    @staticmethod\n",
    "    def gaussian(sigma):\n",
    "        def f(x, y):\n",
    "            exponent = -np.sqrt(la.norm(x-y) ** 2 / (2 * sigma ** 2))\n",
    "            return np.exp(exponent)\n",
    "        return f\n",
    "\n",
    "    @staticmethod\n",
    "    def _polykernel(dimension, offset):\n",
    "        def f(x, y):\n",
    "            return (offset + np.dot(x, y)) ** dimension\n",
    "        return f\n",
    "\n",
    "    @staticmethod\n",
    "    def inhomogenous_polynomial(dimension):\n",
    "        return Kernel._polykernel(dimension=dimension, offset=1.0)\n",
    "\n",
    "    @staticmethod\n",
    "    def homogenous_polynomial(dimension):\n",
    "        return Kernel._polykernel(dimension=dimension, offset=0.0)\n",
    "\n",
    "    @staticmethod\n",
    "    def hyperbolic_tangent(kappa, c):\n",
    "        def f(x, y):\n",
    "            return np.tanh(kappa * np.dot(x, y) + c)\n",
    "        return f"
   ]
  }
 ],
 "metadata": {
  "kernelspec": {
   "display_name": "Python 3",
   "language": "python",
   "name": "python3"
  },
  "language_info": {
   "codemirror_mode": {
    "name": "ipython",
    "version": 3
   },
   "file_extension": ".py",
   "mimetype": "text/x-python",
   "name": "python",
   "nbconvert_exporter": "python",
   "pygments_lexer": "ipython3",
   "version": "3.5.2"
  }
 },
 "nbformat": 4,
 "nbformat_minor": 2
}
