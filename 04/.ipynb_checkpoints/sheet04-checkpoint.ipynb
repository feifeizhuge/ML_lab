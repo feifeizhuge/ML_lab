{
 "cells": [
  {
   "cell_type": "code",
   "execution_count": 1,
   "metadata": {
    "collapsed": true
   },
   "outputs": [],
   "source": [
    "import numpy as np\n",
    "import numpy.testing as npt\n",
    "from scipy.linalg import expm\n",
    "import matplotlib.pyplot as plt\n",
    "from matplotlib.transforms import Affine2D\n",
    "from matplotlib.collections import PatchCollection\n",
    "import scipy.spatial, scipy.linalg\n",
    "import scipy.sparse.linalg\n",
    "from scipy.misc import logsumexp\n",
    "from scipy.cluster.hierarchy import linkage, dendrogram\n",
    "import itertools as it\n",
    "import time\n",
    "%matplotlib inline\n"
   ]
  },
  {
   "cell_type": "code",
   "execution_count": 2,
   "metadata": {
    "collapsed": false
   },
   "outputs": [
    {
     "data": {
      "text/plain": [
       "array([-1.,  1., -1.,  1., -1.,  1.,  1.,  1.,  1., -1.])"
      ]
     },
     "execution_count": 2,
     "metadata": {},
     "output_type": "execute_result"
    }
   ],
   "source": [
    "np.sign(np.random.randn(10))"
   ]
  },
  {
   "cell_type": "code",
   "execution_count": null,
   "metadata": {
    "collapsed": true
   },
   "outputs": [],
   "source": [
    "class svm_smo(): \n",
    "    \n",
    "    def __init__(self, kernel, kernelparameter, regularization):\n",
    "        self.kernel = kernel\n",
    "        self.kernelparameter = kernelparameter\n",
    "        self.regularization = regularization\n",
    "        self.kp = kernelparameter\n",
    "        self.c = regularization\n",
    "\n",
    "    def getkernel(self, X, Y=None):\n",
    "        n= len(X)\n",
    "        n2 = n\n",
    "        if(Y==None):\n",
    "            X2=np.array(X)\n",
    "            x2=len(X2)\n",
    "            n2 = n\n",
    "        else: \n",
    "            X2 = Y\n",
    "            n2 = len(X2)\n",
    " \n",
    "        if((self.kernel =='gaussian') or (self.kernel ==['gaussian'])):\n",
    "            w = self.kp\n",
    "            X1 = (X**2).sum(1).reshape(n,1)*np.ones((n,n2))\n",
    "            U1 = (X2**2).sum(1).reshape(1,n2) * np.ones([n,n2])\n",
    "            D = X1 - 2*(X.dot(X2.T)) + U1\n",
    "            K = np.exp(-D/(2*w**2))\n",
    "        elif((self.kernel =='polynomial') or (self.kernel ==['polynomial'])):\n",
    "            p= self.kp\n",
    "            K = (np.dot(X,X2.T)+1)**p\n",
    "        elif((self.kernel =='linear') or (self.kernel ==['linear'])):\n",
    "            K = np.dot(X,X2.T)\n",
    "        else:\n",
    "            raise AssertionError(\"Choose from ['gaussian','polynomial','linear']\")\n",
    "        return K\n",
    "    \n",
    "    \n",
    "    def fx(self,X1,X2,Y):\n",
    "        K=getkernel(X1,X2)\n",
    "        alpY = (Y*self.alpha).reshape(len(self.alpha),1)\n",
    "        return np.sign(np.dot(K,alpY)+self.b)\n",
    "    \n",
    "    def _compute_box_constraints(self, i, j, Y, alpha, C):\n",
    "        blidx=(Y[i]==Y[j])\n",
    "        L=np.zeros(len(i))\n",
    "        H=np.zeros(len(i))\n",
    "        L[np.where(blidx==1)] = (alpha[i]+alpha[j]-C)[np.where(blidx==1)]\n",
    "        L[np.where(blidx==0)] =(alpha[j]-alpha[i])[np.where(blidx==0)]\n",
    "        L[np.where(L<0)] = 0\n",
    "        H[np.where(blidx==1)] = (alpha[i]+alpha[j])[np.where(blidx==1)]\n",
    "        H[np.where(blidx==0)] =(C+alpha[j]-alpha[i])[np.where(blidx==0)]\n",
    "        H[np.where(H>C)] = C\n",
    "        return L, H \n",
    "    \n",
    "    \n",
    "    def _update_parameters(self, E_i, E_j, i, j, K, Y, alpha, b, C):\n",
    "        L, H = self._compute_box_constraints(self, i, j, Y, alpha, C)\n",
    "        alpha_old =  np.array(alpha)\n",
    "        alpha_new =  np.array(alpha)\n",
    "        n= np.arange(len(i))\n",
    "        nochangeidx=np.where((L==H)==1)\n",
    "        kappa = 2*K[i,j] -K[i,i]-K[j,j]\n",
    "        nochangeidx2 = np.where(kappa>=0)\n",
    "        n=np.setdiff1d(n,nochangeidx)\n",
    "        \n",
    "        if(len(n)==0):\n",
    "            return alpha_old, b, False\n",
    "        changeidx=np.setdiff1d(n,nochangeidx2)\n",
    "        if(len(changeidx)==0):\n",
    "            return alpha_old, b, False\n",
    "        \n",
    "        alphaj_old=np.array(alpha[j[changeidx]])\n",
    "        alpha[j[changeidx]]= alpha[j[changeidx]]-Y[j[changeidx]]*(E_i[changeidx]-E_j[changeidx])/kappa[i[changeidx]]\n",
    "        pointa= (alpha[j])[changeidx]\n",
    "        pointa[np.where(poita>H[changeidx])]=(H[changeidx])[np.where(poita>H[changeidx])]\n",
    "        pointa[np.where(poita<L[changeidx])]=(H[changeidx])[np.where(poita<L[changeidx])]\n",
    "        alpha[i[changeidx]]= alpha[i[changeidx]]-Y[i[changeidx]]*Y[j[changeidx]]*(alphaj_old-alpha[j[changeidx]])\n",
    "        chg=np.where(np.abs(alphaj_old-alpha[j[changeidx]])>0.0005)\n",
    "        if(len(chg)==0):\n",
    "            return alpha_old, b, False\n",
    "        newchgidx=changeidx[chg]\n",
    "        alpha_new[i[newchgidx]]=alpha[i[newchgidx]]\n",
    "        return alpha, new_b, updated\n",
    "    \n",
    "    \n",
    "    def _compute_updated_b(self, E_i, E_j, i, j, K, Y, alpha_old, alpha_new, b_old, C):\n",
    "        \n",
    "        return new_b\n",
    "     \n",
    "        \n",
    "    def fit(self, X, y):\n",
    "        #self.X_fit = X\n",
    "        n= len(X)\n",
    "        K = self.getkernel(X)\n",
    "        self.K = K\n",
    "        self.alpha = np.zeros(n)\n",
    "        self.b = 1\n",
    "        P=100\n",
    "        tol = 3\n",
    "        b1 = np.zeros((len(y),1))\n",
    "        b2 = np.zeros((len(y),1))\n",
    "        b3 = np.zeros((len(y),1))\n",
    "        b4 = np.zeros((len(y),1))\n",
    "        p=0\n",
    "        \n",
    "        while(p<P):\n",
    "            a=0\n",
    "            E = fx(X,X,y)-y.reshape(len(y),1)\n",
    "            b1[np.where((E*y.reshape(len(y),1))<(-tol))] = 1\n",
    "            b2[np.where(self.alpha<self.c)] = 1   #.astype(np.int64)\n",
    "            b12 = b1*b2\n",
    "            b3[np.where((E*y.reshape(len(y),1))>tol)] = 1\n",
    "            b4[np.where(self.alpha>0)] = 1   #.astype(np.int64)\n",
    "            b34 = b3*b4\n",
    "            blidx = (b12+b34)\n",
    "            i = np.where(blidx>0)\n",
    "            j = np.random.choice(len(self.alpha),len(i),False)\n",
    "            samebl = (i==j).astype(np.int64)\n",
    "            check=sum(samebl)\n",
    "            while(check>0):\n",
    "                bb=np.random.choice(np.setdiff1d(len(self.alpha), j[np.where(samebl==0)]),check,False)\n",
    "                j[np.where(samebl==1)]=bb\n",
    "                samebl = (i==j).astype(np.int64)\n",
    "                check=sum(samebl)\n",
    "                \n",
    "            new_alpha, new_b, updated=self._update_parameters(E[i], E[j], i, j, K, y, self.alpha, b, self.c)\n",
    "            \n",
    "            p=p+1\n",
    "\n",
    "        KK = self.K + self.c *np.eye(n)+np.eye(n)*0.000000001\n",
    "        inv = np.linalg.solve(KK,np.eye(n))\n",
    "        self.alpha= np.dot(inv,y.reshape(n,1))\n",
    "        \n",
    "    def predict(self, X):\n",
    "        K = self.getkernel(X, self.X_fit)\n",
    "        return np.dot(K, self.alpha)"
   ]
  },
  {
   "cell_type": "code",
   "execution_count": 146,
   "metadata": {
    "collapsed": false
   },
   "outputs": [
    {
     "name": "stdout",
     "output_type": "stream",
     "text": [
      "[ 1  3  4  5  6  7  9 10 12 13 14 19 20]\n",
      "[11 18 15  2  4 17  9 14 13  8  6 10 12]\n",
      "1\n",
      "[ 1  3  4  5  6  7  9 10 12 13 14 19 20]\n",
      "[11 18 15  2  4 17  1 14 13  8  6 10 12]\n",
      "0\n"
     ]
    }
   ],
   "source": [
    "a=np.array([1,3,4,5,6,7,9,10,12,13,14,19,20])\n",
    "rang =np.arange(20)\n",
    "b=np.random.choice(rang ,len(a),False)\n",
    "samebl = (a==b).astype(np.int64)\n",
    "check=sum(samebl)\n",
    "print(a)\n",
    "print(b)\n",
    "print(check)\n",
    "while(check>0):\n",
    "    bb=np.random.choice( np.setdiff1d(rang, b[np.where(samebl==0)]),check,False)\n",
    "    b[np.where(samebl==1)]=bb\n",
    "    samebl = (a==b).astype(np.int64)\n",
    "    check=sum(samebl)\n",
    "    print(a)\n",
    "    print(b)\n",
    "    print(check)"
   ]
  },
  {
   "cell_type": "code",
   "execution_count": 170,
   "metadata": {
    "collapsed": false
   },
   "outputs": [
    {
     "data": {
      "text/plain": [
       "array([0, 1, 2, 3, 4, 5, 6, 7, 8])"
      ]
     },
     "execution_count": 170,
     "metadata": {},
     "output_type": "execute_result"
    }
   ],
   "source": [
    "tes = np.arange(0,9)\n",
    "tes"
   ]
  },
  {
   "cell_type": "code",
   "execution_count": 171,
   "metadata": {
    "collapsed": true
   },
   "outputs": [],
   "source": [
    "arr = tes[0:4]"
   ]
  },
  {
   "cell_type": "code",
   "execution_count": 177,
   "metadata": {
    "collapsed": false
   },
   "outputs": [],
   "source": [
    "arr[2:4]=np.array([9,8])"
   ]
  },
  {
   "cell_type": "code",
   "execution_count": 181,
   "metadata": {
    "collapsed": false
   },
   "outputs": [
    {
     "data": {
      "text/plain": [
       "array([0, 4, 5, 6, 7, 8, 9])"
      ]
     },
     "execution_count": 181,
     "metadata": {},
     "output_type": "execute_result"
    }
   ],
   "source": [
    "dif=np.setdiff1d(tes,np.array([1,2,3]))\n",
    "dif"
   ]
  },
  {
   "cell_type": "code",
   "execution_count": 183,
   "metadata": {
    "collapsed": false
   },
   "outputs": [
    {
     "data": {
      "text/plain": [
       "array([0, 5, 6, 7, 8, 9])"
      ]
     },
     "execution_count": 183,
     "metadata": {},
     "output_type": "execute_result"
    }
   ],
   "source": [
    "np.setdiff1d(dif,np.array([1,2,3,4]))"
   ]
  },
  {
   "cell_type": "code",
   "execution_count": 196,
   "metadata": {
    "collapsed": false
   },
   "outputs": [
    {
     "data": {
      "text/plain": [
       "array([1, 8])"
      ]
     },
     "execution_count": 196,
     "metadata": {},
     "output_type": "execute_result"
    }
   ],
   "source": [
    "(tes[0:4])[np.array([1,3])]"
   ]
  },
  {
   "cell_type": "code",
   "execution_count": 205,
   "metadata": {
    "collapsed": false
   },
   "outputs": [
    {
     "data": {
      "text/plain": [
       "0"
      ]
     },
     "execution_count": 205,
     "metadata": {},
     "output_type": "execute_result"
    }
   ],
   "source": [
    "len(np.setdiff1d(tes,np.arange(10)))"
   ]
  },
  {
   "cell_type": "code",
   "execution_count": null,
   "metadata": {
    "collapsed": true
   },
   "outputs": [],
   "source": []
  }
 ],
 "metadata": {
  "kernelspec": {
   "display_name": "Python 3",
   "language": "python",
   "name": "python3"
  },
  "language_info": {
   "codemirror_mode": {
    "name": "ipython",
    "version": 3
   },
   "file_extension": ".py",
   "mimetype": "text/x-python",
   "name": "python",
   "nbconvert_exporter": "python",
   "pygments_lexer": "ipython3",
   "version": "3.5.2"
  }
 },
 "nbformat": 4,
 "nbformat_minor": 2
}
