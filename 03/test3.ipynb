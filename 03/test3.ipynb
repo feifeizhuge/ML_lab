{
 "cells": [
  {
   "cell_type": "code",
   "execution_count": null,
   "metadata": {
    "collapsed": false
   },
   "outputs": [
    {
     "name": "stderr",
     "output_type": "stream",
     "text": [
      "/home/ubthiro/Dokumente/WirtsInf/ML_Lab_Course\n",
      "\n",
      "/Ubung/03/sheet3.py:57: FutureWarning: comparison to `None` will result in an elementwise object comparison in the future.\n",
      "  if(Y==None):\n"
     ]
    },
    {
     "name": "stdout",
     "output_type": "stream",
     "text": [
      "Regularization range: 10**-4 .. 10**4\n",
      "Gaussian kernel parameter:  4.28133239872\n",
      "Regularization paramter:  0.215443469003\n"
     ]
    }
   ],
   "source": [
    "%load_ext autoreload\n",
    "%autoreload 2\n",
    "from sheet3 import *\n",
    "import matplotlib.pyplot as plt\n",
    "%run sheet3_tests"
   ]
  },
  {
   "cell_type": "code",
   "execution_count": null,
   "metadata": {
    "collapsed": true
   },
   "outputs": [],
   "source": []
  }
 ],
 "metadata": {
  "kernelspec": {
   "display_name": "Python 3",
   "language": "python",
   "name": "python3"
  },
  "language_info": {
   "codemirror_mode": {
    "name": "ipython",
    "version": 3
   },
   "file_extension": ".py",
   "mimetype": "text/x-python",
   "name": "python",
   "nbconvert_exporter": "python",
   "pygments_lexer": "ipython3",
   "version": "3.5.2"
  }
 },
 "nbformat": 4,
 "nbformat_minor": 2
}
