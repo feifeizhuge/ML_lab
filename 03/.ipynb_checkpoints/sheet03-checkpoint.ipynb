{
 "cells": [
  {
   "cell_type": "code",
   "execution_count": 1,
   "metadata": {
    "collapsed": false
   },
   "outputs": [],
   "source": [
    "import numpy as np\n",
    "import numpy.testing as npt\n",
    "from scipy.linalg import expm\n",
    "import matplotlib.pyplot as plt\n",
    "from matplotlib.transforms import Affine2D\n",
    "from matplotlib.collections import PatchCollection\n",
    "import scipy.spatial, scipy.linalg\n",
    "import scipy.sparse.linalg\n",
    "from scipy.misc import logsumexp\n",
    "from scipy.cluster.hierarchy import linkage, dendrogram\n",
    "import itertools as it\n",
    "from scipy.signal import correlate\n",
    "import unittest\n",
    "import scipy.linalg as la\n",
    "import pylab as pl\n",
    "import sheet3 as imp\n",
    "%matplotlib inline\n",
    "\n",
    "kernels = ['gaussian','polynomial','linear']\n",
    "titles = ['gaussian','polynomial','linear']\n",
    "params = [0.5,6,0]\n",
    "regularizations = [ 0.01,0.01,0.01]\n"
   ]
  },
  {
   "cell_type": "code",
   "execution_count": 2,
   "metadata": {
    "collapsed": false
   },
   "outputs": [
    {
     "data": {
      "text/plain": [
       "array([-0.63937407, -0.90109205, -0.16358813, -0.86980193, -0.35465344,\n",
       "       -0.97925184, -0.94536063, -0.88840456, -0.5104303 , -0.09743162])"
      ]
     },
     "execution_count": 2,
     "metadata": {},
     "output_type": "execute_result"
    }
   ],
   "source": [
    "s = np.random.uniform(-1,0,10)\n",
    "s"
   ]
  },
  {
   "cell_type": "code",
   "execution_count": 3,
   "metadata": {
    "collapsed": true
   },
   "outputs": [],
   "source": [
    "#method = cv(X, y, method, parameters, nfolds=10, nrepetitions=5, loss function)\n",
    "def a(method):\n",
    "    m = method(40)\n",
    "    return m"
   ]
  },
  {
   "cell_type": "code",
   "execution_count": 4,
   "metadata": {
    "collapsed": false
   },
   "outputs": [],
   "source": [
    "class k():\n",
    "    def __init__(self, param1):\n",
    "        self.param1 = param1\n"
   ]
  },
  {
   "cell_type": "code",
   "execution_count": 5,
   "metadata": {
    "collapsed": false
   },
   "outputs": [],
   "source": [
    "b=a(k)"
   ]
  },
  {
   "cell_type": "code",
   "execution_count": 6,
   "metadata": {
    "collapsed": false
   },
   "outputs": [
    {
     "data": {
      "text/plain": [
       "True"
      ]
     },
     "execution_count": 6,
     "metadata": {},
     "output_type": "execute_result"
    }
   ],
   "source": [
    "b.param1\n",
    "1!=0"
   ]
  },
  {
   "cell_type": "code",
   "execution_count": 10,
   "metadata": {
    "collapsed": false
   },
   "outputs": [
    {
     "name": "stdout",
     "output_type": "stream",
     "text": [
      "[[ 0.  0.  0.]\n",
      " [ 1.  1.  1.]\n",
      " [ 2.  2.  2.]\n",
      " [ 3.  3.  3.]\n",
      " [ 4.  4.  4.]\n",
      " [ 5.  5.  5.]\n",
      " [ 6.  6.  6.]\n",
      " [ 7.  7.  7.]\n",
      " [ 8.  8.  8.]\n",
      " [ 9.  9.  9.]]\n",
      "[0 1 2 3 4 5 6 7 8 9]\n"
     ]
    }
   ],
   "source": [
    "c= np.arange(10).reshape(10,1)*np.ones(3)\n",
    "print(c)\n",
    "X=c\n",
    "nfolds=3\n",
    "nrepetitions=5\n",
    "y = np.arange(len(c))\n",
    "print(y)\n",
    "\n",
    "params = { 'kernel': ['gaussian'], 'kernelparameter': np.logspace(-4,4,20),'regularization': np.logspace(-2,2,10) }"
   ]
  },
  {
   "cell_type": "code",
   "execution_count": 13,
   "metadata": {
    "collapsed": false
   },
   "outputs": [
    {
     "data": {
      "text/plain": [
       "array([  1.00000000e-02,   2.78255940e-02,   7.74263683e-02,\n",
       "         2.15443469e-01,   5.99484250e-01,   1.66810054e+00,\n",
       "         4.64158883e+00,   1.29154967e+01,   3.59381366e+01,\n",
       "         1.00000000e+02])"
      ]
     },
     "execution_count": 13,
     "metadata": {},
     "output_type": "execute_result"
    }
   ],
   "source": [
    "np.logspace(-2,2,10)"
   ]
  },
  {
   "cell_type": "code",
   "execution_count": 8,
   "metadata": {
    "collapsed": false
   },
   "outputs": [],
   "source": [
    "#method = cv(X, y, method, parameters, nfolds=10, nrepetitions=5, loss function)\n",
    "def cv(X, y, method, parameters,loss_function,nfolds=10, nrepetitions=5):\n",
    "    loss_function =0.\n",
    "    n=len(X)\n",
    "    d = len(X[0])\n",
    "    e = n % nfolds\n",
    "    div = n-e\n",
    "    nom = int(div/nfolds)\n",
    "    krr = method(params['kernel'],params['kernelparameter'],params['regularization'])\n",
    "    for i in range(nrepetitions):\n",
    "        partidx=np.append((np.ones((nfolds,nom))*np.arange(nom)).reshape(div),np.arange(e))\n",
    "        np.random.shuffle(partidx)\n",
    "        for j in range(nfolds):\n",
    "            method.fit(X[np.where(partidx!=j)])\n",
    "            yy=method.predict(X[np.where(partidx==j)])\n",
    "            booly = (y==yy).astype(np.int64)\n",
    "            loss_function = loss_function + booly.sum()/len(X[np.where(partidx==j)])\n",
    "            \n",
    "    loss_function = loss_function/(nfolds*nrepetitions)\n",
    "    "
   ]
  },
  {
   "cell_type": "code",
   "execution_count": 9,
   "metadata": {
    "collapsed": false
   },
   "outputs": [
    {
     "ename": "NameError",
     "evalue": "name 'parameters' is not defined",
     "output_type": "error",
     "traceback": [
      "\u001b[0;31m---------------------------------------------------------------------------\u001b[0m",
      "\u001b[0;31mNameError\u001b[0m                                 Traceback (most recent call last)",
      "\u001b[0;32m<ipython-input-9-07f89d01ee80>\u001b[0m in \u001b[0;36m<module>\u001b[0;34m()\u001b[0m\n\u001b[1;32m      1\u001b[0m \u001b[0mkrr\u001b[0m \u001b[0;34m=\u001b[0m \u001b[0mimp\u001b[0m\u001b[0;34m.\u001b[0m\u001b[0mkrr\u001b[0m\u001b[0;34m(\u001b[0m\u001b[0mkernel\u001b[0m\u001b[0;34m=\u001b[0m\u001b[0mkernels\u001b[0m\u001b[0;34m[\u001b[0m\u001b[0;36m0\u001b[0m\u001b[0;34m]\u001b[0m\u001b[0;34m,\u001b[0m \u001b[0mkernelparameter\u001b[0m\u001b[0;34m=\u001b[0m\u001b[0mparams\u001b[0m\u001b[0;34m[\u001b[0m\u001b[0;36m0\u001b[0m\u001b[0;34m]\u001b[0m\u001b[0;34m,\u001b[0m \u001b[0mregularization\u001b[0m\u001b[0;34m=\u001b[0m\u001b[0mregularizations\u001b[0m\u001b[0;34m[\u001b[0m\u001b[0;36m0\u001b[0m\u001b[0;34m]\u001b[0m\u001b[0;34m)\u001b[0m\u001b[0;34m\u001b[0m\u001b[0m\n\u001b[1;32m      2\u001b[0m \u001b[0mloss_function\u001b[0m \u001b[0;34m=\u001b[0m \u001b[0;36m0.\u001b[0m\u001b[0;34m\u001b[0m\u001b[0m\n\u001b[0;32m----> 3\u001b[0;31m \u001b[0mcv\u001b[0m\u001b[0;34m(\u001b[0m\u001b[0mX\u001b[0m\u001b[0;34m,\u001b[0m \u001b[0my\u001b[0m\u001b[0;34m,\u001b[0m \u001b[0mkrr\u001b[0m\u001b[0;34m,\u001b[0m \u001b[0mparameters\u001b[0m\u001b[0;34m,\u001b[0m\u001b[0mloss_function\u001b[0m\u001b[0;34m,\u001b[0m\u001b[0mnfolds\u001b[0m\u001b[0;34m=\u001b[0m\u001b[0;36m10\u001b[0m\u001b[0;34m,\u001b[0m \u001b[0mnrepetitions\u001b[0m\u001b[0;34m=\u001b[0m\u001b[0;36m5\u001b[0m\u001b[0;34m)\u001b[0m\u001b[0;34m\u001b[0m\u001b[0m\n\u001b[0m",
      "\u001b[0;31mNameError\u001b[0m: name 'parameters' is not defined"
     ]
    }
   ],
   "source": [
    "krr = imp.krr(kernel=kernels[0], kernelparameter=params[0], regularization=regularizations[0])\n",
    "loss_function = 0.\n",
    "cv(X, y, krr, parameters,loss_function,nfolds=10, nrepetitions=5)"
   ]
  },
  {
   "cell_type": "code",
   "execution_count": 12,
   "metadata": {
    "collapsed": false
   },
   "outputs": [
    {
     "name": "stdout",
     "output_type": "stream",
     "text": [
      "[-1 -2 -3]\n",
      "[2 1 0]\n",
      "[[5 4 3]\n",
      " [5 4 3]]\n",
      "[[1 1 1 1 1 1 3 4 5 5 4 3]\n",
      " [1 1 1 1 1 1 3 4 5 5 4 3]]\n",
      "[[ 5  6  6  6  6 12 19 26 29 27 22 10]\n",
      " [ 5  6  6  6  6 12 19 26 29 27 22 10]]\n"
     ]
    },
    {
     "name": "stderr",
     "output_type": "stream",
     "text": [
      "/usr/local/lib/python3.5/dist-packages/ipykernel/__main__.py:15: VisibleDeprecationWarning: using a non-integer number instead of an integer will result in an error in the future\n"
     ]
    },
    {
     "data": {
      "text/plain": [
       "array([[ 6,  6, 12, 19, 26, 29],\n",
       "       [ 6,  6, 12, 19, 26, 29]])"
      ]
     },
     "execution_count": 12,
     "metadata": {},
     "output_type": "execute_result"
    }
   ],
   "source": [
    "aa = np.array([[1,1,1,3,4,5],[1,1,1,3,4,5]])\n",
    "nn = len(aa[0])\n",
    "idxvor = -np.arange(nn/2)\n",
    "idxvor=np.argsort(idxvor)\n",
    "idxnach = -(np.arange(len(aa[0])/2)+1).astype(np.int64)\n",
    "print(idxnach)\n",
    "print(idxvor)\n",
    "print(aa[:,idxnach])\n",
    "aa = np.append(aa[:,idxvor],aa,1)\n",
    "aa = np.append(aa,aa[:,idxnach],1)\n",
    "print(aa)\n",
    "bb = np.array([[1,2,3]])\n",
    "cc = correlate(aa,bb,'same')\n",
    "print(cc)\n",
    "CC = cc[:,nn/2:(-nn/2)]\n",
    "CC"
   ]
  },
  {
   "cell_type": "code",
   "execution_count": 13,
   "metadata": {
    "collapsed": false
   },
   "outputs": [],
   "source": [
    "combs = it.product([0,1],[2,3,4])"
   ]
  },
  {
   "cell_type": "code",
   "execution_count": 14,
   "metadata": {
    "collapsed": false
   },
   "outputs": [
    {
     "data": {
      "text/plain": [
       "[(0, 2), (0, 3), (0, 4), (1, 2), (1, 3), (1, 4)]"
      ]
     },
     "execution_count": 14,
     "metadata": {},
     "output_type": "execute_result"
    }
   ],
   "source": [
    "list(combs)"
   ]
  },
  {
   "cell_type": "code",
   "execution_count": 15,
   "metadata": {
    "collapsed": true
   },
   "outputs": [],
   "source": [
    "a = [[0,1],[2,3,4]]\n",
    "combs1 = it.product(a)\n",
    "combs2 = it.product(*a)"
   ]
  },
  {
   "cell_type": "code",
   "execution_count": 16,
   "metadata": {
    "collapsed": false
   },
   "outputs": [],
   "source": [
    "b=list([np.array(a[0]),np.array(a[1])])"
   ]
  },
  {
   "cell_type": "code",
   "execution_count": 17,
   "metadata": {
    "collapsed": false
   },
   "outputs": [],
   "source": [
    "b.append([np.arange(10)])"
   ]
  },
  {
   "cell_type": "code",
   "execution_count": 18,
   "metadata": {
    "collapsed": false
   },
   "outputs": [
    {
     "name": "stdout",
     "output_type": "stream",
     "text": [
      "[array([0, 1]), array([2, 3, 4]), [array([0, 1, 2, 3, 4, 5, 6, 7, 8, 9])]]\n"
     ]
    }
   ],
   "source": [
    "print(b)\n"
   ]
  },
  {
   "cell_type": "code",
   "execution_count": 19,
   "metadata": {
    "collapsed": false
   },
   "outputs": [
    {
     "name": "stdout",
     "output_type": "stream",
     "text": [
      "[[ 0.  0.  0.]\n",
      " [ 1.  1.  1.]\n",
      " [ 2.  2.  2.]\n",
      " [ 3.  3.  3.]\n",
      " [ 4.  4.  4.]\n",
      " [ 5.  5.  5.]\n",
      " [ 6.  6.  6.]\n",
      " [ 7.  7.  7.]\n",
      " [ 8.  8.  8.]\n",
      " [ 9.  9.  9.]]\n",
      "[0 1 2 3 4 5 6 7 8 9]\n"
     ]
    }
   ],
   "source": [
    "c= np.arange(10).reshape(10,1)*np.ones(3)\n",
    "print(c)\n",
    "X=c\n",
    "nfolds=3\n",
    "nrepetitions=5\n",
    "y = np.arange(len(c))\n",
    "print(y)"
   ]
  },
  {
   "cell_type": "code",
   "execution_count": 20,
   "metadata": {
    "collapsed": false
   },
   "outputs": [],
   "source": [
    "#method = cv(X, y, method, parameters, nfolds=10, nrepetitions=5, loss function)\n",
    "n=len(X)\n",
    "d = len(X[0])\n",
    "e = n % nfolds\n",
    "div = n-e\n",
    "nom = int(div/nfolds)\n",
    "#for i in range(nrepetitions):\n",
    "idx =  np.random.choice(n, n, replace=False)\n",
    "XX = X[idx]\n",
    "yy = y[idx]\n",
    "partx = list(XX[:div].reshape(nfolds,nom,d))\n",
    "party = list(yy[:div].reshape(nfolds,nom))\n",
    "if(e>0):\n",
    "    for j in range(e):\n",
    "        partx[j] = np.append(partx[j],XX[-j-1].reshape(1,d),0)\n",
    "        party[j] = np.append(party[j],yy[-j-1])"
   ]
  },
  {
   "cell_type": "code",
   "execution_count": 21,
   "metadata": {
    "collapsed": false
   },
   "outputs": [
    {
     "data": {
      "text/plain": [
       "[array([[ 4.,  4.,  4.],\n",
       "        [ 1.,  1.,  1.],\n",
       "        [ 7.,  7.,  7.],\n",
       "        [ 2.,  2.,  2.]]), array([[ 3.,  3.,  3.],\n",
       "        [ 6.,  6.,  6.],\n",
       "        [ 8.,  8.,  8.]]), array([[ 5.,  5.,  5.],\n",
       "        [ 9.,  9.,  9.],\n",
       "        [ 0.,  0.,  0.]])]"
      ]
     },
     "execution_count": 21,
     "metadata": {},
     "output_type": "execute_result"
    }
   ],
   "source": [
    "partx"
   ]
  },
  {
   "cell_type": "code",
   "execution_count": 22,
   "metadata": {
    "collapsed": false
   },
   "outputs": [
    {
     "data": {
      "text/plain": [
       "[array([4, 1, 7, 2]), array([3, 6, 8]), array([5, 9, 0])]"
      ]
     },
     "execution_count": 22,
     "metadata": {},
     "output_type": "execute_result"
    }
   ],
   "source": [
    "party"
   ]
  },
  {
   "cell_type": "code",
   "execution_count": 23,
   "metadata": {
    "collapsed": false
   },
   "outputs": [
    {
     "name": "stdout",
     "output_type": "stream",
     "text": [
      "[ 0.  1.  2.  0.  1.  2.  0.  1.  2.  0.]\n",
      "[ 2.  0.  0.  1.  0.  2.  0.  1.  1.  2.]\n"
     ]
    }
   ],
   "source": [
    "#method = cv(X, y, method, parameters, nfolds=10, nrepetitions=5, loss function)\n",
    "n=len(X)\n",
    "d = len(X[0])\n",
    "e = n % nfolds\n",
    "div = n-e\n",
    "nom = int(div/nfolds)\n",
    "#for i in range(nrepetitions):\n",
    "partidx=np.append((np.ones((nfolds,nom))*np.arange(nom)).reshape(div),np.arange(e))\n",
    "print(partidx)\n",
    "np.random.shuffle(partidx)\n",
    "print(partidx)\n"
   ]
  },
  {
   "cell_type": "code",
   "execution_count": 63,
   "metadata": {
    "collapsed": false
   },
   "outputs": [],
   "source": [
    "class KRR(): # KRR must be krr\n",
    "    \n",
    "    def __init__(self, kernel, kernelparameter, regularization):\n",
    "        self.kernel = kernel\n",
    "        self.kp = kernelparameter\n",
    "        self.c = regularization\n",
    "\n",
    "    def getkernel(self, X, Y=None):\n",
    "        n= len(X)\n",
    "        n2 = n\n",
    "        if(Y==None):\n",
    "            X2=np.array(X)\n",
    "            x2=len(X2)\n",
    "            n2 = n\n",
    "        else: \n",
    "            X2 = Y\n",
    "            n2 = len(X2)\n",
    "            \n",
    "        if(self.kernel =='gaussian'):\n",
    "            w = self.kp\n",
    "            X1 = (X**2).sum(1).reshape(n,1)*np.ones((n,n2))\n",
    "            U1 = (X2**2).sum(1).reshape(1,n2) * np.ones([n,n2])\n",
    "            D = X1 - 2*(X.dot(X2.T)) + U1\n",
    "            K = np.exp(-D/(2*w**2))\n",
    "        elif(self.kernel =='polynomial'):\n",
    "            p= self.kp\n",
    "            K = (np.dot(X,X2.T)+1)**p\n",
    "        elif(self.kernel =='linear'):\n",
    "            K = np.dot(X,X2.T)\n",
    "        else:\n",
    "            raise AssertionError(\"Choose from ['gaussian','polynomial','linear']\")\n",
    "        return K\n",
    "    \n",
    "    def fit(self, X, y):\n",
    "        self.X_fit = X\n",
    "        n= len(X)\n",
    "        K = self.getkernel(X)\n",
    "        self.K = K\n",
    "        if(self.c==0):\n",
    "            D, U =np.linalg.eigh(K)\n",
    "            c = np.random.uniform(0.01,0.10,100)\n",
    "            err = np.empty(len(c))\n",
    "            for i in range(len(c)):\n",
    "                LCI = np.diag(D)+c[i]*np.eye(n)\n",
    "                LCI_inv=np.linalg.solve(LCI,np.eye(n))\n",
    "                S = np.dot(np.dot(np.dot(U,np.diag(D)),LCI_inv),U.T)\n",
    "                UY = np.dot(U.T,y)\n",
    "                SY = np.dot(np.dot(np.dot(U,np.diag(D)),LCI_inv),UY)\n",
    "                err[i] = (((y-SY)/(1-np.diag(S)))**2).mean(0)\n",
    "            cidx=np.argmin(err)\n",
    "            self.c = c[cidx]\n",
    "        print(self.c)\n",
    "        \n",
    "        KK = self.K + self.c *np.eye(n)\n",
    "        inv = np.linalg.solve(KK,np.eye(n))\n",
    "        self.alpha= np.dot(inv,y.reshape(n,1))\n",
    "        \n",
    "    def predict(self, X):\n",
    "        K = self.getkernel(X, self.X_fit)\n",
    "        return np.dot(K, self.alpha)\n"
   ]
  },
  {
   "cell_type": "code",
   "execution_count": 64,
   "metadata": {
    "collapsed": true
   },
   "outputs": [],
   "source": [
    "def noisysincfunction(N, noise):\n",
    "    ''' noisysincfunction - generate data from the \"noisy sinc function\"\n",
    "        % usage\n",
    "        %     [X, Y] = noisysincfunction(N, noise)\n",
    "        %\n",
    "        % input\n",
    "        %     N: number of data points\n",
    "        %     noise: standard variation of the noise\n",
    "        %\n",
    "        % output\n",
    "        %     X: (1, N)-matrix uniformly sampled in -2pi, pi\n",
    "        %     Y: (1, N)-matrix equal to sinc(X) + noise\n",
    "        %\n",
    "        % description\n",
    "        %     Generates N points from the noisy sinc function\n",
    "        %\n",
    "        %        X ~ uniformly in [-2pi, pi]\n",
    "        %        Y = sinc(X) + eps, eps ~ Normal(0, noise.^2)\n",
    "        %\n",
    "        % author\n",
    "        %     Mikio Braun\n",
    "    '''\n",
    "    X = np.sort(2 * np.pi * np.random.rand(1, N) ) - np.pi\n",
    "    Y = np.sinc(X) + noise * np.random.randn(1, N)\n",
    "    return X.reshape(-1, 1), Y.flatten()\n",
    "\n",
    "def test_krr(KRR):\n",
    "    '''\n",
    "        tests the class krr\n",
    "    '''\n",
    "    Xtr, Ytr = noisysincfunction(100, 0.1)\n",
    "    Xte = np.arange( -np.pi, np.pi, 0.01 ).reshape(-1, 1)\n",
    "\n",
    "    pl.figure()\n",
    "    kernels = ['gaussian','polynomial','linear']\n",
    "    titles = ['gaussian','polynomial','linear']\n",
    "    params = [0.5,6,0]\n",
    "    regularizations = [ 0.01,0.01,0.01]\n",
    "    for i in range(3):\n",
    "        for j in range(2):\n",
    "            pl.subplot(2,3,1+i+3*j)\n",
    "            if j==0:\n",
    "                krr = KRR(kernel=kernels[i],\n",
    "                        kernelparameter=params[i],\n",
    "                        regularization=regularizations[i])\n",
    "                krr.fit(Xtr,Ytr)\n",
    "            if j==1:\n",
    "                krr = KRR(kernel=kernels[i],\n",
    "                        kernelparameter=params[i],\n",
    "                        regularization=0)\n",
    "                krr.fit(Xtr,Ytr)\n",
    "            ypred = krr.predict(Xte)\n",
    "            print(ypred.mean(0))\n",
    "            pl.plot(Xtr,Ytr)\n",
    "            pl.plot(Xte,ypred)\n",
    "            if j==0 and i == 0:\n",
    "                pl.ylabel('fixed regularization')\n",
    "            if j==1 and i == 0:\n",
    "                pl.ylabel('reg. by efficent cv')\n",
    "            pl.title( titles[i] )\n",
    "    pl.show()\n",
    "    print(Xtr.shape)\n",
    "    print(Ytr.shape)\n",
    "    print(Xte.shape)"
   ]
  },
  {
   "cell_type": "code",
   "execution_count": 65,
   "metadata": {
    "collapsed": false
   },
   "outputs": [
    {
     "name": "stdout",
     "output_type": "stream",
     "text": [
      "0.01\n",
      "[ 0.17892003]\n"
     ]
    },
    {
     "name": "stderr",
     "output_type": "stream",
     "text": [
      "/usr/local/lib/python3.5/dist-packages/ipykernel/__main__.py:11: FutureWarning: comparison to `None` will result in an elementwise object comparison in the future.\n"
     ]
    },
    {
     "name": "stdout",
     "output_type": "stream",
     "text": [
      "0.0995426467834\n",
      "[ 0.17732376]\n",
      "0.01\n",
      "[ 0.16596799]\n",
      "0.0984870403592\n",
      "[ 0.16527489]\n",
      "0.01\n",
      "[ -9.48397513e-06]\n",
      "0.0993463404149\n",
      "[ -9.48137526e-06]\n"
     ]
    },
    {
     "data": {
      "image/png": "[encoded data removed]",
      "text/plain": [
       "<matplotlib.figure.Figure at 0x7f09abbc8908>"
      ]
     },
     "metadata": {},
     "output_type": "display_data"
    },
    {
     "name": "stdout",
     "output_type": "stream",
     "text": [
      "(100, 1)\n",
      "(100,)\n",
      "(629, 1)\n"
     ]
    }
   ],
   "source": [
    "test_krr(KRR)"
   ]
  },
  {
   "cell_type": "code",
   "execution_count": 116,
   "metadata": {
    "collapsed": false
   },
   "outputs": [
    {
     "data": {
      "text/plain": [
       "array([[ 1.],\n",
       "       [ 1.],\n",
       "       [ 1.]])"
      ]
     },
     "execution_count": 116,
     "metadata": {},
     "output_type": "execute_result"
    }
   ],
   "source": [
    "np.eye(3).dot(np.ones((3,1)))"
   ]
  },
  {
   "cell_type": "code",
   "execution_count": 7,
   "metadata": {
    "collapsed": false
   },
   "outputs": [
    {
     "name": "stdout",
     "output_type": "stream",
     "text": [
      "[[ 0.  0.  0.]\n",
      " [ 1.  1.  1.]\n",
      " [ 2.  2.  2.]\n",
      " [ 3.  3.  3.]\n",
      " [ 4.  4.  4.]\n",
      " [ 5.  5.  5.]\n",
      " [ 6.  6.  6.]\n",
      " [ 7.  7.  7.]\n",
      " [ 8.  8.  8.]]\n"
     ]
    }
   ],
   "source": [
    "c= np.arange(9).reshape(9,1)*np.ones(3)\n",
    "print(c)"
   ]
  },
  {
   "cell_type": "code",
   "execution_count": 8,
   "metadata": {
    "collapsed": false
   },
   "outputs": [
    {
     "name": "stdout",
     "output_type": "stream",
     "text": [
      "[[[ 0.  0.  0.]\n",
      "  [ 1.  1.  1.]\n",
      "  [ 2.  2.  2.]]\n",
      "\n",
      " [[ 3.  3.  3.]\n",
      "  [ 4.  4.  4.]\n",
      "  [ 5.  5.  5.]]\n",
      "\n",
      " [[ 6.  6.  6.]\n",
      "  [ 7.  7.  7.]\n",
      "  [ 8.  8.  8.]]]\n"
     ]
    }
   ],
   "source": [
    "# reshape(m,num of menbers,dimension)\n",
    "newc=c.reshape(3,3,3)\n",
    "print(newc)\n",
    "#+extra"
   ]
  },
  {
   "cell_type": "code",
   "execution_count": 9,
   "metadata": {
    "collapsed": true
   },
   "outputs": [],
   "source": [
    "lis= list(newc)"
   ]
  },
  {
   "cell_type": "code",
   "execution_count": 10,
   "metadata": {
    "collapsed": false
   },
   "outputs": [],
   "source": [
    "lis[0] = np.append(lis[0],np.array([[1,2,3]]),0)"
   ]
  },
  {
   "cell_type": "code",
   "execution_count": 11,
   "metadata": {
    "collapsed": false
   },
   "outputs": [
    {
     "data": {
      "text/plain": [
       "array([[ 0.,  0.,  0.],\n",
       "       [ 1.,  1.,  1.],\n",
       "       [ 2.,  2.,  2.],\n",
       "       [ 1.,  2.,  3.]])"
      ]
     },
     "execution_count": 11,
     "metadata": {},
     "output_type": "execute_result"
    }
   ],
   "source": [
    "lis[0]"
   ]
  },
  {
   "cell_type": "code",
   "execution_count": 12,
   "metadata": {
    "collapsed": false
   },
   "outputs": [
    {
     "data": {
      "text/plain": [
       "[array([[ 0.,  0.,  0.],\n",
       "        [ 1.,  1.,  1.],\n",
       "        [ 2.,  2.,  2.],\n",
       "        [ 1.,  2.,  3.]]), array([[ 3.,  3.,  3.],\n",
       "        [ 4.,  4.,  4.],\n",
       "        [ 5.,  5.,  5.]]), array([[ 6.,  6.,  6.],\n",
       "        [ 7.,  7.,  7.],\n",
       "        [ 8.,  8.,  8.]])]"
      ]
     },
     "execution_count": 12,
     "metadata": {},
     "output_type": "execute_result"
    }
   ],
   "source": [
    "lis"
   ]
  },
  {
   "cell_type": "code",
   "execution_count": 14,
   "metadata": {
    "collapsed": false
   },
   "outputs": [
    {
     "data": {
      "text/plain": [
       "[array([1, 2, 3]), array([4, 6, 7]), array([12, 13, 14])]"
      ]
     },
     "execution_count": 14,
     "metadata": {},
     "output_type": "execute_result"
    }
   ],
   "source": [
    "list(np.array([[1,2,3],[4,6,7],[12,13,14]]))"
   ]
  },
  {
   "cell_type": "code",
   "execution_count": 169,
   "metadata": {
    "collapsed": true
   },
   "outputs": [],
   "source": [
    "combs = it.product([0,1],[2,3,4])"
   ]
  },
  {
   "cell_type": "code",
   "execution_count": 170,
   "metadata": {
    "collapsed": false
   },
   "outputs": [
    {
     "name": "stdout",
     "output_type": "stream",
     "text": [
      "[(0, 2), (0, 3), (0, 4), (1, 2), (1, 3), (1, 4)]\n"
     ]
    }
   ],
   "source": [
    "cmb = list(combs)\n",
    "print(cmb)"
   ]
  },
  {
   "cell_type": "code",
   "execution_count": 172,
   "metadata": {
    "collapsed": false
   },
   "outputs": [
    {
     "data": {
      "text/plain": [
       "6"
      ]
     },
     "execution_count": 172,
     "metadata": {},
     "output_type": "execute_result"
    }
   ],
   "source": [
    "len(cmb)"
   ]
  },
  {
   "cell_type": "code",
   "execution_count": 175,
   "metadata": {
    "collapsed": false
   },
   "outputs": [
    {
     "name": "stdout",
     "output_type": "stream",
     "text": [
      "[[1 2 3]\n",
      " [4 5 6]\n",
      " [7 8 9]]\n",
      "[[1]\n",
      " [2]]\n"
     ]
    }
   ],
   "source": [
    "a = np.array([[1,2,3],[4,5,6],[7,8,9]])\n",
    "b = np.array([[1,2]]).reshape(2,1)\n",
    "print(a)\n",
    "print(b)"
   ]
  },
  {
   "cell_type": "code",
   "execution_count": 176,
   "metadata": {
    "collapsed": false
   },
   "outputs": [
    {
     "name": "stdout",
     "output_type": "stream",
     "text": [
      "[(array([1, 2, 3]), array([1])), (array([1, 2, 3]), array([2])), (array([4, 5, 6]), array([1])), (array([4, 5, 6]), array([2])), (array([7, 8, 9]), array([1])), (array([7, 8, 9]), array([2]))]\n"
     ]
    }
   ],
   "source": [
    "combs = list(it.product(a,b))\n",
    "print(combs)"
   ]
  },
  {
   "cell_type": "code",
   "execution_count": 180,
   "metadata": {
    "collapsed": false
   },
   "outputs": [
    {
     "data": {
      "text/plain": [
       "array([[array([1, 2, 3]), array([1])],\n",
       "       [array([1, 2, 3]), array([2])],\n",
       "       [array([4, 5, 6]), array([1])],\n",
       "       [array([4, 5, 6]), array([2])],\n",
       "       [array([7, 8, 9]), array([1])],\n",
       "       [array([7, 8, 9]), array([2])]], dtype=object)"
      ]
     },
     "execution_count": 180,
     "metadata": {},
     "output_type": "execute_result"
    }
   ],
   "source": [
    "np.array(combs)"
   ]
  },
  {
   "cell_type": "code",
   "execution_count": 181,
   "metadata": {
    "collapsed": false
   },
   "outputs": [
    {
     "data": {
      "text/plain": [
       "array([array([1, 2, 3]), array([2, 4, 6]), array([4, 5, 6]),\n",
       "       array([ 8, 10, 12]), array([7, 8, 9]), array([14, 16, 18])], dtype=object)"
      ]
     },
     "execution_count": 181,
     "metadata": {},
     "output_type": "execute_result"
    }
   ],
   "source": [
    "np.array(combs)[:,0]*np.array(combs)[:,1]"
   ]
  },
  {
   "cell_type": "code",
   "execution_count": 182,
   "metadata": {
    "collapsed": false
   },
   "outputs": [
    {
     "data": {
      "text/plain": [
       "array([36, 45, 54])"
      ]
     },
     "execution_count": 182,
     "metadata": {},
     "output_type": "execute_result"
    }
   ],
   "source": [
    "(np.array(combs)[:,0]*np.array(combs)[:,1]).sum(0)"
   ]
  },
  {
   "cell_type": "code",
   "execution_count": 183,
   "metadata": {
    "collapsed": false
   },
   "outputs": [
    {
     "data": {
      "text/plain": [
       "array([ 12.,  15.,  18.])"
      ]
     },
     "execution_count": 183,
     "metadata": {},
     "output_type": "execute_result"
    }
   ],
   "source": [
    "(np.array(combs)[:,0]*np.array(combs)[:,1]).sum(0)*len(b)/len(combs)"
   ]
  },
  {
   "cell_type": "code",
   "execution_count": null,
   "metadata": {
    "collapsed": true
   },
   "outputs": [],
   "source": []
  }
 ],
 "metadata": {
  "kernelspec": {
   "display_name": "Python 3",
   "language": "python",
   "name": "python3"
  },
  "language_info": {
   "codemirror_mode": {
    "name": "ipython",
    "version": 3
   },
   "file_extension": ".py",
   "mimetype": "text/x-python",
   "name": "python",
   "nbconvert_exporter": "python",
   "pygments_lexer": "ipython3",
   "version": "3.5.2"
  }
 },
 "nbformat": 4,
 "nbformat_minor": 2
}
