{
 "cells": [
  {
   "cell_type": "code",
   "execution_count": 1,
   "metadata": {
    "collapsed": true
   },
   "outputs": [],
   "source": [
    "import numpy as np\n",
    "import numpy.testing as npt\n",
    "from scipy.linalg import expm\n",
    "import matplotlib.pyplot as plt\n",
    "from matplotlib.transforms import Affine2D\n",
    "from matplotlib.collections import PatchCollection\n",
    "import scipy.spatial, scipy.linalg\n",
    "import scipy.sparse.linalg\n",
    "from scipy.misc import logsumexp\n",
    "from scipy.cluster.hierarchy import linkage, dendrogram\n",
    "import itertools\n",
    "import zipfile,io\n",
    "import pandas as pd\n",
    "import re\n",
    "import sheet3 as imp\n",
    "%matplotlib inline"
   ]
  },
  {
   "cell_type": "code",
   "execution_count": 2,
   "metadata": {
    "collapsed": false
   },
   "outputs": [],
   "source": [
    "unzip = zipfile.ZipFile(\"sheet3_datasets.zip\", 'r')          \n",
    "fl = unzip.namelist() "
   ]
  },
  {
   "cell_type": "code",
   "execution_count": 3,
   "metadata": {
    "collapsed": false
   },
   "outputs": [],
   "source": [
    "bxte=np.array(pd.read_table(unzip.open(fl[5]),header=None,delim_whitespace=True))\n",
    "bxtr=np.array(pd.read_table(unzip.open(fl[6]),header=None,delim_whitespace=True))\n",
    "byte=np.array(pd.read_table(unzip.open(fl[7]),header=None,delim_whitespace=True))\n",
    "bytr=np.array(pd.read_table(unzip.open(fl[8]),header=None,delim_whitespace=True))\n",
    "\n",
    "dxte=np.array(pd.read_table(unzip.open(fl[9]),header=None,delim_whitespace=True))\n",
    "dxtr=np.array(pd.read_table(unzip.open(fl[10]),header=None,delim_whitespace=True))\n",
    "dyte=np.array(pd.read_table(unzip.open(fl[11]),header=None,delim_whitespace=True))\n",
    "dytr=np.array(pd.read_table(unzip.open(fl[12]),header=None,delim_whitespace=True))\n",
    "\n",
    "fxte=np.array(pd.read_table(unzip.open(fl[13]),header=None,delim_whitespace=True))\n",
    "fxtr=np.array(pd.read_table(unzip.open(fl[14]),header=None,delim_whitespace=True))\n",
    "fyte=np.array(pd.read_table(unzip.open(fl[15]),header=None,delim_whitespace=True))\n",
    "fytr=np.array(pd.read_table(unzip.open(fl[16]),header=None,delim_whitespace=True))\n",
    "\n",
    "ixte=np.array(pd.read_table(unzip.open(fl[17]),header=None,delim_whitespace=True))\n",
    "ixtr=np.array(pd.read_table(unzip.open(fl[18]),header=None,delim_whitespace=True))\n",
    "iyte=np.array(pd.read_table(unzip.open(fl[19]),header=None,delim_whitespace=True))\n",
    "iytr=np.array(pd.read_table(unzip.open(fl[20]),header=None,delim_whitespace=True))\n",
    "\n",
    "rxte=np.array(pd.read_table(unzip.open(fl[21]),header=None,delim_whitespace=True))\n",
    "rxtr=np.array(pd.read_table(unzip.open(fl[22]),header=None,delim_whitespace=True))\n",
    "ryte=np.array(pd.read_table(unzip.open(fl[23]),header=None,delim_whitespace=True))\n",
    "rytr=np.array(pd.read_table(unzip.open(fl[24]),header=None,delim_whitespace=True))"
   ]
  },
  {
   "cell_type": "code",
   "execution_count": 4,
   "metadata": {
    "collapsed": false
   },
   "outputs": [
    {
     "name": "stdout",
     "output_type": "stream",
     "text": [
      "(2, 4900)\n",
      "(2, 400)\n",
      "(1, 4900)\n",
      "(1, 400)\n",
      "(8, 300)\n",
      "(8, 468)\n",
      "(1, 300)\n",
      "(1, 468)\n",
      "(9, 400)\n",
      "(9, 666)\n",
      "(1, 400)\n",
      "(1, 666)\n",
      "(18, 1010)\n",
      "(18, 1300)\n",
      "(1, 1010)\n",
      "(1, 1300)\n",
      "(20, 7000)\n",
      "(20, 400)\n",
      "(1, 7000)\n",
      "(1, 400)\n"
     ]
    }
   ],
   "source": [
    "print(bxte.shape)\n",
    "print(bxtr.shape)\n",
    "print(byte.shape)\n",
    "print(bytr.shape)\n",
    "\n",
    "print(dxte.shape)\n",
    "print(dxtr.shape)\n",
    "print(dyte.shape)\n",
    "print(dytr.shape)\n",
    "\n",
    "print(fxte.shape)\n",
    "print(fxtr.shape)\n",
    "print(fyte.shape)\n",
    "print(fytr.shape)\n",
    "\n",
    "print(ixte.shape)\n",
    "print(ixtr.shape)\n",
    "print(iyte.shape)\n",
    "print(iytr.shape)\n",
    "\n",
    "print(rxte.shape)\n",
    "print(rxtr.shape)\n",
    "print(ryte.shape)\n",
    "print(rytr.shape)"
   ]
  },
  {
   "cell_type": "code",
   "execution_count": 5,
   "metadata": {
    "collapsed": true
   },
   "outputs": [],
   "source": [
    "params_gaus = { 'kernel': ['gaussian'], 'kernelparameter': np.logspace(-2,2,10), 'regularization': [0]}\n",
    "params_pol = { 'kernel': ['polynomial'], 'kernelparameter': np.logspace(-2,2,10), 'regularization': [0]}\n",
    "params_lin = { 'kernel': ['linear'], 'kernelparameter': np.logspace(-2,2,10), 'regularization': [0]}"
   ]
  },
  {
   "cell_type": "code",
   "execution_count": 6,
   "metadata": {
    "collapsed": true
   },
   "outputs": [],
   "source": [
    "def zerooneloss(y_true, y_pred):\n",
    "    assert(len(y_true) == len(y_pred))\n",
    "    pred = np.array(y_pred[:,0])\n",
    "    true = np.array(y_true[:,0])\n",
    "    true[np.where(true==-1)]=0\n",
    "    b = np.mean(pred)\n",
    "    pred[np.where(pred>=b)] = 1\n",
    "    pred[np.where(pred<b)] = 0\n",
    "    right = (true == pred).astype(np.int64).sum()\n",
    "    loss = (len(true)-right)/len(true)\n",
    "    return loss"
   ]
  },
  {
   "cell_type": "code",
   "execution_count": null,
   "metadata": {
    "collapsed": false
   },
   "outputs": [],
   "source": [
    "bkrr = imp.cv(bxtr.T, bytr[0], imp.krr, params_gaus,loss_function=zerooneloss)"
   ]
  },
  {
   "cell_type": "code",
   "execution_count": 45,
   "metadata": {
    "collapsed": false
   },
   "outputs": [
    {
     "name": "stderr",
     "output_type": "stream",
     "text": [
      "/home/ubthiro/Dokumente/WirtsInf/ML_Lab_Course\n",
      "\n",
      "/Ubung/03/sheet3.py:57: FutureWarning: comparison to `None` will result in an elementwise object comparison in the future.\n",
      "  if(Y==None):\n"
     ]
    },
    {
     "name": "stdout",
     "output_type": "stream",
     "text": [
      "0.313265306122\n",
      "[[ 0.12770106]\n",
      " [ 0.34062712]\n",
      " [-0.03749963]\n",
      " ..., \n",
      " [ 0.0376232 ]\n",
      " [-0.42092641]\n",
      " [-0.00686518]]\n"
     ]
    }
   ],
   "source": [
    "bYY= bkrr.predict(bxte.T)\n",
    "print(zerooneloss(byte.T, bYY))\n",
    "print(bYY)"
   ]
  },
  {
   "cell_type": "code",
   "execution_count": 53,
   "metadata": {
    "collapsed": false
   },
   "outputs": [
    {
     "name": "stdout",
     "output_type": "stream",
     "text": [
      "['gaussian']\n",
      "4.64158883361\n",
      "0.01\n"
     ]
    }
   ],
   "source": [
    "print(bkrr.kernel)\n",
    "print(bkrr.kernelparameter)\n",
    "print(bkrr.regularization)"
   ]
  },
  {
   "cell_type": "code",
   "execution_count": 51,
   "metadata": {
    "collapsed": false
   },
   "outputs": [
    {
     "data": {
      "text/plain": [
       "array([[ 0.12770106],\n",
       "       [ 0.34062712],\n",
       "       [-0.03749963],\n",
       "       [ 0.02733134],\n",
       "       [ 0.23626651],\n",
       "       [ 0.81997797],\n",
       "       [-0.0462103 ],\n",
       "       [-0.14741481],\n",
       "       [-0.09414244],\n",
       "       [-0.05888477],\n",
       "       [-0.03024362],\n",
       "       [-0.43568241],\n",
       "       [-0.55044327],\n",
       "       [-0.05185043],\n",
       "       [-0.06166987],\n",
       "       [ 0.1020713 ],\n",
       "       [-0.04000555],\n",
       "       [ 0.19507893],\n",
       "       [-0.03222138],\n",
       "       [-0.02294189]])"
      ]
     },
     "execution_count": 51,
     "metadata": {},
     "output_type": "execute_result"
    }
   ],
   "source": [
    "bYY[:20]"
   ]
  },
  {
   "cell_type": "code",
   "execution_count": 52,
   "metadata": {
    "collapsed": false
   },
   "outputs": [
    {
     "data": {
      "text/plain": [
       "array([[ 1.],\n",
       "       [-1.],\n",
       "       [-1.],\n",
       "       [ 1.],\n",
       "       [ 1.],\n",
       "       [ 1.],\n",
       "       [-1.],\n",
       "       [ 1.],\n",
       "       [-1.],\n",
       "       [ 1.],\n",
       "       [ 1.],\n",
       "       [-1.],\n",
       "       [-1.],\n",
       "       [-1.],\n",
       "       [ 1.],\n",
       "       [ 1.],\n",
       "       [-1.],\n",
       "       [ 1.],\n",
       "       [ 1.],\n",
       "       [-1.]])"
      ]
     },
     "execution_count": 52,
     "metadata": {},
     "output_type": "execute_result"
    }
   ],
   "source": [
    "byte.T[:20]"
   ]
  },
  {
   "cell_type": "code",
   "execution_count": 55,
   "metadata": {
    "collapsed": false
   },
   "outputs": [
    {
     "data": {
      "text/plain": [
       "array([  1.00000000e-04,   7.74263683e-04,   5.99484250e-03,\n",
       "         4.64158883e-02,   3.59381366e-01,   2.78255940e+00,\n",
       "         2.15443469e+01,   1.66810054e+02,   1.29154967e+03,\n",
       "         1.00000000e+04])"
      ]
     },
     "execution_count": 55,
     "metadata": {},
     "output_type": "execute_result"
    }
   ],
   "source": [
    "np.logspace(-4,4,10)"
   ]
  },
  {
   "cell_type": "code",
   "execution_count": 137,
   "metadata": {
    "collapsed": false
   },
   "outputs": [
    {
     "ename": "NameError",
     "evalue": "name 'self' is not defined",
     "output_type": "error",
     "traceback": [
      "\u001b[0;31m---------------------------------------------------------------------------\u001b[0m",
      "\u001b[0;31mNameError\u001b[0m                                 Traceback (most recent call last)",
      "\u001b[0;32m<ipython-input-137-49d52abae118>\u001b[0m in \u001b[0;36m<module>\u001b[0;34m()\u001b[0m\n\u001b[0;32m----> 1\u001b[0;31m \u001b[0;32mif\u001b[0m\u001b[0;34m(\u001b[0m\u001b[0mself\u001b[0m\u001b[0;34m.\u001b[0m\u001b[0mc\u001b[0m\u001b[0;34m==\u001b[0m\u001b[0;36m0\u001b[0m\u001b[0;34m)\u001b[0m\u001b[0;34m:\u001b[0m\u001b[0;34m\u001b[0m\u001b[0m\n\u001b[0m\u001b[1;32m      2\u001b[0m     \u001b[0mD\u001b[0m\u001b[0;34m,\u001b[0m \u001b[0mU\u001b[0m \u001b[0;34m=\u001b[0m\u001b[0mnp\u001b[0m\u001b[0;34m.\u001b[0m\u001b[0mlinalg\u001b[0m\u001b[0;34m.\u001b[0m\u001b[0meigh\u001b[0m\u001b[0;34m(\u001b[0m\u001b[0mK\u001b[0m\u001b[0;34m)\u001b[0m\u001b[0;34m\u001b[0m\u001b[0m\n\u001b[1;32m      3\u001b[0m     \u001b[0mc\u001b[0m \u001b[0;34m=\u001b[0m \u001b[0mnp\u001b[0m\u001b[0;34m.\u001b[0m\u001b[0mlogspace\u001b[0m\u001b[0;34m(\u001b[0m\u001b[0;34m-\u001b[0m\u001b[0;36m2\u001b[0m\u001b[0;34m,\u001b[0m\u001b[0;36m2\u001b[0m\u001b[0;34m,\u001b[0m\u001b[0;36m10\u001b[0m\u001b[0;34m)\u001b[0m\u001b[0;34m\u001b[0m\u001b[0m\n\u001b[1;32m      4\u001b[0m     \u001b[0mcc\u001b[0m \u001b[0;34m=\u001b[0m \u001b[0mc\u001b[0m\u001b[0;34m.\u001b[0m\u001b[0mreshape\u001b[0m\u001b[0;34m(\u001b[0m\u001b[0mlen\u001b[0m\u001b[0;34m(\u001b[0m\u001b[0mc\u001b[0m\u001b[0;34m)\u001b[0m\u001b[0;34m,\u001b[0m\u001b[0;36m1\u001b[0m\u001b[0;34m,\u001b[0m\u001b[0;36m1\u001b[0m\u001b[0;34m)\u001b[0m\u001b[0;34m\u001b[0m\u001b[0m\n\u001b[1;32m      5\u001b[0m     \u001b[0mbr\u001b[0m \u001b[0;34m=\u001b[0m \u001b[0mnp\u001b[0m\u001b[0;34m.\u001b[0m\u001b[0mones\u001b[0m\u001b[0;34m(\u001b[0m\u001b[0;34m(\u001b[0m\u001b[0mlen\u001b[0m\u001b[0;34m(\u001b[0m\u001b[0mc\u001b[0m\u001b[0;34m)\u001b[0m\u001b[0;34m,\u001b[0m\u001b[0;36m1\u001b[0m\u001b[0;34m,\u001b[0m\u001b[0;36m1\u001b[0m\u001b[0;34m)\u001b[0m\u001b[0;34m)\u001b[0m\u001b[0;34m\u001b[0m\u001b[0m\n",
      "\u001b[0;31mNameError\u001b[0m: name 'self' is not defined"
     ]
    }
   ],
   "source": [
    "        if(self.c==0):\n",
    "            D, U =np.linalg.eigh(K)\n",
    "            c = np.logspace(-2,2,10)\n",
    "            cc = c.reshape(len(c),1,1)\n",
    "            br = np.ones((len(c),1,1))\n",
    "            I = np.eye(len(K))*br\n",
    "            KK=br*K\n",
    "            KCI=KK +(I*cc)\n",
    "            KCI_inv=np.linalg.solve(KK+0.0000001*I,I)\n",
    "            S = np.dot(KCI_inv.transpose(0,2,1),KK.T).transpose(0,2,1)\n",
    "            SY = np.dot(S,Y.reshape(len(Y),1))\n",
    "            diag=np.dot(I*S,np.ones((len(Y),1)))-1\n",
    "            err = (((Y.reshape(len(Y),1)*br-SY)/diag)**2).mean(1)\n",
    "            cidx=np.argmin(err[:,0])\n",
    "            self.c = c[cidx]\n",
    "            self.regularization =  c[cidx]"
   ]
  },
  {
   "cell_type": "code",
   "execution_count": 149,
   "metadata": {
    "collapsed": false
   },
   "outputs": [],
   "source": [
    "KK = np.ones((5,5))\n",
    "D, U =np.linalg.eigh(KK)\n",
    "c = np.logspace(-2,2,10)\n",
    "cc = c.reshape(len(c),1,1)\n",
    "br = np.ones((len(c),1,1))\n",
    "I = np.eye(len(KK))*br\n",
    "KKK=br*KK\n",
    "KCI=KKK +(I*cc)"
   ]
  },
  {
   "cell_type": "code",
   "execution_count": 150,
   "metadata": {
    "collapsed": false
   },
   "outputs": [],
   "source": [
    "KCI_inv=np.linalg.solve(KKK+0.0000001*I,I)"
   ]
  },
  {
   "cell_type": "code",
   "execution_count": 158,
   "metadata": {
    "collapsed": false
   },
   "outputs": [
    {
     "name": "stdout",
     "output_type": "stream",
     "text": [
      "(10, 5, 1)\n"
     ]
    }
   ],
   "source": [
    "S=np.dot(KCI_inv.transpose(0,2,1),KK.T).transpose(0,2,1)\n",
    "print((np.dot(S,np.ones((5,1)))-(np.ones(5).reshape(5,1)*br)).shape)"
   ]
  },
  {
   "cell_type": "code",
   "execution_count": 170,
   "metadata": {
    "collapsed": false
   },
   "outputs": [
    {
     "data": {
      "text/plain": [
       "0"
      ]
     },
     "execution_count": 170,
     "metadata": {},
     "output_type": "execute_result"
    }
   ],
   "source": [
    "(np.ones(5).reshape(5,1)*br)\n",
    "err = np.dot(I*S,np.ones((5,1))).mean(1)\n",
    "np.argmin(err[:,0])"
   ]
  },
  {
   "cell_type": "code",
   "execution_count": 133,
   "metadata": {
    "collapsed": false
   },
   "outputs": [
    {
     "data": {
      "text/plain": [
       "array([[[ 12.,  18.],\n",
       "        [ 12.,  18.]],\n",
       "\n",
       "       [[  8.,  12.],\n",
       "        [  8.,  12.]],\n",
       "\n",
       "       [[  4.,   6.],\n",
       "        [  4.,   6.]]])"
      ]
     },
     "execution_count": 133,
     "metadata": {},
     "output_type": "execute_result"
    }
   ],
   "source": [
    "tre = np.array(([np.array([[1,2],[3,4]])*3],[np.array([[1,2],[3,4]])*2],[np.array([[1,2],[3,4]])]))\n",
    "tre=tre.reshape(3,2,2)\n",
    "np.dot(tre.transpose(0,2,1),np.ones((2,2))).transpose(0,2,1)"
   ]
  },
  {
   "cell_type": "code",
   "execution_count": 134,
   "metadata": {
    "collapsed": false
   },
   "outputs": [
    {
     "data": {
      "text/plain": [
       "array([[[ 3,  6],\n",
       "        [ 9, 12]],\n",
       "\n",
       "       [[ 2,  4],\n",
       "        [ 6,  8]],\n",
       "\n",
       "       [[ 1,  2],\n",
       "        [ 3,  4]]])"
      ]
     },
     "execution_count": 134,
     "metadata": {},
     "output_type": "execute_result"
    }
   ],
   "source": [
    "tre"
   ]
  },
  {
   "cell_type": "code",
   "execution_count": null,
   "metadata": {
    "collapsed": true
   },
   "outputs": [],
   "source": []
  }
 ],
 "metadata": {
  "kernelspec": {
   "display_name": "Python 3",
   "language": "python",
   "name": "python3"
  },
  "language_info": {
   "codemirror_mode": {
    "name": "ipython",
    "version": 3
   },
   "file_extension": ".py",
   "mimetype": "text/x-python",
   "name": "python",
   "nbconvert_exporter": "python",
   "pygments_lexer": "ipython3",
   "version": "3.5.2"
  }
 },
 "nbformat": 4,
 "nbformat_minor": 2
}
