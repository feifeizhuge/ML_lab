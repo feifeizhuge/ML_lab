{
 "cells": [
  {
   "cell_type": "code",
   "execution_count": 42,
   "metadata": {
    "collapsed": false
   },
   "outputs": [],
   "source": [
    "import numpy as np\n",
    "import numpy.testing as npt\n",
    "from scipy.linalg import expm\n",
    "import matplotlib.pyplot as plt\n",
    "from matplotlib.transforms import Affine2D\n",
    "from matplotlib.collections import PatchCollection\n",
    "import scipy.spatial, scipy.linalg\n",
    "import scipy.sparse.linalg\n",
    "from scipy.misc import logsumexp\n",
    "from scipy.cluster.hierarchy import linkage, dendrogram\n",
    "import itertools\n",
    "import zipfile,io\n",
    "import pickle\n",
    "import pandas as pd\n",
    "import re\n",
    "import sheet3 as imp\n",
    "%matplotlib inline\n",
    "results = {}\n",
    "kernel=['gaussian','polynomial','linear']\n",
    "dataset=['banana','diabetis','flare-solar','image','ringnorm']\n",
    "res = ['kernelparameter','regularization','cvloss','ypred']\n",
    "for k in dataset:\n",
    "    results[k] ={}\n",
    "    for i in kernel:\n",
    "        results[k][i] ={}\n",
    "        for j in res:\n",
    "            results[k][i][j]=0.\n",
    "\n",
    "\n",
    "with open('filename.pickle', 'wb') as handle:\n",
    "    pickle.dump(results, handle, protocol=pickle.HIGHEST_PROTOCOL)\n",
    "with open('filename.pickle', 'rb') as handle:\n",
    "    b = pickle.load(handle)"
   ]
  },
  {
   "cell_type": "code",
   "execution_count": 43,
   "metadata": {
    "collapsed": false
   },
   "outputs": [],
   "source": [
    "results =0"
   ]
  },
  {
   "cell_type": "code",
   "execution_count": 4,
   "metadata": {
    "collapsed": false
   },
   "outputs": [],
   "source": [
    "unzip = zipfile.ZipFile(\"sheet3_datasets.zip\", 'r')        \n",
    "fl = unzip.namelist() "
   ]
  },
  {
   "cell_type": "code",
   "execution_count": 5,
   "metadata": {
    "collapsed": false
   },
   "outputs": [
    {
     "data": {
      "text/plain": [
       "['sheet3_datasets/',\n",
       " 'sheet3_datasets/.DS_Store',\n",
       " '__MACOSX/',\n",
       " '__MACOSX/sheet3_datasets/',\n",
       " '__MACOSX/sheet3_datasets/._.DS_Store',\n",
       " 'sheet3_datasets/U04_banana-xtest.dat',\n",
       " 'sheet3_datasets/U04_banana-xtrain.dat',\n",
       " 'sheet3_datasets/U04_banana-ytest.dat',\n",
       " 'sheet3_datasets/U04_banana-ytrain.dat',\n",
       " 'sheet3_datasets/U04_diabetis-xtest.dat',\n",
       " 'sheet3_datasets/U04_diabetis-xtrain.dat',\n",
       " 'sheet3_datasets/U04_diabetis-ytest.dat',\n",
       " 'sheet3_datasets/U04_diabetis-ytrain.dat',\n",
       " 'sheet3_datasets/U04_flare-solar-xtest.dat',\n",
       " 'sheet3_datasets/U04_flare-solar-xtrain.dat',\n",
       " 'sheet3_datasets/U04_flare-solar-ytest.dat',\n",
       " 'sheet3_datasets/U04_flare-solar-ytrain.dat',\n",
       " 'sheet3_datasets/U04_image-xtest.dat',\n",
       " 'sheet3_datasets/U04_image-xtrain.dat',\n",
       " 'sheet3_datasets/U04_image-ytest.dat',\n",
       " 'sheet3_datasets/U04_image-ytrain.dat',\n",
       " 'sheet3_datasets/U04_ringnorm-xtest.dat',\n",
       " 'sheet3_datasets/U04_ringnorm-xtrain.dat',\n",
       " 'sheet3_datasets/U04_ringnorm-ytest.dat',\n",
       " 'sheet3_datasets/U04_ringnorm-ytrain.dat']"
      ]
     },
     "execution_count": 5,
     "metadata": {},
     "output_type": "execute_result"
    }
   ],
   "source": [
    "fl"
   ]
  },
  {
   "cell_type": "code",
   "execution_count": 3,
   "metadata": {
    "collapsed": false
   },
   "outputs": [],
   "source": [
    "bxte=np.array(pd.read_table(unzip.open(fl[5]),header=None,delim_whitespace=True))\n",
    "bxtr=np.array(pd.read_table(unzip.open(fl[6]),header=None,delim_whitespace=True))\n",
    "byte=np.array(pd.read_table(unzip.open(fl[7]),header=None,delim_whitespace=True))\n",
    "bytr=np.array(pd.read_table(unzip.open(fl[8]),header=None,delim_whitespace=True))\n",
    "\n",
    "dxte=np.array(pd.read_table(unzip.open(fl[9]),header=None,delim_whitespace=True))\n",
    "dxtr=np.array(pd.read_table(unzip.open(fl[10]),header=None,delim_whitespace=True))\n",
    "dyte=np.array(pd.read_table(unzip.open(fl[11]),header=None,delim_whitespace=True))\n",
    "dytr=np.array(pd.read_table(unzip.open(fl[12]),header=None,delim_whitespace=True))\n",
    "\n",
    "fxte=np.array(pd.read_table(unzip.open(fl[13]),header=None,delim_whitespace=True))\n",
    "fxtr=np.array(pd.read_table(unzip.open(fl[14]),header=None,delim_whitespace=True))\n",
    "fyte=np.array(pd.read_table(unzip.open(fl[15]),header=None,delim_whitespace=True))\n",
    "fytr=np.array(pd.read_table(unzip.open(fl[16]),header=None,delim_whitespace=True))\n",
    "\n",
    "ixte=np.array(pd.read_table(unzip.open(fl[17]),header=None,delim_whitespace=True))\n",
    "ixtr=np.array(pd.read_table(unzip.open(fl[18]),header=None,delim_whitespace=True))\n",
    "iyte=np.array(pd.read_table(unzip.open(fl[19]),header=None,delim_whitespace=True))\n",
    "iytr=np.array(pd.read_table(unzip.open(fl[20]),header=None,delim_whitespace=True))\n",
    "\n",
    "rxte=np.array(pd.read_table(unzip.open(fl[21]),header=None,delim_whitespace=True))\n",
    "rxtr=np.array(pd.read_table(unzip.open(fl[22]),header=None,delim_whitespace=True))\n",
    "ryte=np.array(pd.read_table(unzip.open(fl[23]),header=None,delim_whitespace=True))\n",
    "rytr=np.array(pd.read_table(unzip.open(fl[24]),header=None,delim_whitespace=True))"
   ]
  },
  {
   "cell_type": "code",
   "execution_count": 4,
   "metadata": {
    "collapsed": false
   },
   "outputs": [
    {
     "name": "stdout",
     "output_type": "stream",
     "text": [
      "(2, 4900)\n",
      "(2, 400)\n",
      "(1, 4900)\n",
      "(1, 400)\n",
      "(8, 300)\n",
      "(8, 468)\n",
      "(1, 300)\n",
      "(1, 468)\n",
      "(9, 400)\n",
      "(9, 666)\n",
      "(1, 400)\n",
      "(1, 666)\n",
      "(18, 1010)\n",
      "(18, 1300)\n",
      "(1, 1010)\n",
      "(1, 1300)\n",
      "(20, 7000)\n",
      "(20, 400)\n",
      "(1, 7000)\n",
      "(1, 400)\n"
     ]
    }
   ],
   "source": [
    "print(bxte.shape)\n",
    "print(bxtr.shape)\n",
    "print(byte.shape)\n",
    "print(bytr.shape)\n",
    "\n",
    "print(dxte.shape)\n",
    "print(dxtr.shape)\n",
    "print(dyte.shape)\n",
    "print(dytr.shape)\n",
    "\n",
    "print(fxte.shape)\n",
    "print(fxtr.shape)\n",
    "print(fyte.shape)\n",
    "print(fytr.shape)\n",
    "\n",
    "print(ixte.shape)\n",
    "print(ixtr.shape)\n",
    "print(iyte.shape)\n",
    "print(iytr.shape)\n",
    "\n",
    "print(rxte.shape)\n",
    "print(rxtr.shape)\n",
    "print(ryte.shape)\n",
    "print(rytr.shape)"
   ]
  },
  {
   "cell_type": "code",
   "execution_count": 5,
   "metadata": {
    "collapsed": true
   },
   "outputs": [],
   "source": [
    "params_gaus = { 'kernel': ['gaussian'], 'kernelparameter': np.logspace(-2,2,10), 'regularization': [0]}\n",
    "params_pol = { 'kernel': ['polynomial'], 'kernelparameter': np.logspace(-2,2,10), 'regularization': [0]}\n",
    "params_lin = { 'kernel': ['linear'], 'kernelparameter': np.logspace(-2,2,10), 'regularization': [0]}"
   ]
  },
  {
   "cell_type": "code",
   "execution_count": 6,
   "metadata": {
    "collapsed": true
   },
   "outputs": [],
   "source": [
    "def zerooneloss(y_true, y_pred):\n",
    "    assert(len(y_true) == len(y_pred))\n",
    "    pred = np.array(y_pred[:,0])\n",
    "    true = np.array(y_true[:,0])\n",
    "    true[np.where(true==-1)]=0\n",
    "    b = np.mean(pred)\n",
    "    pred[np.where(pred>=b)] = 1\n",
    "    pred[np.where(pred<b)] = 0\n",
    "    right = (true == pred).astype(np.int64).sum()\n",
    "    loss = (len(true)-right)/len(true)\n",
    "    return loss"
   ]
  },
  {
   "cell_type": "code",
   "execution_count": 86,
   "metadata": {
    "collapsed": true
   },
   "outputs": [],
   "source": [
    "def roc_fun(y_true, y_pred, plot = False):\n",
    "    assert(len(y_true) == len(y_pred))\n",
    "    bins=100\n",
    "    pred = np.array(y_pred[:,0])\n",
    "    true = np.array(y_true[:,0])\n",
    "    true[np.where(true==-1)]=0\n",
    "    n=len(pred)\n",
    "    thres = np.linspace(np.min(pred),np.max(pred),bins).reshape(bins,1)*np.ones((1 ,n))\n",
    "    predbr = pred.reshape(1,n)*np.ones((bins ,1))\n",
    "    prebl=(predbr>thres).astype(np.int64)\n",
    "    comp = (prebl==true).astype(np.int64)\n",
    "    tpr = (prebl*comp).sum(1)/true.sum()\n",
    "    fpr = (((comp-prebl))==(-np.ones(comp.shape))).sum(1)/(n-true.sum())\n",
    "    idx=np.argsort(fpr)\n",
    "    roc = np.append(fpr.reshape(1,len(fpr)),tpr.reshape(1,len(tpr)),0)\n",
    "    D = np.linalg.norm(roc - np.array([[0],[1]]),axis=0)\n",
    "    minidx=np.argmin(D)\n",
    "    loss=(n-comp[minidx].sum())/n\n",
    "    ROC = roc[:,idx]\n",
    "    if(plot==True):\n",
    "        plt.plot(ROC[0],ROC[1])\n",
    "        plt.title(\"ROC curve\")\n",
    "        plt.xlabel(\"FP\")\n",
    "        plt.ylabel(\"TP\")\n",
    "    return loss "
   ]
  },
  {
   "cell_type": "code",
   "execution_count": 7,
   "metadata": {
    "collapsed": false
   },
   "outputs": [
    {
     "name": "stderr",
     "output_type": "stream",
     "text": [
      "/home/ubthiro/Dokumente/WirtsInf/ML_Lab_Course\n",
      "\n",
      "/Ubung/03/sheet3.py:63: FutureWarning: comparison to `None` will result in an elementwise object comparison in the future.\n",
      "  if(Y==None):\n"
     ]
    }
   ],
   "source": [
    "bkrr = imp.cv(bxtr.T, bytr[0], imp.krr, params_gaus,loss_function=roc_fun)"
   ]
  },
  {
   "cell_type": "code",
   "execution_count": 87,
   "metadata": {
    "collapsed": false
   },
   "outputs": [
    {
     "name": "stderr",
     "output_type": "stream",
     "text": [
      "/home/ubthiro/Dokumente/WirtsInf/ML_Lab_Course\n",
      "\n",
      "/Ubung/03/sheet3.py:63: FutureWarning: comparison to `None` will result in an elementwise object comparison in the future.\n",
      "  if(Y==None):\n"
     ]
    },
    {
     "name": "stdout",
     "output_type": "stream",
     "text": [
      "0.142040816327\n",
      "[[ 0.76685801]\n",
      " [-0.28244652]\n",
      " [-0.53059941]\n",
      " ..., \n",
      " [ 1.125911  ]\n",
      " [-0.5789667 ]\n",
      " [-0.15712699]]\n"
     ]
    }
   ],
   "source": [
    "bYY= bkrr.predict(bxte.T)\n",
    "print(zerooneloss(byte.T, bYY))\n",
    "print(bYY)"
   ]
  },
  {
   "cell_type": "code",
   "execution_count": 145,
   "metadata": {
    "collapsed": false
   },
   "outputs": [],
   "source": [
    "def roc_fun(y_true, y_pred, plot = False):\n",
    "    assert(len(y_true) == len(y_pred))\n",
    "    bins=100\n",
    "    pred = np.array(y_pred[:,0])\n",
    "    true = np.array(y_true[:,0])\n",
    "    true[np.where(true==-1)]=0\n",
    "    n=len(pred)\n",
    "    thres = np.linspace(np.min(pred),np.max(pred),bins).reshape(bins,1)*np.ones((1 ,n))\n",
    "    predbr = pred.reshape(1,n)*np.ones((bins ,1))\n",
    "    prebl=(predbr>thres).astype(np.int64)\n",
    "    comp = (prebl==true).astype(np.int64)\n",
    "    tpr = (prebl*comp).sum(1)/true.sum()\n",
    "    fpr = (((comp-prebl))==(-np.ones(comp.shape))).sum(1)/(n-true.sum())\n",
    "    idx=np.argsort(fpr)\n",
    "    roc = np.append(fpr.reshape(1,len(fpr)),tpr.reshape(1,len(tpr)),0)\n",
    "    D = np.linalg.norm(roc - np.array([[0],[1]]),axis=0)\n",
    "    minidx=np.argmin(D)\n",
    "    loss=(n-comp[minidx].sum())/n\n",
    "    ROC = roc[:,idx]\n",
    "    if(plot==True):\n",
    "        plt.plot(ROC[0],ROC[1])\n",
    "        plt.title(\"ROC curve\")\n",
    "        plt.xlabel(\"FP\")\n",
    "        plt.ylabel(\"TP\")\n",
    "    return loss "
   ]
  },
  {
   "cell_type": "code",
   "execution_count": 146,
   "metadata": {
    "collapsed": false
   },
   "outputs": [
    {
     "data": {
      "text/plain": [
       "(4900, 1)"
      ]
     },
     "execution_count": 146,
     "metadata": {},
     "output_type": "execute_result"
    }
   ],
   "source": [
    "byte.T.shape"
   ]
  },
  {
   "cell_type": "code",
   "execution_count": 148,
   "metadata": {
    "collapsed": false
   },
   "outputs": [
    {
     "data": {
      "image/png": "[encoded data removed]",
      "text/plain": [
       "<matplotlib.figure.Figure at 0x7f8df1b13048>"
      ]
     },
     "metadata": {},
     "output_type": "display_data"
    }
   ],
   "source": [
    "cvloss=roc_fun(byte.T, bYY, True)"
   ]
  },
  {
   "cell_type": "code",
   "execution_count": 149,
   "metadata": {
    "collapsed": false
   },
   "outputs": [
    {
     "data": {
      "text/plain": [
       "0.13408163265306122"
      ]
     },
     "execution_count": 149,
     "metadata": {},
     "output_type": "execute_result"
    }
   ],
   "source": [
    "cvloss"
   ]
  },
  {
   "cell_type": "code",
   "execution_count": 126,
   "metadata": {
    "collapsed": false
   },
   "outputs": [
    {
     "name": "stdout",
     "output_type": "stream",
     "text": [
      "['gaussian']\n",
      "4.64158883361\n",
      "0.0001\n"
     ]
    }
   ],
   "source": [
    "print(bkrr.kernel)\n",
    "print(bkrr.kernelparameter)\n",
    "print(bkrr.regularization)"
   ]
  },
  {
   "cell_type": "code",
   "execution_count": null,
   "metadata": {
    "collapsed": true
   },
   "outputs": [],
   "source": []
  },
  {
   "cell_type": "code",
   "execution_count": null,
   "metadata": {
    "collapsed": true
   },
   "outputs": [],
   "source": [
    "np.append(bYY[0,20],)"
   ]
  },
  {
   "cell_type": "code",
   "execution_count": 11,
   "metadata": {
    "collapsed": false,
    "scrolled": true
   },
   "outputs": [
    {
     "data": {
      "text/plain": [
       "array([[ 0.76685801],\n",
       "       [-0.28244652],\n",
       "       [-0.53059941],\n",
       "       [ 0.4042691 ],\n",
       "       [ 0.24033782],\n",
       "       [ 1.2342825 ],\n",
       "       [-0.18544445],\n",
       "       [-0.15050454],\n",
       "       [ 0.14032427],\n",
       "       [ 0.36723597],\n",
       "       [ 0.07509364],\n",
       "       [-0.9024896 ],\n",
       "       [-0.70597787],\n",
       "       [ 0.20374358],\n",
       "       [ 0.03482679],\n",
       "       [ 0.62869663],\n",
       "       [-0.06196566],\n",
       "       [ 0.74736759],\n",
       "       [ 0.25730781],\n",
       "       [-0.77142069]])"
      ]
     },
     "execution_count": 11,
     "metadata": {},
     "output_type": "execute_result"
    }
   ],
   "source": [
    "bYY[:20]"
   ]
  },
  {
   "cell_type": "code",
   "execution_count": 12,
   "metadata": {
    "collapsed": false
   },
   "outputs": [
    {
     "data": {
      "text/plain": [
       "array([[ 1.],\n",
       "       [-1.],\n",
       "       [-1.],\n",
       "       [ 1.],\n",
       "       [ 1.],\n",
       "       [ 1.],\n",
       "       [-1.],\n",
       "       [ 1.],\n",
       "       [-1.],\n",
       "       [ 1.],\n",
       "       [ 1.],\n",
       "       [-1.],\n",
       "       [-1.],\n",
       "       [-1.],\n",
       "       [ 1.],\n",
       "       [ 1.],\n",
       "       [-1.],\n",
       "       [ 1.],\n",
       "       [ 1.],\n",
       "       [-1.]])"
      ]
     },
     "execution_count": 12,
     "metadata": {},
     "output_type": "execute_result"
    }
   ],
   "source": [
    "byte.T[:20]"
   ]
  },
  {
   "cell_type": "code",
   "execution_count": 15,
   "metadata": {
    "collapsed": false
   },
   "outputs": [
    {
     "data": {
      "text/plain": [
       "array([ 1.        ,  1.44444444,  1.88888889,  2.33333333,  2.77777778,\n",
       "        3.22222222,  3.66666667,  4.11111111,  4.55555556,  5.        ])"
      ]
     },
     "execution_count": 15,
     "metadata": {},
     "output_type": "execute_result"
    }
   ],
   "source": [
    "np.linspace(1,5,10)"
   ]
  },
  {
   "cell_type": "code",
   "execution_count": 137,
   "metadata": {
    "collapsed": false
   },
   "outputs": [
    {
     "ename": "NameError",
     "evalue": "name 'self' is not defined",
     "output_type": "error",
     "traceback": [
      "\u001b[0;31m---------------------------------------------------------------------------\u001b[0m",
      "\u001b[0;31mNameError\u001b[0m                                 Traceback (most recent call last)",
      "\u001b[0;32m<ipython-input-137-49d52abae118>\u001b[0m in \u001b[0;36m<module>\u001b[0;34m()\u001b[0m\n\u001b[0;32m----> 1\u001b[0;31m \u001b[0;32mif\u001b[0m\u001b[0;34m(\u001b[0m\u001b[0mself\u001b[0m\u001b[0;34m.\u001b[0m\u001b[0mc\u001b[0m\u001b[0;34m==\u001b[0m\u001b[0;36m0\u001b[0m\u001b[0;34m)\u001b[0m\u001b[0;34m:\u001b[0m\u001b[0;34m\u001b[0m\u001b[0m\n\u001b[0m\u001b[1;32m      2\u001b[0m     \u001b[0mD\u001b[0m\u001b[0;34m,\u001b[0m \u001b[0mU\u001b[0m \u001b[0;34m=\u001b[0m\u001b[0mnp\u001b[0m\u001b[0;34m.\u001b[0m\u001b[0mlinalg\u001b[0m\u001b[0;34m.\u001b[0m\u001b[0meigh\u001b[0m\u001b[0;34m(\u001b[0m\u001b[0mK\u001b[0m\u001b[0;34m)\u001b[0m\u001b[0;34m\u001b[0m\u001b[0m\n\u001b[1;32m      3\u001b[0m     \u001b[0mc\u001b[0m \u001b[0;34m=\u001b[0m \u001b[0mnp\u001b[0m\u001b[0;34m.\u001b[0m\u001b[0mlogspace\u001b[0m\u001b[0;34m(\u001b[0m\u001b[0;34m-\u001b[0m\u001b[0;36m2\u001b[0m\u001b[0;34m,\u001b[0m\u001b[0;36m2\u001b[0m\u001b[0;34m,\u001b[0m\u001b[0;36m10\u001b[0m\u001b[0;34m)\u001b[0m\u001b[0;34m\u001b[0m\u001b[0m\n\u001b[1;32m      4\u001b[0m     \u001b[0mcc\u001b[0m \u001b[0;34m=\u001b[0m \u001b[0mc\u001b[0m\u001b[0;34m.\u001b[0m\u001b[0mreshape\u001b[0m\u001b[0;34m(\u001b[0m\u001b[0mlen\u001b[0m\u001b[0;34m(\u001b[0m\u001b[0mc\u001b[0m\u001b[0;34m)\u001b[0m\u001b[0;34m,\u001b[0m\u001b[0;36m1\u001b[0m\u001b[0;34m,\u001b[0m\u001b[0;36m1\u001b[0m\u001b[0;34m)\u001b[0m\u001b[0;34m\u001b[0m\u001b[0m\n\u001b[1;32m      5\u001b[0m     \u001b[0mbr\u001b[0m \u001b[0;34m=\u001b[0m \u001b[0mnp\u001b[0m\u001b[0;34m.\u001b[0m\u001b[0mones\u001b[0m\u001b[0;34m(\u001b[0m\u001b[0;34m(\u001b[0m\u001b[0mlen\u001b[0m\u001b[0;34m(\u001b[0m\u001b[0mc\u001b[0m\u001b[0;34m)\u001b[0m\u001b[0;34m,\u001b[0m\u001b[0;36m1\u001b[0m\u001b[0;34m,\u001b[0m\u001b[0;36m1\u001b[0m\u001b[0;34m)\u001b[0m\u001b[0;34m)\u001b[0m\u001b[0;34m\u001b[0m\u001b[0m\n",
      "\u001b[0;31mNameError\u001b[0m: name 'self' is not defined"
     ]
    }
   ],
   "source": [
    "        if(self.c==0):\n",
    "            D, U =np.linalg.eigh(K)\n",
    "            c = np.logspace(-2,2,10)\n",
    "            cc = c.reshape(len(c),1,1)\n",
    "            br = np.ones((len(c),1,1))\n",
    "            I = np.eye(len(K))*br\n",
    "            KK=br*K\n",
    "            KCI=KK +(I*cc)\n",
    "            KCI_inv=np.linalg.solve(KK+0.0000001*I,I)\n",
    "            S = np.dot(KCI_inv.transpose(0,2,1),KK.T).transpose(0,2,1)\n",
    "            SY = np.dot(S,Y.reshape(len(Y),1))\n",
    "            diag=np.dot(I*S,np.ones((len(Y),1)))-1\n",
    "            err = (((Y.reshape(len(Y),1)*br-SY)/diag)**2).mean(1)\n",
    "            cidx=np.argmin(err[:,0])\n",
    "            self.c = c[cidx]\n",
    "            self.regularization =  c[cidx]"
   ]
  },
  {
   "cell_type": "code",
   "execution_count": 149,
   "metadata": {
    "collapsed": false
   },
   "outputs": [],
   "source": [
    "KK = np.ones((5,5))\n",
    "D, U =np.linalg.eigh(KK)\n",
    "c = np.logspace(-2,2,10)\n",
    "cc = c.reshape(len(c),1,1)\n",
    "br = np.ones((len(c),1,1))\n",
    "I = np.eye(len(KK))*br\n",
    "KKK=br*KK\n",
    "KCI=KKK +(I*cc)"
   ]
  },
  {
   "cell_type": "code",
   "execution_count": 150,
   "metadata": {
    "collapsed": false
   },
   "outputs": [],
   "source": [
    "KCI_inv=np.linalg.solve(KKK+0.0000001*I,I)"
   ]
  },
  {
   "cell_type": "code",
   "execution_count": 158,
   "metadata": {
    "collapsed": false
   },
   "outputs": [
    {
     "name": "stdout",
     "output_type": "stream",
     "text": [
      "(10, 5, 1)\n"
     ]
    }
   ],
   "source": [
    "S=np.dot(KCI_inv.transpose(0,2,1),KK.T).transpose(0,2,1)\n",
    "print((np.dot(S,np.ones((5,1)))-(np.ones(5).reshape(5,1)*br)).shape)"
   ]
  },
  {
   "cell_type": "code",
   "execution_count": 170,
   "metadata": {
    "collapsed": false
   },
   "outputs": [
    {
     "data": {
      "text/plain": [
       "0"
      ]
     },
     "execution_count": 170,
     "metadata": {},
     "output_type": "execute_result"
    }
   ],
   "source": [
    "(np.ones(5).reshape(5,1)*br)\n",
    "err = np.dot(I*S,np.ones((5,1))).mean(1)\n",
    "np.argmin(err[:,0])"
   ]
  },
  {
   "cell_type": "code",
   "execution_count": 133,
   "metadata": {
    "collapsed": false
   },
   "outputs": [
    {
     "data": {
      "text/plain": [
       "array([[[ 12.,  18.],\n",
       "        [ 12.,  18.]],\n",
       "\n",
       "       [[  8.,  12.],\n",
       "        [  8.,  12.]],\n",
       "\n",
       "       [[  4.,   6.],\n",
       "        [  4.,   6.]]])"
      ]
     },
     "execution_count": 133,
     "metadata": {},
     "output_type": "execute_result"
    }
   ],
   "source": [
    "tre = np.array(([np.array([[1,2],[3,4]])*3],[np.array([[1,2],[3,4]])*2],[np.array([[1,2],[3,4]])]))\n",
    "tre=tre.reshape(3,2,2)\n",
    "np.dot(tre.transpose(0,2,1),np.ones((2,2))).transpose(0,2,1)"
   ]
  },
  {
   "cell_type": "code",
   "execution_count": 134,
   "metadata": {
    "collapsed": false
   },
   "outputs": [
    {
     "data": {
      "text/plain": [
       "array([[[ 3,  6],\n",
       "        [ 9, 12]],\n",
       "\n",
       "       [[ 2,  4],\n",
       "        [ 6,  8]],\n",
       "\n",
       "       [[ 1,  2],\n",
       "        [ 3,  4]]])"
      ]
     },
     "execution_count": 134,
     "metadata": {},
     "output_type": "execute_result"
    }
   ],
   "source": [
    "tre"
   ]
  },
  {
   "cell_type": "code",
   "execution_count": 43,
   "metadata": {
    "collapsed": false
   },
   "outputs": [],
   "source": [
    "n = 30\n",
    "bins =100\n",
    "m=0\n",
    "k=1\n",
    "thres = np.linspace(m,k,bins).reshape(bins,1)*np.ones((1 ,n))\n",
    "dt = np.random.rand(1,n)*np.ones((bins ,1))"
   ]
  },
  {
   "cell_type": "code",
   "execution_count": 44,
   "metadata": {
    "collapsed": false
   },
   "outputs": [
    {
     "data": {
      "text/plain": [
       "array([[ 0.        ,  0.        ,  0.        , ...,  0.        ,\n",
       "         0.        ,  0.        ],\n",
       "       [ 0.01010101,  0.01010101,  0.01010101, ...,  0.01010101,\n",
       "         0.01010101,  0.01010101],\n",
       "       [ 0.02020202,  0.02020202,  0.02020202, ...,  0.02020202,\n",
       "         0.02020202,  0.02020202],\n",
       "       ..., \n",
       "       [ 0.97979798,  0.97979798,  0.97979798, ...,  0.97979798,\n",
       "         0.97979798,  0.97979798],\n",
       "       [ 0.98989899,  0.98989899,  0.98989899, ...,  0.98989899,\n",
       "         0.98989899,  0.98989899],\n",
       "       [ 1.        ,  1.        ,  1.        , ...,  1.        ,\n",
       "         1.        ,  1.        ]])"
      ]
     },
     "execution_count": 44,
     "metadata": {},
     "output_type": "execute_result"
    }
   ],
   "source": [
    "thres "
   ]
  },
  {
   "cell_type": "code",
   "execution_count": 45,
   "metadata": {
    "collapsed": false
   },
   "outputs": [
    {
     "name": "stdout",
     "output_type": "stream",
     "text": [
      "(100, 30)\n"
     ]
    },
    {
     "data": {
      "text/plain": [
       "array([[ 0.38149921,  0.20358727,  0.55023084, ...,  0.67838531,\n",
       "         0.10459124,  0.23955756],\n",
       "       [ 0.38149921,  0.20358727,  0.55023084, ...,  0.67838531,\n",
       "         0.10459124,  0.23955756],\n",
       "       [ 0.38149921,  0.20358727,  0.55023084, ...,  0.67838531,\n",
       "         0.10459124,  0.23955756],\n",
       "       ..., \n",
       "       [ 0.38149921,  0.20358727,  0.55023084, ...,  0.67838531,\n",
       "         0.10459124,  0.23955756],\n",
       "       [ 0.38149921,  0.20358727,  0.55023084, ...,  0.67838531,\n",
       "         0.10459124,  0.23955756],\n",
       "       [ 0.38149921,  0.20358727,  0.55023084, ...,  0.67838531,\n",
       "         0.10459124,  0.23955756]])"
      ]
     },
     "execution_count": 45,
     "metadata": {},
     "output_type": "execute_result"
    }
   ],
   "source": [
    "print(dt.shape)\n",
    "dt"
   ]
  },
  {
   "cell_type": "code",
   "execution_count": 48,
   "metadata": {
    "collapsed": false
   },
   "outputs": [
    {
     "data": {
      "text/plain": [
       "array([[1, 1, 1, ..., 1, 1, 1],\n",
       "       [1, 1, 1, ..., 1, 1, 1],\n",
       "       [1, 1, 1, ..., 1, 1, 1],\n",
       "       ..., \n",
       "       [0, 0, 0, ..., 0, 0, 0],\n",
       "       [0, 0, 0, ..., 0, 0, 0],\n",
       "       [0, 0, 0, ..., 0, 0, 0]])"
      ]
     },
     "execution_count": 48,
     "metadata": {},
     "output_type": "execute_result"
    }
   ],
   "source": [
    "(dt>thres).astype(np.int64) = n"
   ]
  },
  {
   "cell_type": "code",
   "execution_count": 133,
   "metadata": {
    "collapsed": false
   },
   "outputs": [
    {
     "data": {
      "text/plain": [
       "array([[1, 0, 1],\n",
       "       [1, 1, 0],\n",
       "       [1, 1, 1]])"
      ]
     },
     "execution_count": 133,
     "metadata": {},
     "output_type": "execute_result"
    }
   ],
   "source": [
    "prebl =np.array([[1,0,1],[1,1,0],[1,1,1]]) \n",
    "prebl"
   ]
  },
  {
   "cell_type": "code",
   "execution_count": 134,
   "metadata": {
    "collapsed": false
   },
   "outputs": [
    {
     "data": {
      "text/plain": [
       "array([[0, 0, 1],\n",
       "       [0, 1, 0],\n",
       "       [0, 1, 1]])"
      ]
     },
     "execution_count": 134,
     "metadata": {},
     "output_type": "execute_result"
    }
   ],
   "source": [
    "comp=(np.array([[1,0,1],[1,1,0],[1,1,1]]) == np.array([0,1,1])).astype(np.int64)\n",
    "comp"
   ]
  },
  {
   "cell_type": "code",
   "execution_count": 135,
   "metadata": {
    "collapsed": false
   },
   "outputs": [
    {
     "data": {
      "text/plain": [
       "array([[-1,  0,  0],\n",
       "       [-1,  0,  0],\n",
       "       [-1,  0,  0]])"
      ]
     },
     "execution_count": 135,
     "metadata": {},
     "output_type": "execute_result"
    }
   ],
   "source": [
    "comp-prebl"
   ]
  },
  {
   "cell_type": "code",
   "execution_count": 67,
   "metadata": {
    "collapsed": false
   },
   "outputs": [
    {
     "data": {
      "text/plain": [
       "array([ 0.5,  0.5,  1. ])"
      ]
     },
     "execution_count": 67,
     "metadata": {},
     "output_type": "execute_result"
    }
   ],
   "source": [
    "ps =  np.array([0,1,1]).sum()\n",
    "tpn = (prebl*comp).sum(1)\n",
    "tpr = tpn/ps\n",
    "tpr"
   ]
  },
  {
   "cell_type": "code",
   "execution_count": 69,
   "metadata": {
    "collapsed": false
   },
   "outputs": [
    {
     "data": {
      "text/plain": [
       "array([1, 1, 1])"
      ]
     },
     "execution_count": 69,
     "metadata": {},
     "output_type": "execute_result"
    }
   ],
   "source": [
    "fpn = -(comp-prebl).sum(1)\n",
    "fpr = fpn"
   ]
  },
  {
   "cell_type": "code",
   "execution_count": 70,
   "metadata": {
    "collapsed": false
   },
   "outputs": [
    {
     "data": {
      "text/plain": [
       "array([[0],\n",
       "       [1]])"
      ]
     },
     "execution_count": 70,
     "metadata": {},
     "output_type": "execute_result"
    }
   ],
   "source": [
    "np.array([[0],[1]])"
   ]
  },
  {
   "cell_type": "code",
   "execution_count": 78,
   "metadata": {
    "collapsed": false
   },
   "outputs": [
    {
     "data": {
      "text/plain": [
       "array([ 0.,  1.,  1.])"
      ]
     },
     "execution_count": 78,
     "metadata": {},
     "output_type": "execute_result"
    }
   ],
   "source": [
    "np.linalg.norm(comp[:2,:],axis=0)"
   ]
  },
  {
   "cell_type": "code",
   "execution_count": 85,
   "metadata": {
    "collapsed": false
   },
   "outputs": [
    {
     "data": {
      "text/plain": [
       "array([[0, 1, 2, 3, 4, 5, 6],\n",
       "       [0, 1, 2, 3, 4, 5, 6]])"
      ]
     },
     "execution_count": 85,
     "metadata": {},
     "output_type": "execute_result"
    }
   ],
   "source": [
    "np.append(np.arange(7).reshape(1,7),np.arange(7).reshape(1,7),0)"
   ]
  },
  {
   "cell_type": "code",
   "execution_count": null,
   "metadata": {
    "collapsed": true
   },
   "outputs": [],
   "source": []
  }
 ],
 "metadata": {
  "kernelspec": {
   "display_name": "Python 3",
   "language": "python",
   "name": "python3"
  },
  "language_info": {
   "codemirror_mode": {
    "name": "ipython",
    "version": 3
   },
   "file_extension": ".py",
   "mimetype": "text/x-python",
   "name": "python",
   "nbconvert_exporter": "python",
   "pygments_lexer": "ipython3",
   "version": "3.5.2"
  }
 },
 "nbformat": 4,
 "nbformat_minor": 2
}
