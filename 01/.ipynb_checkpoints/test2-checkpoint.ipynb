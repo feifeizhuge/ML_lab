{
 "cells": [
  {
   "cell_type": "code",
   "execution_count": 1,
   "metadata": {
    "collapsed": false
   },
   "outputs": [
    {
     "name": "stdout",
     "output_type": "stream",
     "text": [
      "[[ 1.  1.  1.  1.  1.]\n",
      " [ 1.  1.  1.  1.  1.]\n",
      " [ 1.  1.  1.  1.  1.]]\n",
      "[[ 0.  0.  0.  0.  0.]\n",
      " [ 0.  0.  0.  0.  0.]]\n",
      "[[ 1.  1.  1.  1.  1.]\n",
      " [ 1.  1.  1.  1.  1.]\n",
      " [ 1.  1.  1.  1.  1.]\n",
      " [ 0.  0.  0.  0.  0.]\n",
      " [ 0.  0.  0.  0.  0.]]\n",
      "[[ 0.  0.  0.  0.  0.]\n",
      " [ 0.  0.  0.  0.  0.]\n",
      " [ 1.  1.  1.  1.  1.]\n",
      " [ 1.  1.  1.  1.  1.]\n",
      " [ 1.  1.  1.  1.  1.]]\n",
      "[[ 0.  0.  0.  0.  0.]\n",
      " [ 1.  1.  1.  1.  1.]\n",
      " [ 1.  1.  1.  1.  1.]\n",
      " [ 1.  1.  1.  1.  1.]]\n",
      "[ 0.  0.  5.  5.  5.]\n",
      "[ 3.  3.  3.  3.  3.]\n",
      "[ 5.  5.  5.  0.  0.]\n",
      "[ 0  1  2  3  4  5  6  7  8  9 10 11 12 13 14 15 16 17 18 19 20 21 22 23 24]\n"
     ]
    }
   ],
   "source": [
    "import unittest\n",
    "\n",
    "import numpy as np\n",
    "import numpy.testing as npt\n",
    "from scipy.linalg import expm\n",
    "import matplotlib.pyplot as plt\n",
    "k = 3\n",
    "a = np.ones([k,5])\n",
    "print(a)\n",
    "b = np.zeros((5-k,5))\n",
    "print(b)\n",
    "ab= np.append(a, b,axis=0)\n",
    "print(ab)\n",
    "ba= np.append(b,a,axis=0)\n",
    "print(ba)\n",
    "print(ba[1:5])\n",
    "print(np.sum(ba,axis=1))\n",
    "summe = np.sum(ba,axis=0)\n",
    "print(summe)\n",
    "print(ab.sum(1))\n",
    "print(np.arange(0,25))"
   ]
  },
  {
   "cell_type": "code",
   "execution_count": 3,
   "metadata": {
    "collapsed": false
   },
   "outputs": [
    {
     "name": "stdout",
     "output_type": "stream",
     "text": [
      "[[[1 2 3]\n",
      "  [2 1 3]\n",
      "  [3 1 2]]\n",
      "\n",
      " [[1 2 3]\n",
      "  [2 1 3]\n",
      "  [3 1 2]]\n",
      "\n",
      " [[1 2 3]\n",
      "  [2 1 3]\n",
      "  [3 1 2]]]\n",
      "[[[ 0  0  0]\n",
      "  [ 1 -1  0]\n",
      "  [ 2 -1 -1]]\n",
      "\n",
      " [[-1  1  0]\n",
      "  [ 0  0  0]\n",
      "  [ 1  0 -1]]\n",
      "\n",
      " [[-2  1  1]\n",
      "  [-1  0  1]\n",
      "  [ 0  0  0]]]\n",
      "[[[0 1 2]\n",
      "  [1 0 2]\n",
      "  [1 2 0]]\n",
      "\n",
      " [[0 1 2]\n",
      "  [1 0 2]\n",
      "  [1 2 0]]\n",
      "\n",
      " [[0 1 2]\n",
      "  [1 0 2]\n",
      "  [1 2 0]]]\n",
      "[[[1 2 3]\n",
      "  [1 2 3]\n",
      "  [1 2 3]]\n",
      "\n",
      " [[1 2 3]\n",
      "  [1 2 3]\n",
      "  [1 2 3]]\n",
      "\n",
      " [[1 2 3]\n",
      "  [1 2 3]\n",
      "  [1 2 3]]]\n",
      "[[[1 2 3]\n",
      "  [2 1 3]\n",
      "  [3 1 2]]\n",
      "\n",
      " [[1 2 3]\n",
      "  [2 1 3]\n",
      "  [3 1 2]]\n",
      "\n",
      " [[1 2 3]\n",
      "  [2 1 3]\n",
      "  [3 1 2]]]\n"
     ]
    }
   ],
   "source": [
    "t = np.array((([1,2,3],[2,1,3],[3,1,2]),([1,2,3],[2,1,3],[3,1,2]),([1,2,3],[2,1,3],[3,1,2])))\n",
    "print(t)\n",
    "print(t-np.array(([1,2,3],[2,1,3],[3,1,2])).reshape(3,1,3))\n",
    "print(np.argsort(t, axis=2))\n",
    "print(np.sort(t, axis=2))\n",
    "print(np.sort(t[0],axis=1))"
   ]
  },
  {
   "cell_type": "code",
   "execution_count": 23,
   "metadata": {
    "collapsed": false
   },
   "outputs": [
    {
     "data": {
      "text/plain": [
       "array([[[ 1.,  2.,  3.],\n",
       "        [ 2.,  1.,  3.]],\n",
       "\n",
       "       [[ 1.,  2.,  3.],\n",
       "        [ 2.,  1.,  3.]],\n",
       "\n",
       "       [[ 1.,  2.,  3.],\n",
       "        [ 2.,  1.,  3.]],\n",
       "\n",
       "       [[ 1.,  2.,  3.],\n",
       "        [ 2.,  1.,  3.]],\n",
       "\n",
       "       [[ 1.,  2.,  3.],\n",
       "        [ 2.,  1.,  3.]],\n",
       "\n",
       "       [[ 1.,  2.,  3.],\n",
       "        [ 2.,  1.,  3.]],\n",
       "\n",
       "       [[ 1.,  2.,  3.],\n",
       "        [ 2.,  1.,  3.]],\n",
       "\n",
       "       [[ 1.,  2.,  3.],\n",
       "        [ 2.,  1.,  3.]],\n",
       "\n",
       "       [[ 1.,  2.,  3.],\n",
       "        [ 2.,  1.,  3.]],\n",
       "\n",
       "       [[ 1.,  2.,  3.],\n",
       "        [ 2.,  1.,  3.]]])"
      ]
     },
     "execution_count": 23,
     "metadata": {},
     "output_type": "execute_result"
    }
   ],
   "source": [
    "emp=np.empty((10,3,3))\n",
    "emp[:] = np.array(([1,2,3],[2,1,3],[3,1,2]))\n",
    "emp[:,:2,:3]"
   ]
  },
  {
   "cell_type": "code",
   "execution_count": 2,
   "metadata": {
    "collapsed": false
   },
   "outputs": [
    {
     "name": "stdout",
     "output_type": "stream",
     "text": [
      "[1 2 3]\n",
      "[[ 1.  0.  0.  0.  0.]\n",
      " [ 0.  1.  0.  0.  0.]\n",
      " [ 0.  0.  1.  0.  0.]\n",
      " [ 0.  0.  0.  1.  0.]\n",
      " [ 0.  0.  0.  0.  1.]]\n",
      "[[ 1.  0.  0.  0.  0.]\n",
      " [ 0.  1.  0.  0.  0.]\n",
      " [ 0.  1.  2.  3.  0.]\n",
      " [ 0.  0.  0.  1.  0.]\n",
      " [ 0.  0.  0.  0.  1.]]\n",
      "[1 2]\n"
     ]
    }
   ],
   "source": [
    "tres = np.array([1,2,3])\n",
    "dig = np.eye(5)\n",
    "print(tres)\n",
    "print(dig)\n",
    "dig[2,[1,2,3]] = tres\n",
    "print(dig)\n",
    "print(tres[0:2])"
   ]
  },
  {
   "cell_type": "code",
   "execution_count": 3,
   "metadata": {
    "collapsed": false
   },
   "outputs": [],
   "source": [
    "import unittest"
   ]
  },
  {
   "cell_type": "code",
   "execution_count": 4,
   "metadata": {
    "collapsed": false
   },
   "outputs": [
    {
     "ename": "SyntaxError",
     "evalue": "invalid syntax (<ipython-input-4-f0809b095f8e>, line 10)",
     "output_type": "error",
     "traceback": [
      "\u001b[0;36m  File \u001b[0;32m\"<ipython-input-4-f0809b095f8e>\"\u001b[0;36m, line \u001b[0;32m10\u001b[0m\n\u001b[0;31m    res tes.auc(np.array([-1, -1, -1, +1, +1]), np.array([0.3, 0.4, 0.5, 0.6, 0.7]), True)\u001b[0m\n\u001b[0m          ^\u001b[0m\n\u001b[0;31mSyntaxError\u001b[0m\u001b[0;31m:\u001b[0m invalid syntax\n"
     ]
    }
   ],
   "source": [
    "import numpy as np\n",
    "import numpy.testing as npt\n",
    "from scipy.linalg import expm\n",
    "import matplotlib.pyplot as plt\n",
    "import sheet1 as imp\n",
    "%matplotlib inline\n",
    "\n",
    "X = np.reshape(np.arange(12), (4, 3))\n",
    "tes = imp.PCA(X)\n",
    "res tes.auc(np.array([-1, -1, -1, +1, +1]), np.array([0.3, 0.4, 0.5, 0.6, 0.7]), True)"
   ]
  },
  {
   "cell_type": "code",
   "execution_count": 25,
   "metadata": {
    "collapsed": false
   },
   "outputs": [
    {
     "name": "stdout",
     "output_type": "stream",
     "text": [
      "[ 10.74666971   0.           5.78897057  14.22013405   6.45246315\n",
      "  10.24391673   5.32993805   6.02900681]\n",
      "[6 2 7 4 5 0 3]\n",
      "[  5.32993805   5.78897057   6.02900681   6.45246315  10.24391673\n",
      "  10.74666971  14.22013405]\n",
      "4\n",
      "[[-0.60816771  0.19698325 -0.64505287]\n",
      " [ 2.21782339 -2.87329754  1.52057908]\n",
      " [ 0.949392    0.501492   -1.40056678]\n",
      " [-0.66148001 -2.61778483 -1.18025355]]\n",
      "[ 0.          0.          0.23147058  0.         -0.17962376  0.\n",
      "  0.97092408 -0.0227709 ]\n",
      "1.0\n"
     ]
    }
   ],
   "source": [
    "import numpy as np\n",
    "import numpy.testing as npt\n",
    "from scipy.linalg import expm\n",
    "import matplotlib.pyplot as plt\n",
    "from mpl_toolkits.mplot3d.axes3d import Axes3D\n",
    "import scipy.spatial, scipy.linalg\n",
    "import scipy.sparse.linalg\n",
    "%matplotlib inline\n",
    "\n",
    "\n",
    "X = np.array([[ -2.133268233289599,   0.903819474847349,   2.217823388231679, -0.444779660856219,\n",
    "                -0.661480010318842,  -0.163814281248453,  -0.608167714051449,  0.949391996219125],\n",
    "              [ -1.273486742804804,  -1.270450725314960,  -2.873297536940942,   1.819616794091556,\n",
    "                -2.617784834189455,   1.706200163080549,   0.196983250752276,   0.501491995499840],\n",
    "              [ -0.935406638147949,   0.298594472836292,   1.520579082270122,  -1.390457671168661,\n",
    "                -1.180253547776717,  -0.194988736923602,  -0.645052874385757,  -1.400566775105519]]).T\n",
    "\n",
    "\n",
    "data = X\n",
    "Y = X\n",
    "N = len(data)\n",
    "W = np.zeros([N,N]) # matrix for storing reconstruction weights\n",
    "M = np.zeros([N,N]) # matrix M of which eigenvectors are computed\n",
    "E = np.zeros([N,2]) # eigenvectors of M forming the embedding\n",
    "\n",
    "# compute distance matrix (skips sqrt computation)\n",
    "X2 = (data**2).sum(1) + np.zeros([N,1])\n",
    "D = X2 - 2*(data.dot(data.T)) + X2.T\n",
    "x = data[1] \n",
    "mins = np.argsort(D[1])[1:len(D[1])]\n",
    "print(D[1])\n",
    "print(mins)\n",
    "srtd = D[1][mins]\n",
    "print(srtd)\n",
    "X = data[mins]\n",
    "dd = len(srtd[np.where(srtd<10)])\n",
    "print(dd)\n",
    "X = X[0:dd]\n",
    "print(X)\n",
    "C_inv = np.linalg.inv((X).dot(X.T) + 0.05*np.eye(len(X)))\n",
    "W[1,mins[0:dd]] = C_inv.sum(1)/C_inv.sum()\n",
    "print(W[1])\n",
    "print(W[1].sum())\n",
    "\n"
   ]
  },
  {
   "cell_type": "code",
   "execution_count": null,
   "metadata": {
    "collapsed": true
   },
   "outputs": [],
   "source": []
  }
 ],
 "metadata": {
  "kernelspec": {
   "display_name": "Python 3",
   "language": "python",
   "name": "python3"
  },
  "language_info": {
   "codemirror_mode": {
    "name": "ipython",
    "version": 3
   },
   "file_extension": ".py",
   "mimetype": "text/x-python",
   "name": "python",
   "nbconvert_exporter": "python",
   "pygments_lexer": "ipython3",
   "version": "3.5.2"
  }
 },
 "nbformat": 4,
 "nbformat_minor": 2
}
