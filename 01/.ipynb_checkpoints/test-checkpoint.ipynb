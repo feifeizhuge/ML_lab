{
 "cells": [
  {
   "cell_type": "code",
   "execution_count": 29,
   "metadata": {
    "collapsed": false
   },
   "outputs": [
    {
     "name": "stdout",
     "output_type": "stream",
     "text": [
      "[[0 1 2]\n",
      " [3 4 5]]\n",
      "3\n",
      "[[ 1.]\n",
      " [ 1.]\n",
      " [ 1.]]\n",
      "[[  3.]\n",
      " [ 12.]]\n",
      "[[ 1.  0.  0.  0.  0.]\n",
      " [ 0.  1.  0.  0.  0.]\n",
      " [ 0.  0.  1.  0.  0.]\n",
      " [ 0.  0.  0.  1.  0.]\n",
      " [ 0.  0.  0.  0.  1.]]\n",
      "[[0 1]\n",
      " [3 4]]\n",
      "[1 4]\n",
      "[3 4]\n",
      "[ 4 19]\n",
      "19\n",
      "(2, 3)\n",
      "[[  0.00000000e+000   4.94065646e-324   9.88131292e-324]\n",
      " [  1.48219694e-323   1.97626258e-323   2.47032823e-323]]\n",
      "[[  0.00000000e+000   1.00000000e+000   2.00000000e+000]\n",
      " [  1.48219694e-323   1.97626258e-323   2.47032823e-323]]\n",
      "[3 5 7]\n",
      "[[1 0 2]\n",
      " [4 3 5]]\n",
      "[[1 2]\n",
      " [4 5]]\n",
      "[0 1 2 3]\n",
      "[0 1]\n",
      "[4 5]\n",
      "(array([1, 2]),)\n"
     ]
    }
   ],
   "source": [
    "import unittest\n",
    "\n",
    "import numpy as np\n",
    "import numpy.testing as npt\n",
    "from scipy.linalg import expm\n",
    "import matplotlib.pyplot as plt\n",
    "\n",
    "\n",
    "a = np.reshape(np.arange(6), (2, 3))\n",
    "print(a)\n",
    "print(len(a[0]))\n",
    "b=np.ones((3,1))\n",
    "print(b)\n",
    "print(np.dot(a,b))\n",
    "print(np.diag(np.ones(5)))\n",
    "k=3\n",
    "c = a[:,:2]\n",
    "print(c)\n",
    "print(c[:,1])\n",
    "print(c[1,:])\n",
    "print(np.dot(c,c[:,1]))\n",
    "print(np.dot(c[1,:],c[:,1]))\n",
    "print(a.shape)\n",
    "y = np.empty(a.shape)\n",
    "print(y)\n",
    "y[0]= a[0]\n",
    "print(y)\n",
    "sumx = sum(a[:,])\n",
    "print(sumx)\n",
    "print(a[:,[1,0,2]])\n",
    "print(a[:,-2:])\n",
    "print(np.arange(0,4))\n",
    "print(a[0][:2])\n",
    "print(a[1][np.where(a[1]>3)])\n",
    "print(np.where(a[1]>3))"
   ]
  },
  {
   "cell_type": "code",
   "execution_count": 32,
   "metadata": {
    "collapsed": false
   },
   "outputs": [
    {
     "name": "stdout",
     "output_type": "stream",
     "text": [
      "[[-2. -1.  0.]\n",
      " [ 1.  2.  3.]]\n",
      "[ 2.23606798  3.74165739]\n",
      "[]\n",
      "(array([2]),)\n"
     ]
    }
   ],
   "source": [
    "a = a - np.ones(3)\n",
    "print(a)\n",
    "print(a[1][np.where(a[1]>2)])\n",
    "print(np.where(a[1]>2))\n",
    "print(np.linalg.norm(a, axis =1))\n"
   ]
  },
  {
   "cell_type": "code",
   "execution_count": 3,
   "metadata": {
    "collapsed": false
   },
   "outputs": [
    {
     "name": "stdout",
     "output_type": "stream",
     "text": [
      "[1 4 2 8 3]\n",
      "[0 2 4 1 3]\n",
      "[1 2 3 4 8]\n",
      "[[ 0  1  2  3  4]\n",
      " [ 5  6  7  8  9]\n",
      " [10 11 12 13 14]]\n",
      "[[ 5  6  7  8  9]\n",
      " [10 11 12 13 14]\n",
      " [ 0  1  2  3  4]]\n",
      "[[ 5  6  7  8  9]\n",
      " [10 11 12 13 14]]\n"
     ]
    }
   ],
   "source": [
    "l = np.array([1,4,2,8,3])\n",
    "print(l)\n",
    "num = np.argsort(l)\n",
    "print(num)\n",
    "ll = l[num]\n",
    "print(ll)\n",
    "L = np.reshape(np.arange(15), (3, 5))\n",
    "print(L)\n",
    "X = L[[1,2,0]]\n",
    "print(X)\n",
    "print(X[:2])"
   ]
  },
  {
   "cell_type": "code",
   "execution_count": 4,
   "metadata": {
    "collapsed": false
   },
   "outputs": [
    {
     "data": {
      "text/plain": [
       "array([[  1.],\n",
       "       [  0.],\n",
       "       [  1.],\n",
       "       [  4.],\n",
       "       [  9.],\n",
       "       [ 16.]])"
      ]
     },
     "execution_count": 4,
     "metadata": {},
     "output_type": "execute_result"
    }
   ],
   "source": [
    "d = np.empty((6,1))\n",
    "d"
   ]
  },
  {
   "cell_type": "code",
   "execution_count": 5,
   "metadata": {
    "collapsed": false
   },
   "outputs": [
    {
     "name": "stdout",
     "output_type": "stream",
     "text": [
      "[[0 1 2]\n",
      " [3 4 5]]\n",
      "[1 2 3]\n",
      "[[1 2 3]\n",
      " [3 4 5]]\n",
      "[[ 0.  1.  2.]\n",
      " [ 2.  3.  4.]]\n",
      "[ 2.          3.16227766  4.47213595]\n",
      "[[ 2.          3.16227766  4.47213595]\n",
      " [ 2.          3.          4.        ]]\n"
     ]
    }
   ],
   "source": [
    "s = np.reshape(np.arange(6), (2, 3))\n",
    "print(s)\n",
    "print(np.array([1,2,3]))\n",
    "s[0] = np.array([1,2,3])\n",
    "print(s)\n",
    "s = s - np.ones(3)\n",
    "print(s)\n",
    "print(np.linalg.norm(s, axis =0))\n",
    "s[0] = np.linalg.norm(s, axis =0)\n",
    "print(s)"
   ]
  },
  {
   "cell_type": "code",
   "execution_count": 6,
   "metadata": {
    "collapsed": false
   },
   "outputs": [
    {
     "name": "stdout",
     "output_type": "stream",
     "text": [
      "[[4 1 3]\n",
      " [4 5 6]]\n",
      "[1 2 0]\n",
      "[[1 5]\n",
      " [3 6]\n",
      " [4 4]]\n",
      "[[1 3 4]\n",
      " [5 6 4]]\n"
     ]
    }
   ],
   "source": [
    "h = np.array(([4,1,3],[4,5,6]))\n",
    "print(h)\n",
    "num = np.argsort(h[0])\n",
    "print(num)\n",
    "ht = h.T\n",
    "ht = ht[num]\n",
    "print(ht)\n",
    "h = ht.T\n",
    "print(h)"
   ]
  },
  {
   "cell_type": "code",
   "execution_count": 7,
   "metadata": {
    "collapsed": false
   },
   "outputs": [
    {
     "name": "stdout",
     "output_type": "stream",
     "text": [
      "[[ 1  1  3  4  5]\n",
      " [ 1 -1  1  1 -1]]\n",
      "(array([1, 4]),)\n",
      "[[1 1 3 4 5]\n",
      " [1 0 1 1 0]]\n"
     ]
    }
   ],
   "source": [
    "f= np.array(([1,1,3,4,5],[1,-1,1,1,-1]))\n",
    "print(f)\n",
    "print(np.where(f[1]==-1))\n",
    "f[1][np.where(f[1]==-1)] = 0\n",
    "print(f)"
   ]
  },
  {
   "cell_type": "code",
   "execution_count": 10,
   "metadata": {
    "collapsed": false
   },
   "outputs": [
    {
     "name": "stdout",
     "output_type": "stream",
     "text": [
      "[[ 1.]\n",
      " [ 1.]\n",
      " [ 1.]\n",
      " [ 1.]\n",
      " [ 1.]]\n",
      "[[ 1.  1.  1.  1.  1.]\n",
      " [ 1.  1.  1.  1.  1.]\n",
      " [ 1.  1.  1.  1.  1.]\n",
      " [ 1.  1.  1.  1.  1.]\n",
      " [ 1.  1.  1.  1.  1.]]\n"
     ]
    }
   ],
   "source": [
    "one = np.ones((5,1))\n",
    "print(one)\n",
    "print(np.dot(one,one.T))"
   ]
  },
  {
   "cell_type": "code",
   "execution_count": 11,
   "metadata": {
    "collapsed": false
   },
   "outputs": [
    {
     "name": "stdout",
     "output_type": "stream",
     "text": [
      "[]\n",
      "[]\n",
      "[[ 1.]\n",
      " [ 1.]\n",
      " [ 1.]\n",
      " [ 1.]\n",
      " [ 1.]]\n"
     ]
    }
   ],
   "source": [
    "one = np.ones((5,1))\n",
    "aaa =np.arange(0,0)\n",
    "print(aaa)\n",
    "print(one[aaa])\n",
    "one[aaa] = 0\n",
    "print(one)"
   ]
  },
  {
   "cell_type": "code",
   "execution_count": 38,
   "metadata": {
    "collapsed": false
   },
   "outputs": [
    {
     "name": "stdout",
     "output_type": "stream",
     "text": [
      "[[ 1.  1.]\n",
      " [ 1.  1.]\n",
      " [ 1.  1.]]\n",
      "[[1 0]\n",
      " [0 1]]\n",
      "[[ 1.  0.]\n",
      " [ 0.  1.]]\n",
      "[[ 1.]\n",
      " [ 1.]]\n",
      "[[ 0.  0.]\n",
      " [ 0.  0.]]\n",
      "[[ 0.]\n",
      " [ 0.]]\n",
      "[[1]\n",
      " [0]]\n",
      "[[ 0.  1.]\n",
      " [ 0.  1.]]\n",
      "[[ 1.  2.]\n",
      " [ 1.  2.]]\n"
     ]
    }
   ],
   "source": [
    "aa = np.array(([1,0],[0,1]))\n",
    "zz= np.ones((3,2))\n",
    "print(zz)\n",
    "print(aa)\n",
    "print(np.linalg.inv(aa))\n",
    "one = np.ones((2,1))\n",
    "zero = np.zeros((2,2))\n",
    "print(one)\n",
    "print(zero)\n",
    "print(zero[:,[1]])\n",
    "print(aa[:,[0]])\n",
    "zero[:,[1]] = one\n",
    "print(zero)\n",
    "print(one + zero)"
   ]
  },
  {
   "cell_type": "code",
   "execution_count": null,
   "metadata": {
    "collapsed": true
   },
   "outputs": [],
   "source": []
  }
 ],
 "metadata": {
  "kernelspec": {
   "display_name": "Python 3",
   "language": "python",
   "name": "python3"
  },
  "language_info": {
   "codemirror_mode": {
    "name": "ipython",
    "version": 3
   },
   "file_extension": ".py",
   "mimetype": "text/x-python",
   "name": "python",
   "nbconvert_exporter": "python",
   "pygments_lexer": "ipython3",
   "version": "3.5.2"
  }
 },
 "nbformat": 4,
 "nbformat_minor": 2
}
